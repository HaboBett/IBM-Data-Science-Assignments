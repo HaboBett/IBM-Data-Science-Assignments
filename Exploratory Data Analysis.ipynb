{
    "cells": [
        {
            "metadata": {
                "tags": [],
                "cell_id": "fab7699440e94ac8b95e35f71a3ec62f",
                "deepnote_app_coordinates": {
                    "h": 5,
                    "w": 12,
                    "x": 0,
                    "y": 7
                },
                "deepnote_cell_type": "markdown"
            },
            "cell_type": "markdown",
            "source": "## Exploratory Data Analysis of Argentina Car Dataset"
        },
        {
            "metadata": {
                "tags": [],
                "cell_id": "c144145824654bb8adda1e494971d8c1",
                "deepnote_app_coordinates": {
                    "h": 5,
                    "w": 12,
                    "x": 0,
                    "y": 13
                },
                "deepnote_cell_type": "markdown"
            },
            "cell_type": "markdown",
            "source": "### Dataset Description"
        },
        {
            "metadata": {
                "tags": [],
                "cell_id": "e4f1661014f6466eb9ec51aa4b440e3d",
                "is_collapsed": false,
                "formattedRanges": [],
                "deepnote_app_coordinates": {
                    "h": 2,
                    "w": 8,
                    "x": 0,
                    "y": 19
                },
                "deepnote_cell_type": "text-cell-p"
            },
            "cell_type": "markdown",
            "source": "This data set consists of the following features :"
        },
        {
            "metadata": {
                "tags": [],
                "cell_id": "a1ad6867f6444e80a5f46f20968dd903",
                "deepnote_app_coordinates": {
                    "h": 5,
                    "w": 12,
                    "x": 0,
                    "y": 22
                },
                "deepnote_cell_type": "markdown"
            },
            "cell_type": "markdown",
            "source": "\n * **money**: the price of the car\n *  **brand**: the brand of the car\n * **model**: the model of the car\n * **year**: the year of the car\n * **color**: the color of the car\n * **fuel_type**: the fuel type used by the car\n * **door**: the door of the car\n * **gear**: the gear type of the car\n * **motor**: the motor type of the car\n * **body_type**: the body type of the car\n * **kilometers**: the kilometer of the car\n * **currency**: the currency of the price of car\n"
        },
        {
            "metadata": {
                "tags": [],
                "cell_id": "3ed8778763c44c67a329f9a5582a1bf0",
                "deepnote_app_coordinates": {
                    "h": 5,
                    "w": 12,
                    "x": 0,
                    "y": 28
                },
                "deepnote_cell_type": "markdown"
            },
            "cell_type": "markdown",
            "source": "### Task 1: Import the Libraries required for the analysis."
        },
        {
            "metadata": {
                "tags": [],
                "cell_id": "443a791ac9e14ee69454739112c2142e",
                "deepnote_app_coordinates": {
                    "h": 5,
                    "w": 12,
                    "x": 0,
                    "y": 34
                },
                "deepnote_cell_type": "markdown"
            },
            "cell_type": "markdown",
            "source": "The following libraries are required for the data analysis process:\n\n* **Pandas** - A python library used by Data Scientists and analysts to manipulate, wrangle and explore data.\n* **Matplotlib** - A comprehensive library for creating static, animated, and interactive visualizations in Python. Matplotlib makes easy things easy and hard things possible. \n* **Scipy** - A scientific Python library used to solve differential equations and carry out statistical work among other functions.\n* **Seaborn** - A Python data visualization library based on matplotlib. It provides a high-level interface for drawing attractive and informative statistical graphics.    "
        },
        {
            "metadata": {
                "tags": [],
                "cell_id": "9b1786bc29944a72b09384c2372bc60d",
                "source_hash": "1b8f492b",
                "execution_start": 1671889306628,
                "execution_millis": 1154,
                "deepnote_app_coordinates": {
                    "h": 5,
                    "w": 12,
                    "x": 0,
                    "y": 1
                },
                "deepnote_to_be_reexecuted": false,
                "deepnote_cell_type": "code"
            },
            "cell_type": "code",
            "source": "import pandas as pd\nimport numpy as np\nimport matplotlib.pyplot as plt\nimport scipy.stats as stats\nimport seaborn as sns\nimport os",
            "execution_count": 1,
            "outputs": []
        },
        {
            "metadata": {
                "tags": [],
                "cell_id": "48f5f7a969da451db2c483c444c55836",
                "deepnote_app_coordinates": {
                    "h": 5,
                    "w": 12,
                    "x": 0,
                    "y": 40
                },
                "deepnote_cell_type": "markdown"
            },
            "cell_type": "markdown",
            "source": "### Task 2: Importing the Dataset "
        },
        {
            "metadata": {
                "tags": [],
                "cell_id": "745baab4b36a49a7b05be650bd7956cb",
                "source_hash": "254423d5",
                "execution_start": 1671889307785,
                "execution_millis": 78,
                "deepnote_app_coordinates": {
                    "h": 5,
                    "w": 12,
                    "x": 0,
                    "y": 46
                },
                "deepnote_to_be_reexecuted": false,
                "deepnote_cell_type": "code"
            },
            "cell_type": "code",
            "source": "for filename in os.listdir('.'):\n    if not filename.startswith('argentina'):\n        continue\n    else:\n        df = pd.read_csv(filename)   \n\ndf.head()         ",
            "execution_count": 2,
            "outputs": [
                {
                    "output_type": "execute_result",
                    "execution_count": 2,
                    "data": {
                        "application/vnd.deepnote.dataframe.v3+json": {
                            "column_count": 12,
                            "row_count": 5,
                            "columns": [
                                {
                                    "name": "money",
                                    "dtype": "int64",
                                    "stats": {
                                        "unique_count": 5,
                                        "nan_count": 0,
                                        "min": "19000",
                                        "max": "10850000",
                                        "histogram": [
                                            {
                                                "bin_start": 19000,
                                                "bin_end": 1102100,
                                                "count": 2
                                            },
                                            {
                                                "bin_start": 1102100,
                                                "bin_end": 2185200,
                                                "count": 0
                                            },
                                            {
                                                "bin_start": 2185200,
                                                "bin_end": 3268300,
                                                "count": 0
                                            },
                                            {
                                                "bin_start": 3268300,
                                                "bin_end": 4351400,
                                                "count": 0
                                            },
                                            {
                                                "bin_start": 4351400,
                                                "bin_end": 5434500,
                                                "count": 0
                                            },
                                            {
                                                "bin_start": 5434500,
                                                "bin_end": 6517600,
                                                "count": 1
                                            },
                                            {
                                                "bin_start": 6517600,
                                                "bin_end": 7600700,
                                                "count": 0
                                            },
                                            {
                                                "bin_start": 7600700,
                                                "bin_end": 8683800,
                                                "count": 0
                                            },
                                            {
                                                "bin_start": 8683800,
                                                "bin_end": 9766900,
                                                "count": 0
                                            },
                                            {
                                                "bin_start": 9766900,
                                                "bin_end": 10850000,
                                                "count": 2
                                            }
                                        ]
                                    }
                                },
                                {
                                    "name": "brand",
                                    "dtype": "object",
                                    "stats": {
                                        "unique_count": 3,
                                        "nan_count": 0,
                                        "categories": [
                                            {
                                                "name": "Toyota",
                                                "count": 2
                                            },
                                            {
                                                "name": "Jeep",
                                                "count": 2
                                            },
                                            {
                                                "name": "Citro\u00ebn",
                                                "count": 1
                                            }
                                        ]
                                    }
                                },
                                {
                                    "name": "model",
                                    "dtype": "object",
                                    "stats": {
                                        "unique_count": 4,
                                        "nan_count": 0,
                                        "categories": [
                                            {
                                                "name": "Compass",
                                                "count": 2
                                            },
                                            {
                                                "name": "Corolla Cross",
                                                "count": 1
                                            },
                                            {
                                                "name": "2 others",
                                                "count": 2
                                            }
                                        ]
                                    }
                                },
                                {
                                    "name": "year",
                                    "dtype": "int64",
                                    "stats": {
                                        "unique_count": 2,
                                        "nan_count": 0,
                                        "min": "2019",
                                        "max": "2022",
                                        "histogram": [
                                            {
                                                "bin_start": 2019,
                                                "bin_end": 2019.3,
                                                "count": 1
                                            },
                                            {
                                                "bin_start": 2019.3,
                                                "bin_end": 2019.6,
                                                "count": 0
                                            },
                                            {
                                                "bin_start": 2019.6,
                                                "bin_end": 2019.9,
                                                "count": 0
                                            },
                                            {
                                                "bin_start": 2019.9,
                                                "bin_end": 2020.2,
                                                "count": 0
                                            },
                                            {
                                                "bin_start": 2020.2,
                                                "bin_end": 2020.5,
                                                "count": 0
                                            },
                                            {
                                                "bin_start": 2020.5,
                                                "bin_end": 2020.8,
                                                "count": 0
                                            },
                                            {
                                                "bin_start": 2020.8,
                                                "bin_end": 2021.1,
                                                "count": 0
                                            },
                                            {
                                                "bin_start": 2021.1,
                                                "bin_end": 2021.4,
                                                "count": 0
                                            },
                                            {
                                                "bin_start": 2021.4,
                                                "bin_end": 2021.7,
                                                "count": 0
                                            },
                                            {
                                                "bin_start": 2021.7,
                                                "bin_end": 2022,
                                                "count": 4
                                            }
                                        ]
                                    }
                                },
                                {
                                    "name": "color",
                                    "dtype": "object",
                                    "stats": {
                                        "unique_count": 4,
                                        "nan_count": 0,
                                        "categories": [
                                            {
                                                "name": "Gris oscuro",
                                                "count": 2
                                            },
                                            {
                                                "name": "Plateado",
                                                "count": 1
                                            },
                                            {
                                                "name": "2 others",
                                                "count": 2
                                            }
                                        ]
                                    }
                                },
                                {
                                    "name": "fuel_type",
                                    "dtype": "object",
                                    "stats": {
                                        "unique_count": 1,
                                        "nan_count": 0,
                                        "categories": [
                                            {
                                                "name": "Nafta",
                                                "count": 5
                                            }
                                        ]
                                    }
                                },
                                {
                                    "name": "door",
                                    "dtype": "float64",
                                    "stats": {
                                        "unique_count": 2,
                                        "nan_count": 0,
                                        "min": "4.0",
                                        "max": "5.0",
                                        "histogram": [
                                            {
                                                "bin_start": 4,
                                                "bin_end": 4.1,
                                                "count": 1
                                            },
                                            {
                                                "bin_start": 4.1,
                                                "bin_end": 4.2,
                                                "count": 0
                                            },
                                            {
                                                "bin_start": 4.2,
                                                "bin_end": 4.3,
                                                "count": 0
                                            },
                                            {
                                                "bin_start": 4.3,
                                                "bin_end": 4.4,
                                                "count": 0
                                            },
                                            {
                                                "bin_start": 4.4,
                                                "bin_end": 4.5,
                                                "count": 0
                                            },
                                            {
                                                "bin_start": 4.5,
                                                "bin_end": 4.6,
                                                "count": 0
                                            },
                                            {
                                                "bin_start": 4.6,
                                                "bin_end": 4.7,
                                                "count": 0
                                            },
                                            {
                                                "bin_start": 4.7,
                                                "bin_end": 4.8,
                                                "count": 0
                                            },
                                            {
                                                "bin_start": 4.8,
                                                "bin_end": 4.9,
                                                "count": 0
                                            },
                                            {
                                                "bin_start": 4.9,
                                                "bin_end": 5,
                                                "count": 4
                                            }
                                        ]
                                    }
                                },
                                {
                                    "name": "gear",
                                    "dtype": "object",
                                    "stats": {
                                        "unique_count": 2,
                                        "nan_count": 0,
                                        "categories": [
                                            {
                                                "name": "Autom\u00e1tica",
                                                "count": 4
                                            },
                                            {
                                                "name": "Manual",
                                                "count": 1
                                            }
                                        ]
                                    }
                                },
                                {
                                    "name": "motor",
                                    "dtype": "object",
                                    "stats": {
                                        "unique_count": 2,
                                        "nan_count": 2,
                                        "categories": [
                                            {
                                                "name": "2.4",
                                                "count": 2
                                            },
                                            {
                                                "name": "1.8",
                                                "count": 1
                                            },
                                            {
                                                "name": "Missing",
                                                "count": 2
                                            }
                                        ]
                                    }
                                },
                                {
                                    "name": "body_type",
                                    "dtype": "object",
                                    "stats": {
                                        "unique_count": 2,
                                        "nan_count": 0,
                                        "categories": [
                                            {
                                                "name": "SUV",
                                                "count": 4
                                            },
                                            {
                                                "name": "Sed\u00e1n",
                                                "count": 1
                                            }
                                        ]
                                    }
                                },
                                {
                                    "name": "kilometres",
                                    "dtype": "int64",
                                    "stats": {
                                        "unique_count": 3,
                                        "nan_count": 0,
                                        "min": "500",
                                        "max": "9000",
                                        "histogram": [
                                            {
                                                "bin_start": 500,
                                                "bin_end": 1350,
                                                "count": 4
                                            },
                                            {
                                                "bin_start": 1350,
                                                "bin_end": 2200,
                                                "count": 0
                                            },
                                            {
                                                "bin_start": 2200,
                                                "bin_end": 3050,
                                                "count": 0
                                            },
                                            {
                                                "bin_start": 3050,
                                                "bin_end": 3900,
                                                "count": 0
                                            },
                                            {
                                                "bin_start": 3900,
                                                "bin_end": 4750,
                                                "count": 0
                                            },
                                            {
                                                "bin_start": 4750,
                                                "bin_end": 5600,
                                                "count": 0
                                            },
                                            {
                                                "bin_start": 5600,
                                                "bin_end": 6450,
                                                "count": 0
                                            },
                                            {
                                                "bin_start": 6450,
                                                "bin_end": 7300,
                                                "count": 0
                                            },
                                            {
                                                "bin_start": 7300,
                                                "bin_end": 8150,
                                                "count": 0
                                            },
                                            {
                                                "bin_start": 8150,
                                                "bin_end": 9000,
                                                "count": 1
                                            }
                                        ]
                                    }
                                },
                                {
                                    "name": "currency",
                                    "dtype": "object",
                                    "stats": {
                                        "unique_count": 2,
                                        "nan_count": 0,
                                        "categories": [
                                            {
                                                "name": "pesos",
                                                "count": 3
                                            },
                                            {
                                                "name": "d\u00f3lares",
                                                "count": 2
                                            }
                                        ]
                                    }
                                },
                                {
                                    "name": "_deepnote_index_column",
                                    "dtype": "int64"
                                }
                            ],
                            "rows": [
                                {
                                    "money": "10350000",
                                    "brand": "Toyota",
                                    "model": "Corolla Cross",
                                    "year": "2022",
                                    "color": "Plateado",
                                    "fuel_type": "Nafta",
                                    "door": "5.0",
                                    "gear": "Autom\u00e1tica",
                                    "motor": "nan",
                                    "body_type": "SUV",
                                    "kilometres": "500",
                                    "currency": "pesos",
                                    "_deepnote_index_column": "0"
                                },
                                {
                                    "money": "10850000",
                                    "brand": "Jeep",
                                    "model": "Compass",
                                    "year": "2022",
                                    "color": "Blanco",
                                    "fuel_type": "Nafta",
                                    "door": "5.0",
                                    "gear": "Autom\u00e1tica",
                                    "motor": "2.4",
                                    "body_type": "SUV",
                                    "kilometres": "500",
                                    "currency": "pesos",
                                    "_deepnote_index_column": "1"
                                },
                                {
                                    "money": "35500",
                                    "brand": "Jeep",
                                    "model": "Compass",
                                    "year": "2022",
                                    "color": "Gris oscuro",
                                    "fuel_type": "Nafta",
                                    "door": "5.0",
                                    "gear": "Autom\u00e1tica",
                                    "motor": "2.4",
                                    "body_type": "SUV",
                                    "kilometres": "500",
                                    "currency": "d\u00f3lares",
                                    "_deepnote_index_column": "2"
                                },
                                {
                                    "money": "19000",
                                    "brand": "Citro\u00ebn",
                                    "model": "C4 Cactus",
                                    "year": "2022",
                                    "color": "Gris oscuro",
                                    "fuel_type": "Nafta",
                                    "door": "5.0",
                                    "gear": "Autom\u00e1tica",
                                    "motor": "nan",
                                    "body_type": "SUV",
                                    "kilometres": "550",
                                    "currency": "d\u00f3lares",
                                    "_deepnote_index_column": "3"
                                },
                                {
                                    "money": "5800000",
                                    "brand": "Toyota",
                                    "model": "Corolla",
                                    "year": "2019",
                                    "color": "Gris",
                                    "fuel_type": "Nafta",
                                    "door": "4.0",
                                    "gear": "Manual",
                                    "motor": "1.8",
                                    "body_type": "Sed\u00e1n",
                                    "kilometres": "9000",
                                    "currency": "pesos",
                                    "_deepnote_index_column": "4"
                                }
                            ]
                        },
                        "text/plain": "      money    brand          model  year        color fuel_type  door  \\\n0  10350000   Toyota  Corolla Cross  2022     Plateado     Nafta   5.0   \n1  10850000     Jeep        Compass  2022       Blanco     Nafta   5.0   \n2     35500     Jeep        Compass  2022  Gris oscuro     Nafta   5.0   \n3     19000  Citro\u00ebn      C4 Cactus  2022  Gris oscuro     Nafta   5.0   \n4   5800000   Toyota        Corolla  2019         Gris     Nafta   4.0   \n\n         gear motor body_type  kilometres currency  \n0  Autom\u00e1tica   NaN       SUV         500    pesos  \n1  Autom\u00e1tica   2.4       SUV         500    pesos  \n2  Autom\u00e1tica   2.4       SUV         500  d\u00f3lares  \n3  Autom\u00e1tica   NaN       SUV         550  d\u00f3lares  \n4      Manual   1.8     Sed\u00e1n        9000    pesos  ",
                        "text/html": "<div>\n<style scoped>\n    .dataframe tbody tr th:only-of-type {\n        vertical-align: middle;\n    }\n\n    .dataframe tbody tr th {\n        vertical-align: top;\n    }\n\n    .dataframe thead th {\n        text-align: right;\n    }\n</style>\n<table border=\"1\" class=\"dataframe\">\n  <thead>\n    <tr style=\"text-align: right;\">\n      <th></th>\n      <th>money</th>\n      <th>brand</th>\n      <th>model</th>\n      <th>year</th>\n      <th>color</th>\n      <th>fuel_type</th>\n      <th>door</th>\n      <th>gear</th>\n      <th>motor</th>\n      <th>body_type</th>\n      <th>kilometres</th>\n      <th>currency</th>\n    </tr>\n  </thead>\n  <tbody>\n    <tr>\n      <th>0</th>\n      <td>10350000</td>\n      <td>Toyota</td>\n      <td>Corolla Cross</td>\n      <td>2022</td>\n      <td>Plateado</td>\n      <td>Nafta</td>\n      <td>5.0</td>\n      <td>Autom\u00e1tica</td>\n      <td>NaN</td>\n      <td>SUV</td>\n      <td>500</td>\n      <td>pesos</td>\n    </tr>\n    <tr>\n      <th>1</th>\n      <td>10850000</td>\n      <td>Jeep</td>\n      <td>Compass</td>\n      <td>2022</td>\n      <td>Blanco</td>\n      <td>Nafta</td>\n      <td>5.0</td>\n      <td>Autom\u00e1tica</td>\n      <td>2.4</td>\n      <td>SUV</td>\n      <td>500</td>\n      <td>pesos</td>\n    </tr>\n    <tr>\n      <th>2</th>\n      <td>35500</td>\n      <td>Jeep</td>\n      <td>Compass</td>\n      <td>2022</td>\n      <td>Gris oscuro</td>\n      <td>Nafta</td>\n      <td>5.0</td>\n      <td>Autom\u00e1tica</td>\n      <td>2.4</td>\n      <td>SUV</td>\n      <td>500</td>\n      <td>d\u00f3lares</td>\n    </tr>\n    <tr>\n      <th>3</th>\n      <td>19000</td>\n      <td>Citro\u00ebn</td>\n      <td>C4 Cactus</td>\n      <td>2022</td>\n      <td>Gris oscuro</td>\n      <td>Nafta</td>\n      <td>5.0</td>\n      <td>Autom\u00e1tica</td>\n      <td>NaN</td>\n      <td>SUV</td>\n      <td>550</td>\n      <td>d\u00f3lares</td>\n    </tr>\n    <tr>\n      <th>4</th>\n      <td>5800000</td>\n      <td>Toyota</td>\n      <td>Corolla</td>\n      <td>2019</td>\n      <td>Gris</td>\n      <td>Nafta</td>\n      <td>4.0</td>\n      <td>Manual</td>\n      <td>1.8</td>\n      <td>Sed\u00e1n</td>\n      <td>9000</td>\n      <td>pesos</td>\n    </tr>\n  </tbody>\n</table>\n</div>"
                    },
                    "metadata": {}
                }
            ]
        },
        {
            "metadata": {
                "tags": [],
                "cell_id": "520841cbac72412fafbad0272d488d9a",
                "source_hash": "de1e323c",
                "execution_start": 1671889307867,
                "execution_millis": 5,
                "deepnote_app_coordinates": {
                    "h": 5,
                    "w": 12,
                    "x": 0,
                    "y": 52
                },
                "deepnote_to_be_reexecuted": false,
                "deepnote_cell_type": "code"
            },
            "cell_type": "code",
            "source": "df.info()",
            "execution_count": 3,
            "outputs": [
                {
                    "name": "stdout",
                    "text": "<class 'pandas.core.frame.DataFrame'>\nRangeIndex: 510 entries, 0 to 509\nData columns (total 12 columns):\n #   Column      Non-Null Count  Dtype  \n---  ------      --------------  -----  \n 0   money       510 non-null    int64  \n 1   brand       510 non-null    object \n 2   model       510 non-null    object \n 3   year        510 non-null    int64  \n 4   color       499 non-null    object \n 5   fuel_type   510 non-null    object \n 6   door        510 non-null    float64\n 7   gear        509 non-null    object \n 8   motor       499 non-null    object \n 9   body_type   509 non-null    object \n 10  kilometres  510 non-null    int64  \n 11  currency    510 non-null    object \ndtypes: float64(1), int64(3), object(8)\nmemory usage: 47.9+ KB\n",
                    "output_type": "stream"
                }
            ]
        },
        {
            "metadata": {
                "tags": [],
                "cell_id": "a21e7c5189a04b56a8e1822945708274",
                "deepnote_app_coordinates": {
                    "h": 5,
                    "w": 12,
                    "x": 0,
                    "y": 82
                },
                "deepnote_cell_type": "markdown"
            },
            "cell_type": "markdown",
            "source": "### Task 3: Descriptive statistics "
        },
        {
            "metadata": {
                "tags": [],
                "cell_id": "7cc5228d865147a4aa04175251b6ee9c",
                "source_hash": "f88152d9",
                "execution_start": 1671889307919,
                "execution_millis": 42,
                "deepnote_app_coordinates": {
                    "h": 5,
                    "w": 12,
                    "x": 0,
                    "y": 58
                },
                "deepnote_to_be_reexecuted": false,
                "deepnote_cell_type": "code"
            },
            "cell_type": "code",
            "source": "df.describe()",
            "execution_count": 4,
            "outputs": [
                {
                    "output_type": "execute_result",
                    "execution_count": 4,
                    "data": {
                        "application/vnd.deepnote.dataframe.v3+json": {
                            "column_count": 4,
                            "row_count": 8,
                            "columns": [
                                {
                                    "name": "money",
                                    "dtype": "float64",
                                    "stats": {
                                        "unique_count": 8,
                                        "nan_count": 0,
                                        "min": "510.0",
                                        "max": "14299000.0",
                                        "histogram": [
                                            {
                                                "bin_start": 510,
                                                "bin_end": 1430359,
                                                "count": 2
                                            },
                                            {
                                                "bin_start": 1430359,
                                                "bin_end": 2860208,
                                                "count": 1
                                            },
                                            {
                                                "bin_start": 2860208,
                                                "bin_end": 4290057,
                                                "count": 3
                                            },
                                            {
                                                "bin_start": 4290057,
                                                "bin_end": 5719906,
                                                "count": 1
                                            },
                                            {
                                                "bin_start": 5719906,
                                                "bin_end": 7149755,
                                                "count": 0
                                            },
                                            {
                                                "bin_start": 7149755,
                                                "bin_end": 8579604,
                                                "count": 0
                                            },
                                            {
                                                "bin_start": 8579604,
                                                "bin_end": 10009453,
                                                "count": 0
                                            },
                                            {
                                                "bin_start": 10009453,
                                                "bin_end": 11439302,
                                                "count": 0
                                            },
                                            {
                                                "bin_start": 11439302,
                                                "bin_end": 12869151,
                                                "count": 0
                                            },
                                            {
                                                "bin_start": 12869151,
                                                "bin_end": 14299000,
                                                "count": 1
                                            }
                                        ]
                                    }
                                },
                                {
                                    "name": "year",
                                    "dtype": "float64",
                                    "stats": {
                                        "unique_count": 8,
                                        "nan_count": 0,
                                        "min": "3.728057521263876",
                                        "max": "2022.0",
                                        "histogram": [
                                            {
                                                "bin_start": 3.728057521263876,
                                                "bin_end": 205.55525176913747,
                                                "count": 1
                                            },
                                            {
                                                "bin_start": 205.55525176913747,
                                                "bin_end": 407.38244601701103,
                                                "count": 0
                                            },
                                            {
                                                "bin_start": 407.38244601701103,
                                                "bin_end": 609.2096402648846,
                                                "count": 1
                                            },
                                            {
                                                "bin_start": 609.2096402648846,
                                                "bin_end": 811.0368345127582,
                                                "count": 0
                                            },
                                            {
                                                "bin_start": 811.0368345127582,
                                                "bin_end": 1012.8640287606319,
                                                "count": 0
                                            },
                                            {
                                                "bin_start": 1012.8640287606319,
                                                "bin_end": 1214.6912230085054,
                                                "count": 0
                                            },
                                            {
                                                "bin_start": 1214.6912230085054,
                                                "bin_end": 1416.518417256379,
                                                "count": 0
                                            },
                                            {
                                                "bin_start": 1416.518417256379,
                                                "bin_end": 1618.3456115042527,
                                                "count": 0
                                            },
                                            {
                                                "bin_start": 1618.3456115042527,
                                                "bin_end": 1820.1728057521264,
                                                "count": 0
                                            },
                                            {
                                                "bin_start": 1820.1728057521264,
                                                "bin_end": 2022,
                                                "count": 6
                                            }
                                        ]
                                    }
                                },
                                {
                                    "name": "door",
                                    "dtype": "float64",
                                    "stats": {
                                        "unique_count": 6,
                                        "nan_count": 0,
                                        "min": "0.7615110449710681",
                                        "max": "510.0",
                                        "histogram": [
                                            {
                                                "bin_start": 0.7615110449710681,
                                                "bin_end": 51.68535994047396,
                                                "count": 7
                                            },
                                            {
                                                "bin_start": 51.68535994047396,
                                                "bin_end": 102.60920883597686,
                                                "count": 0
                                            },
                                            {
                                                "bin_start": 102.60920883597686,
                                                "bin_end": 153.53305773147974,
                                                "count": 0
                                            },
                                            {
                                                "bin_start": 153.53305773147974,
                                                "bin_end": 204.45690662698263,
                                                "count": 0
                                            },
                                            {
                                                "bin_start": 204.45690662698263,
                                                "bin_end": 255.38075552248552,
                                                "count": 0
                                            },
                                            {
                                                "bin_start": 255.38075552248552,
                                                "bin_end": 306.30460441798846,
                                                "count": 0
                                            },
                                            {
                                                "bin_start": 306.30460441798846,
                                                "bin_end": 357.22845331349134,
                                                "count": 0
                                            },
                                            {
                                                "bin_start": 357.22845331349134,
                                                "bin_end": 408.15230220899423,
                                                "count": 0
                                            },
                                            {
                                                "bin_start": 408.15230220899423,
                                                "bin_end": 459.0761511044971,
                                                "count": 0
                                            },
                                            {
                                                "bin_start": 459.0761511044971,
                                                "bin_end": 510,
                                                "count": 1
                                            }
                                        ]
                                    }
                                },
                                {
                                    "name": "kilometres",
                                    "dtype": "float64",
                                    "stats": {
                                        "unique_count": 8,
                                        "nan_count": 0,
                                        "min": "500.0",
                                        "max": "335000.0",
                                        "histogram": [
                                            {
                                                "bin_start": 500,
                                                "bin_end": 33950,
                                                "count": 2
                                            },
                                            {
                                                "bin_start": 33950,
                                                "bin_end": 67400,
                                                "count": 3
                                            },
                                            {
                                                "bin_start": 67400,
                                                "bin_end": 100850,
                                                "count": 2
                                            },
                                            {
                                                "bin_start": 100850,
                                                "bin_end": 134300,
                                                "count": 0
                                            },
                                            {
                                                "bin_start": 134300,
                                                "bin_end": 167750,
                                                "count": 0
                                            },
                                            {
                                                "bin_start": 167750,
                                                "bin_end": 201200,
                                                "count": 0
                                            },
                                            {
                                                "bin_start": 201200,
                                                "bin_end": 234650,
                                                "count": 0
                                            },
                                            {
                                                "bin_start": 234650,
                                                "bin_end": 268100,
                                                "count": 0
                                            },
                                            {
                                                "bin_start": 268100,
                                                "bin_end": 301550,
                                                "count": 0
                                            },
                                            {
                                                "bin_start": 301550,
                                                "bin_end": 335000,
                                                "count": 1
                                            }
                                        ]
                                    }
                                },
                                {
                                    "name": "_deepnote_index_column",
                                    "dtype": "object"
                                }
                            ],
                            "rows": [
                                {
                                    "money": "510.0",
                                    "year": "510.0",
                                    "door": "510.0",
                                    "kilometres": "510.0",
                                    "_deepnote_index_column": "count"
                                },
                                {
                                    "money": "3970188.370588235",
                                    "year": "2016.2960784313725",
                                    "door": "4.474509803921569",
                                    "kilometres": "74436.3705882353",
                                    "_deepnote_index_column": "mean"
                                },
                                {
                                    "money": "2918454.4606070863",
                                    "year": "3.728057521263876",
                                    "door": "0.7615110449710681",
                                    "kilometres": "46771.799272389944",
                                    "_deepnote_index_column": "std"
                                },
                                {
                                    "money": "8000.0",
                                    "year": "1995.0",
                                    "door": "2.0",
                                    "kilometres": "500.0",
                                    "_deepnote_index_column": "min"
                                },
                                {
                                    "money": "2312500.0",
                                    "year": "2014.0",
                                    "door": "4.0",
                                    "kilometres": "43000.0",
                                    "_deepnote_index_column": "25%"
                                },
                                {
                                    "money": "3489900.0",
                                    "year": "2017.0",
                                    "door": "5.0",
                                    "kilometres": "65750.0",
                                    "_deepnote_index_column": "50%"
                                },
                                {
                                    "money": "5237500.0",
                                    "year": "2019.0",
                                    "door": "5.0",
                                    "kilometres": "99100.0",
                                    "_deepnote_index_column": "75%"
                                },
                                {
                                    "money": "14299000.0",
                                    "year": "2022.0",
                                    "door": "5.0",
                                    "kilometres": "335000.0",
                                    "_deepnote_index_column": "max"
                                }
                            ]
                        },
                        "text/plain": "              money         year        door     kilometres\ncount  5.100000e+02   510.000000  510.000000     510.000000\nmean   3.970188e+06  2016.296078    4.474510   74436.370588\nstd    2.918454e+06     3.728058    0.761511   46771.799272\nmin    8.000000e+03  1995.000000    2.000000     500.000000\n25%    2.312500e+06  2014.000000    4.000000   43000.000000\n50%    3.489900e+06  2017.000000    5.000000   65750.000000\n75%    5.237500e+06  2019.000000    5.000000   99100.000000\nmax    1.429900e+07  2022.000000    5.000000  335000.000000",
                        "text/html": "<div>\n<style scoped>\n    .dataframe tbody tr th:only-of-type {\n        vertical-align: middle;\n    }\n\n    .dataframe tbody tr th {\n        vertical-align: top;\n    }\n\n    .dataframe thead th {\n        text-align: right;\n    }\n</style>\n<table border=\"1\" class=\"dataframe\">\n  <thead>\n    <tr style=\"text-align: right;\">\n      <th></th>\n      <th>money</th>\n      <th>year</th>\n      <th>door</th>\n      <th>kilometres</th>\n    </tr>\n  </thead>\n  <tbody>\n    <tr>\n      <th>count</th>\n      <td>5.100000e+02</td>\n      <td>510.000000</td>\n      <td>510.000000</td>\n      <td>510.000000</td>\n    </tr>\n    <tr>\n      <th>mean</th>\n      <td>3.970188e+06</td>\n      <td>2016.296078</td>\n      <td>4.474510</td>\n      <td>74436.370588</td>\n    </tr>\n    <tr>\n      <th>std</th>\n      <td>2.918454e+06</td>\n      <td>3.728058</td>\n      <td>0.761511</td>\n      <td>46771.799272</td>\n    </tr>\n    <tr>\n      <th>min</th>\n      <td>8.000000e+03</td>\n      <td>1995.000000</td>\n      <td>2.000000</td>\n      <td>500.000000</td>\n    </tr>\n    <tr>\n      <th>25%</th>\n      <td>2.312500e+06</td>\n      <td>2014.000000</td>\n      <td>4.000000</td>\n      <td>43000.000000</td>\n    </tr>\n    <tr>\n      <th>50%</th>\n      <td>3.489900e+06</td>\n      <td>2017.000000</td>\n      <td>5.000000</td>\n      <td>65750.000000</td>\n    </tr>\n    <tr>\n      <th>75%</th>\n      <td>5.237500e+06</td>\n      <td>2019.000000</td>\n      <td>5.000000</td>\n      <td>99100.000000</td>\n    </tr>\n    <tr>\n      <th>max</th>\n      <td>1.429900e+07</td>\n      <td>2022.000000</td>\n      <td>5.000000</td>\n      <td>335000.000000</td>\n    </tr>\n  </tbody>\n</table>\n</div>"
                    },
                    "metadata": {}
                }
            ]
        },
        {
            "metadata": {
                "tags": [],
                "cell_id": "ccff9168b9ee46ba95edbe0a7b1b31fa",
                "source_hash": "100aae",
                "execution_start": 1671889307979,
                "execution_millis": 5,
                "deepnote_app_coordinates": {
                    "h": 5,
                    "w": 12,
                    "x": 0,
                    "y": 64
                },
                "deepnote_to_be_reexecuted": false,
                "deepnote_cell_type": "code"
            },
            "cell_type": "code",
            "source": "## Descriptive statistics for categorical variables\ndf.describe(include='object')",
            "execution_count": 5,
            "outputs": [
                {
                    "output_type": "execute_result",
                    "execution_count": 5,
                    "data": {
                        "application/vnd.deepnote.dataframe.v3+json": {
                            "column_count": 8,
                            "row_count": 4,
                            "columns": [
                                {
                                    "name": "brand",
                                    "dtype": "object",
                                    "stats": {
                                        "unique_count": 4,
                                        "nan_count": 0,
                                        "categories": [
                                            {
                                                "name": "510",
                                                "count": 1
                                            },
                                            {
                                                "name": "27",
                                                "count": 1
                                            },
                                            {
                                                "name": "2 others",
                                                "count": 2
                                            }
                                        ]
                                    }
                                },
                                {
                                    "name": "model",
                                    "dtype": "object",
                                    "stats": {
                                        "unique_count": 4,
                                        "nan_count": 0,
                                        "categories": [
                                            {
                                                "name": "510",
                                                "count": 1
                                            },
                                            {
                                                "name": "157",
                                                "count": 1
                                            },
                                            {
                                                "name": "2 others",
                                                "count": 2
                                            }
                                        ]
                                    }
                                },
                                {
                                    "name": "color",
                                    "dtype": "object",
                                    "stats": {
                                        "unique_count": 4,
                                        "nan_count": 0,
                                        "categories": [
                                            {
                                                "name": "499",
                                                "count": 1
                                            },
                                            {
                                                "name": "14",
                                                "count": 1
                                            },
                                            {
                                                "name": "2 others",
                                                "count": 2
                                            }
                                        ]
                                    }
                                },
                                {
                                    "name": "fuel_type",
                                    "dtype": "object",
                                    "stats": {
                                        "unique_count": 4,
                                        "nan_count": 0,
                                        "categories": [
                                            {
                                                "name": "510",
                                                "count": 1
                                            },
                                            {
                                                "name": "4",
                                                "count": 1
                                            },
                                            {
                                                "name": "2 others",
                                                "count": 2
                                            }
                                        ]
                                    }
                                },
                                {
                                    "name": "gear",
                                    "dtype": "object",
                                    "stats": {
                                        "unique_count": 4,
                                        "nan_count": 0,
                                        "categories": [
                                            {
                                                "name": "509",
                                                "count": 1
                                            },
                                            {
                                                "name": "2",
                                                "count": 1
                                            },
                                            {
                                                "name": "2 others",
                                                "count": 2
                                            }
                                        ]
                                    }
                                },
                                {
                                    "name": "motor",
                                    "dtype": "object",
                                    "stats": {
                                        "unique_count": 4,
                                        "nan_count": 0,
                                        "categories": [
                                            {
                                                "name": "499",
                                                "count": 1
                                            },
                                            {
                                                "name": "29",
                                                "count": 1
                                            },
                                            {
                                                "name": "2 others",
                                                "count": 2
                                            }
                                        ]
                                    }
                                },
                                {
                                    "name": "body_type",
                                    "dtype": "object",
                                    "stats": {
                                        "unique_count": 4,
                                        "nan_count": 0,
                                        "categories": [
                                            {
                                                "name": "509",
                                                "count": 1
                                            },
                                            {
                                                "name": "10",
                                                "count": 1
                                            },
                                            {
                                                "name": "2 others",
                                                "count": 2
                                            }
                                        ]
                                    }
                                },
                                {
                                    "name": "currency",
                                    "dtype": "object",
                                    "stats": {
                                        "unique_count": 4,
                                        "nan_count": 0,
                                        "categories": [
                                            {
                                                "name": "510",
                                                "count": 1
                                            },
                                            {
                                                "name": "2",
                                                "count": 1
                                            },
                                            {
                                                "name": "2 others",
                                                "count": 2
                                            }
                                        ]
                                    }
                                },
                                {
                                    "name": "_deepnote_index_column",
                                    "dtype": "object"
                                }
                            ],
                            "rows": [
                                {
                                    "brand": "510",
                                    "model": "510",
                                    "color": "499",
                                    "fuel_type": "510",
                                    "gear": "509",
                                    "motor": "499",
                                    "body_type": "509",
                                    "currency": "510",
                                    "_deepnote_index_column": "count"
                                },
                                {
                                    "brand": "27",
                                    "model": "157",
                                    "color": "14",
                                    "fuel_type": "4",
                                    "gear": "2",
                                    "motor": "29",
                                    "body_type": "10",
                                    "currency": "2",
                                    "_deepnote_index_column": "unique"
                                },
                                {
                                    "brand": "Volkswagen",
                                    "model": "Amarok",
                                    "color": "Gris",
                                    "fuel_type": "Nafta",
                                    "gear": "Manual",
                                    "motor": "1.6",
                                    "body_type": "Hatchback",
                                    "currency": "pesos",
                                    "_deepnote_index_column": "top"
                                },
                                {
                                    "brand": "88",
                                    "model": "17",
                                    "color": "158",
                                    "fuel_type": "416",
                                    "gear": "298",
                                    "motor": "163",
                                    "body_type": "184",
                                    "currency": "427",
                                    "_deepnote_index_column": "freq"
                                }
                            ]
                        },
                        "text/plain": "             brand   model color fuel_type    gear motor  body_type currency\ncount          510     510   499       510     509   499        509      510\nunique          27     157    14         4       2    29         10        2\ntop     Volkswagen  Amarok  Gris     Nafta  Manual   1.6  Hatchback    pesos\nfreq            88      17   158       416     298   163        184      427",
                        "text/html": "<div>\n<style scoped>\n    .dataframe tbody tr th:only-of-type {\n        vertical-align: middle;\n    }\n\n    .dataframe tbody tr th {\n        vertical-align: top;\n    }\n\n    .dataframe thead th {\n        text-align: right;\n    }\n</style>\n<table border=\"1\" class=\"dataframe\">\n  <thead>\n    <tr style=\"text-align: right;\">\n      <th></th>\n      <th>brand</th>\n      <th>model</th>\n      <th>color</th>\n      <th>fuel_type</th>\n      <th>gear</th>\n      <th>motor</th>\n      <th>body_type</th>\n      <th>currency</th>\n    </tr>\n  </thead>\n  <tbody>\n    <tr>\n      <th>count</th>\n      <td>510</td>\n      <td>510</td>\n      <td>499</td>\n      <td>510</td>\n      <td>509</td>\n      <td>499</td>\n      <td>509</td>\n      <td>510</td>\n    </tr>\n    <tr>\n      <th>unique</th>\n      <td>27</td>\n      <td>157</td>\n      <td>14</td>\n      <td>4</td>\n      <td>2</td>\n      <td>29</td>\n      <td>10</td>\n      <td>2</td>\n    </tr>\n    <tr>\n      <th>top</th>\n      <td>Volkswagen</td>\n      <td>Amarok</td>\n      <td>Gris</td>\n      <td>Nafta</td>\n      <td>Manual</td>\n      <td>1.6</td>\n      <td>Hatchback</td>\n      <td>pesos</td>\n    </tr>\n    <tr>\n      <th>freq</th>\n      <td>88</td>\n      <td>17</td>\n      <td>158</td>\n      <td>416</td>\n      <td>298</td>\n      <td>163</td>\n      <td>184</td>\n      <td>427</td>\n    </tr>\n  </tbody>\n</table>\n</div>"
                    },
                    "metadata": {}
                }
            ]
        },
        {
            "metadata": {
                "tags": [],
                "cell_id": "ef0f8ab16a844de09aba5230c60e9f31",
                "source_hash": "92cb32aa",
                "execution_start": 1671889308027,
                "execution_millis": 2,
                "deepnote_app_coordinates": {
                    "h": 5,
                    "w": 12,
                    "x": 0,
                    "y": 70
                },
                "deepnote_to_be_reexecuted": false,
                "deepnote_cell_type": "code"
            },
            "cell_type": "code",
            "source": "## Checking for the unique fuel types used by the cars\n\ndf['fuel_type'].value_counts().to_frame()",
            "execution_count": 6,
            "outputs": [
                {
                    "output_type": "execute_result",
                    "execution_count": 6,
                    "data": {
                        "application/vnd.deepnote.dataframe.v3+json": {
                            "column_count": 1,
                            "row_count": 4,
                            "columns": [
                                {
                                    "name": "fuel_type",
                                    "dtype": "int64",
                                    "stats": {
                                        "unique_count": 4,
                                        "nan_count": 0,
                                        "min": "3",
                                        "max": "416",
                                        "histogram": [
                                            {
                                                "bin_start": 3,
                                                "bin_end": 44.3,
                                                "count": 2
                                            },
                                            {
                                                "bin_start": 44.3,
                                                "bin_end": 85.6,
                                                "count": 1
                                            },
                                            {
                                                "bin_start": 85.6,
                                                "bin_end": 126.89999999999999,
                                                "count": 0
                                            },
                                            {
                                                "bin_start": 126.89999999999999,
                                                "bin_end": 168.2,
                                                "count": 0
                                            },
                                            {
                                                "bin_start": 168.2,
                                                "bin_end": 209.5,
                                                "count": 0
                                            },
                                            {
                                                "bin_start": 209.5,
                                                "bin_end": 250.79999999999998,
                                                "count": 0
                                            },
                                            {
                                                "bin_start": 250.79999999999998,
                                                "bin_end": 292.09999999999997,
                                                "count": 0
                                            },
                                            {
                                                "bin_start": 292.09999999999997,
                                                "bin_end": 333.4,
                                                "count": 0
                                            },
                                            {
                                                "bin_start": 333.4,
                                                "bin_end": 374.7,
                                                "count": 0
                                            },
                                            {
                                                "bin_start": 374.7,
                                                "bin_end": 416,
                                                "count": 1
                                            }
                                        ]
                                    }
                                },
                                {
                                    "name": "_deepnote_index_column",
                                    "dtype": "object"
                                }
                            ],
                            "rows": [
                                {
                                    "fuel_type": "416",
                                    "_deepnote_index_column": "Nafta"
                                },
                                {
                                    "fuel_type": "72",
                                    "_deepnote_index_column": "Di\u00e9sel"
                                },
                                {
                                    "fuel_type": "19",
                                    "_deepnote_index_column": "Nafta/GNC"
                                },
                                {
                                    "fuel_type": "3",
                                    "_deepnote_index_column": "H\u00edbrido/Nafta"
                                }
                            ]
                        },
                        "text/plain": "               fuel_type\nNafta                416\nDi\u00e9sel                72\nNafta/GNC             19\nH\u00edbrido/Nafta          3",
                        "text/html": "<div>\n<style scoped>\n    .dataframe tbody tr th:only-of-type {\n        vertical-align: middle;\n    }\n\n    .dataframe tbody tr th {\n        vertical-align: top;\n    }\n\n    .dataframe thead th {\n        text-align: right;\n    }\n</style>\n<table border=\"1\" class=\"dataframe\">\n  <thead>\n    <tr style=\"text-align: right;\">\n      <th></th>\n      <th>fuel_type</th>\n    </tr>\n  </thead>\n  <tbody>\n    <tr>\n      <th>Nafta</th>\n      <td>416</td>\n    </tr>\n    <tr>\n      <th>Di\u00e9sel</th>\n      <td>72</td>\n    </tr>\n    <tr>\n      <th>Nafta/GNC</th>\n      <td>19</td>\n    </tr>\n    <tr>\n      <th>H\u00edbrido/Nafta</th>\n      <td>3</td>\n    </tr>\n  </tbody>\n</table>\n</div>"
                    },
                    "metadata": {}
                }
            ]
        },
        {
            "metadata": {
                "tags": [],
                "cell_id": "4e3fd4adaa84413a827b2f5f03e0f6c2",
                "source_hash": "6a0bef15",
                "execution_start": 1671889308028,
                "execution_millis": 30,
                "deepnote_app_coordinates": {
                    "h": 5,
                    "w": 12,
                    "x": 0,
                    "y": 76
                },
                "deepnote_to_be_reexecuted": false,
                "deepnote_cell_type": "code"
            },
            "cell_type": "code",
            "source": "df['body_type'].unique().tolist()",
            "execution_count": 7,
            "outputs": [
                {
                    "output_type": "execute_result",
                    "execution_count": 7,
                    "data": {
                        "text/plain": "['SUV',\n 'Sed\u00e1n',\n 'Coup\u00e9',\n 'Hatchback',\n 'Pick-Up',\n 'Crossover',\n 'Monovolumen',\n 'Rural',\n 'Furg\u00f3n',\n nan,\n 'Minivan']"
                    },
                    "metadata": {}
                }
            ]
        },
        {
            "metadata": {
                "tags": [],
                "cell_id": "298d82ed7cd849e191ee7a71d7787a97",
                "source_hash": "3bcdfea8",
                "execution_start": 1671889308055,
                "execution_millis": 3,
                "deepnote_app_coordinates": {
                    "h": 5,
                    "w": 12,
                    "x": 0,
                    "y": 88
                },
                "deepnote_to_be_reexecuted": false,
                "deepnote_cell_type": "code"
            },
            "cell_type": "code",
            "source": "df['body_type'].value_counts().to_frame()",
            "execution_count": 8,
            "outputs": [
                {
                    "output_type": "execute_result",
                    "execution_count": 8,
                    "data": {
                        "application/vnd.deepnote.dataframe.v3+json": {
                            "column_count": 1,
                            "row_count": 10,
                            "columns": [
                                {
                                    "name": "body_type",
                                    "dtype": "int64",
                                    "stats": {
                                        "unique_count": 9,
                                        "nan_count": 0,
                                        "min": "1",
                                        "max": "184",
                                        "histogram": [
                                            {
                                                "bin_start": 1,
                                                "bin_end": 19.3,
                                                "count": 6
                                            },
                                            {
                                                "bin_start": 19.3,
                                                "bin_end": 37.6,
                                                "count": 0
                                            },
                                            {
                                                "bin_start": 37.6,
                                                "bin_end": 55.900000000000006,
                                                "count": 1
                                            },
                                            {
                                                "bin_start": 55.900000000000006,
                                                "bin_end": 74.2,
                                                "count": 0
                                            },
                                            {
                                                "bin_start": 74.2,
                                                "bin_end": 92.5,
                                                "count": 0
                                            },
                                            {
                                                "bin_start": 92.5,
                                                "bin_end": 110.80000000000001,
                                                "count": 1
                                            },
                                            {
                                                "bin_start": 110.80000000000001,
                                                "bin_end": 129.1,
                                                "count": 0
                                            },
                                            {
                                                "bin_start": 129.1,
                                                "bin_end": 147.4,
                                                "count": 1
                                            },
                                            {
                                                "bin_start": 147.4,
                                                "bin_end": 165.70000000000002,
                                                "count": 0
                                            },
                                            {
                                                "bin_start": 165.70000000000002,
                                                "bin_end": 184,
                                                "count": 1
                                            }
                                        ]
                                    }
                                },
                                {
                                    "name": "_deepnote_index_column",
                                    "dtype": "object"
                                }
                            ],
                            "rows": [
                                {
                                    "body_type": "184",
                                    "_deepnote_index_column": "Hatchback"
                                },
                                {
                                    "body_type": "130",
                                    "_deepnote_index_column": "SUV"
                                },
                                {
                                    "body_type": "98",
                                    "_deepnote_index_column": "Sed\u00e1n"
                                },
                                {
                                    "body_type": "55",
                                    "_deepnote_index_column": "Pick-Up"
                                },
                                {
                                    "body_type": "18",
                                    "_deepnote_index_column": "Monovolumen"
                                },
                                {
                                    "body_type": "11",
                                    "_deepnote_index_column": "Coup\u00e9"
                                },
                                {
                                    "body_type": "8",
                                    "_deepnote_index_column": "Furg\u00f3n"
                                },
                                {
                                    "body_type": "3",
                                    "_deepnote_index_column": "Rural"
                                },
                                {
                                    "body_type": "1",
                                    "_deepnote_index_column": "Minivan"
                                },
                                {
                                    "body_type": "1",
                                    "_deepnote_index_column": "Crossover"
                                }
                            ]
                        },
                        "text/plain": "             body_type\nHatchback          184\nSUV                130\nSed\u00e1n               98\nPick-Up             55\nMonovolumen         18\nCoup\u00e9               11\nFurg\u00f3n               8\nRural                3\nMinivan              1\nCrossover            1",
                        "text/html": "<div>\n<style scoped>\n    .dataframe tbody tr th:only-of-type {\n        vertical-align: middle;\n    }\n\n    .dataframe tbody tr th {\n        vertical-align: top;\n    }\n\n    .dataframe thead th {\n        text-align: right;\n    }\n</style>\n<table border=\"1\" class=\"dataframe\">\n  <thead>\n    <tr style=\"text-align: right;\">\n      <th></th>\n      <th>body_type</th>\n    </tr>\n  </thead>\n  <tbody>\n    <tr>\n      <th>Hatchback</th>\n      <td>184</td>\n    </tr>\n    <tr>\n      <th>SUV</th>\n      <td>130</td>\n    </tr>\n    <tr>\n      <th>Sed\u00e1n</th>\n      <td>98</td>\n    </tr>\n    <tr>\n      <th>Pick-Up</th>\n      <td>55</td>\n    </tr>\n    <tr>\n      <th>Monovolumen</th>\n      <td>18</td>\n    </tr>\n    <tr>\n      <th>Coup\u00e9</th>\n      <td>11</td>\n    </tr>\n    <tr>\n      <th>Furg\u00f3n</th>\n      <td>8</td>\n    </tr>\n    <tr>\n      <th>Rural</th>\n      <td>3</td>\n    </tr>\n    <tr>\n      <th>Minivan</th>\n      <td>1</td>\n    </tr>\n    <tr>\n      <th>Crossover</th>\n      <td>1</td>\n    </tr>\n  </tbody>\n</table>\n</div>"
                    },
                    "metadata": {}
                }
            ]
        },
        {
            "metadata": {
                "tags": [],
                "cell_id": "a9f52b7a66434631ad7546d9d2ccdb55",
                "source_hash": "e6ba4026",
                "execution_start": 1671889308056,
                "execution_millis": 7,
                "deepnote_app_coordinates": {
                    "h": 5,
                    "w": 12,
                    "x": 0,
                    "y": 94
                },
                "deepnote_to_be_reexecuted": false,
                "deepnote_cell_type": "code"
            },
            "cell_type": "code",
            "source": "df.dtypes.to_frame()",
            "execution_count": 9,
            "outputs": [
                {
                    "output_type": "execute_result",
                    "execution_count": 9,
                    "data": {
                        "application/vnd.deepnote.dataframe.v3+json": {
                            "column_count": 1,
                            "row_count": 12,
                            "columns": [
                                {
                                    "name": 0,
                                    "dtype": "object",
                                    "stats": {
                                        "unique_count": 3,
                                        "nan_count": 0,
                                        "categories": [
                                            {
                                                "name": "object",
                                                "count": 8
                                            },
                                            {
                                                "name": "int64",
                                                "count": 3
                                            },
                                            {
                                                "name": "float64",
                                                "count": 1
                                            }
                                        ]
                                    }
                                },
                                {
                                    "name": "_deepnote_index_column",
                                    "dtype": "object"
                                }
                            ],
                            "rows": [
                                {
                                    "0": "int64",
                                    "_deepnote_index_column": "money"
                                },
                                {
                                    "0": "object",
                                    "_deepnote_index_column": "brand"
                                },
                                {
                                    "0": "object",
                                    "_deepnote_index_column": "model"
                                },
                                {
                                    "0": "int64",
                                    "_deepnote_index_column": "year"
                                },
                                {
                                    "0": "object",
                                    "_deepnote_index_column": "color"
                                },
                                {
                                    "0": "object",
                                    "_deepnote_index_column": "fuel_type"
                                },
                                {
                                    "0": "float64",
                                    "_deepnote_index_column": "door"
                                },
                                {
                                    "0": "object",
                                    "_deepnote_index_column": "gear"
                                },
                                {
                                    "0": "object",
                                    "_deepnote_index_column": "motor"
                                },
                                {
                                    "0": "object",
                                    "_deepnote_index_column": "body_type"
                                }
                            ]
                        },
                        "text/plain": "                  0\nmoney         int64\nbrand        object\nmodel        object\nyear          int64\ncolor        object\nfuel_type    object\ndoor        float64\ngear         object\nmotor        object\nbody_type    object\nkilometres    int64\ncurrency     object",
                        "text/html": "<div>\n<style scoped>\n    .dataframe tbody tr th:only-of-type {\n        vertical-align: middle;\n    }\n\n    .dataframe tbody tr th {\n        vertical-align: top;\n    }\n\n    .dataframe thead th {\n        text-align: right;\n    }\n</style>\n<table border=\"1\" class=\"dataframe\">\n  <thead>\n    <tr style=\"text-align: right;\">\n      <th></th>\n      <th>0</th>\n    </tr>\n  </thead>\n  <tbody>\n    <tr>\n      <th>money</th>\n      <td>int64</td>\n    </tr>\n    <tr>\n      <th>brand</th>\n      <td>object</td>\n    </tr>\n    <tr>\n      <th>model</th>\n      <td>object</td>\n    </tr>\n    <tr>\n      <th>year</th>\n      <td>int64</td>\n    </tr>\n    <tr>\n      <th>color</th>\n      <td>object</td>\n    </tr>\n    <tr>\n      <th>fuel_type</th>\n      <td>object</td>\n    </tr>\n    <tr>\n      <th>door</th>\n      <td>float64</td>\n    </tr>\n    <tr>\n      <th>gear</th>\n      <td>object</td>\n    </tr>\n    <tr>\n      <th>motor</th>\n      <td>object</td>\n    </tr>\n    <tr>\n      <th>body_type</th>\n      <td>object</td>\n    </tr>\n    <tr>\n      <th>kilometres</th>\n      <td>int64</td>\n    </tr>\n    <tr>\n      <th>currency</th>\n      <td>object</td>\n    </tr>\n  </tbody>\n</table>\n</div>"
                    },
                    "metadata": {}
                }
            ]
        },
        {
            "metadata": {
                "tags": [],
                "cell_id": "df99b41266ac4d268c0c753454cb7c27",
                "deepnote_app_coordinates": {
                    "h": 5,
                    "w": 12,
                    "x": 0,
                    "y": 112
                },
                "deepnote_cell_type": "markdown"
            },
            "cell_type": "markdown",
            "source": "## Task 4: Handling missing data and conflicting data types."
        },
        {
            "metadata": {
                "tags": [],
                "cell_id": "34b375cacd2c4f3fafd46203c90012e9",
                "source_hash": "f3dd26da",
                "execution_start": 1671889308064,
                "execution_millis": 6,
                "deepnote_app_coordinates": {
                    "h": 5,
                    "w": 12,
                    "x": 0,
                    "y": 100
                },
                "deepnote_to_be_reexecuted": false,
                "deepnote_cell_type": "code"
            },
            "cell_type": "code",
            "source": "df.isnull().sum()",
            "execution_count": 10,
            "outputs": [
                {
                    "output_type": "execute_result",
                    "execution_count": 10,
                    "data": {
                        "text/plain": "money          0\nbrand          0\nmodel          0\nyear           0\ncolor         11\nfuel_type      0\ndoor           0\ngear           1\nmotor         11\nbody_type      1\nkilometres     0\ncurrency       0\ndtype: int64"
                    },
                    "metadata": {}
                }
            ]
        },
        {
            "metadata": {
                "tags": [],
                "cell_id": "3549d5305b6c4a81af4198ccfce10b06",
                "source_hash": "52b48bec",
                "execution_start": 1671889308096,
                "execution_millis": 46,
                "deepnote_app_coordinates": {
                    "h": 5,
                    "w": 12,
                    "x": 0,
                    "y": 106
                },
                "deepnote_to_be_reexecuted": false,
                "deepnote_cell_type": "code"
            },
            "cell_type": "code",
            "source": "df[df.color.isnull()]",
            "execution_count": 11,
            "outputs": [
                {
                    "output_type": "execute_result",
                    "execution_count": 11,
                    "data": {
                        "application/vnd.deepnote.dataframe.v3+json": {
                            "column_count": 12,
                            "row_count": 11,
                            "columns": [
                                {
                                    "name": "money",
                                    "dtype": "int64",
                                    "stats": {
                                        "unique_count": 11,
                                        "nan_count": 0,
                                        "min": "16000",
                                        "max": "8700000",
                                        "histogram": [
                                            {
                                                "bin_start": 16000,
                                                "bin_end": 884400,
                                                "count": 1
                                            },
                                            {
                                                "bin_start": 884400,
                                                "bin_end": 1752800,
                                                "count": 2
                                            },
                                            {
                                                "bin_start": 1752800,
                                                "bin_end": 2621200,
                                                "count": 1
                                            },
                                            {
                                                "bin_start": 2621200,
                                                "bin_end": 3489600,
                                                "count": 4
                                            },
                                            {
                                                "bin_start": 3489600,
                                                "bin_end": 4358000,
                                                "count": 0
                                            },
                                            {
                                                "bin_start": 4358000,
                                                "bin_end": 5226400,
                                                "count": 0
                                            },
                                            {
                                                "bin_start": 5226400,
                                                "bin_end": 6094800,
                                                "count": 0
                                            },
                                            {
                                                "bin_start": 6094800,
                                                "bin_end": 6963200,
                                                "count": 1
                                            },
                                            {
                                                "bin_start": 6963200,
                                                "bin_end": 7831600,
                                                "count": 1
                                            },
                                            {
                                                "bin_start": 7831600,
                                                "bin_end": 8700000,
                                                "count": 1
                                            }
                                        ]
                                    }
                                },
                                {
                                    "name": "brand",
                                    "dtype": "object",
                                    "stats": {
                                        "unique_count": 8,
                                        "nan_count": 0,
                                        "categories": [
                                            {
                                                "name": "Peugeot",
                                                "count": 2
                                            },
                                            {
                                                "name": "Volkswagen",
                                                "count": 2
                                            },
                                            {
                                                "name": "6 others",
                                                "count": 7
                                            }
                                        ]
                                    }
                                },
                                {
                                    "name": "model",
                                    "dtype": "object",
                                    "stats": {
                                        "unique_count": 11,
                                        "nan_count": 0,
                                        "categories": [
                                            {
                                                "name": "X5",
                                                "count": 1
                                            },
                                            {
                                                "name": "Corolla",
                                                "count": 1
                                            },
                                            {
                                                "name": "9 others",
                                                "count": 9
                                            }
                                        ]
                                    }
                                },
                                {
                                    "name": "year",
                                    "dtype": "int64",
                                    "stats": {
                                        "unique_count": 9,
                                        "nan_count": 0,
                                        "min": "1996",
                                        "max": "2022",
                                        "histogram": [
                                            {
                                                "bin_start": 1996,
                                                "bin_end": 1998.6,
                                                "count": 1
                                            },
                                            {
                                                "bin_start": 1998.6,
                                                "bin_end": 2001.2,
                                                "count": 1
                                            },
                                            {
                                                "bin_start": 2001.2,
                                                "bin_end": 2003.8,
                                                "count": 0
                                            },
                                            {
                                                "bin_start": 2003.8,
                                                "bin_end": 2006.4,
                                                "count": 0
                                            },
                                            {
                                                "bin_start": 2006.4,
                                                "bin_end": 2009,
                                                "count": 0
                                            },
                                            {
                                                "bin_start": 2009,
                                                "bin_end": 2011.6,
                                                "count": 1
                                            },
                                            {
                                                "bin_start": 2011.6,
                                                "bin_end": 2014.2,
                                                "count": 5
                                            },
                                            {
                                                "bin_start": 2014.2,
                                                "bin_end": 2016.8,
                                                "count": 1
                                            },
                                            {
                                                "bin_start": 2016.8,
                                                "bin_end": 2019.4,
                                                "count": 1
                                            },
                                            {
                                                "bin_start": 2019.4,
                                                "bin_end": 2022,
                                                "count": 1
                                            }
                                        ]
                                    }
                                },
                                {
                                    "name": "color",
                                    "dtype": "object",
                                    "stats": {
                                        "unique_count": 0,
                                        "nan_count": 11,
                                        "categories": [
                                            {
                                                "name": "Missing",
                                                "count": 11
                                            }
                                        ]
                                    }
                                },
                                {
                                    "name": "fuel_type",
                                    "dtype": "object",
                                    "stats": {
                                        "unique_count": 2,
                                        "nan_count": 0,
                                        "categories": [
                                            {
                                                "name": "Nafta",
                                                "count": 9
                                            },
                                            {
                                                "name": "Di\u00e9sel",
                                                "count": 2
                                            }
                                        ]
                                    }
                                },
                                {
                                    "name": "door",
                                    "dtype": "float64",
                                    "stats": {
                                        "unique_count": 3,
                                        "nan_count": 0,
                                        "min": "3.0",
                                        "max": "5.0",
                                        "histogram": [
                                            {
                                                "bin_start": 3,
                                                "bin_end": 3.2,
                                                "count": 4
                                            },
                                            {
                                                "bin_start": 3.2,
                                                "bin_end": 3.4,
                                                "count": 0
                                            },
                                            {
                                                "bin_start": 3.4,
                                                "bin_end": 3.6,
                                                "count": 0
                                            },
                                            {
                                                "bin_start": 3.6,
                                                "bin_end": 3.8,
                                                "count": 0
                                            },
                                            {
                                                "bin_start": 3.8,
                                                "bin_end": 4,
                                                "count": 0
                                            },
                                            {
                                                "bin_start": 4,
                                                "bin_end": 4.2,
                                                "count": 4
                                            },
                                            {
                                                "bin_start": 4.2,
                                                "bin_end": 4.4,
                                                "count": 0
                                            },
                                            {
                                                "bin_start": 4.4,
                                                "bin_end": 4.6,
                                                "count": 0
                                            },
                                            {
                                                "bin_start": 4.6,
                                                "bin_end": 4.8,
                                                "count": 0
                                            },
                                            {
                                                "bin_start": 4.8,
                                                "bin_end": 5,
                                                "count": 3
                                            }
                                        ]
                                    }
                                },
                                {
                                    "name": "gear",
                                    "dtype": "object",
                                    "stats": {
                                        "unique_count": 2,
                                        "nan_count": 0,
                                        "categories": [
                                            {
                                                "name": "Manual",
                                                "count": 9
                                            },
                                            {
                                                "name": "Autom\u00e1tica",
                                                "count": 2
                                            }
                                        ]
                                    }
                                },
                                {
                                    "name": "motor",
                                    "dtype": "object",
                                    "stats": {
                                        "unique_count": 6,
                                        "nan_count": 0,
                                        "categories": [
                                            {
                                                "name": "1.6",
                                                "count": 5
                                            },
                                            {
                                                "name": "2.0",
                                                "count": 2
                                            },
                                            {
                                                "name": "4 others",
                                                "count": 4
                                            }
                                        ]
                                    }
                                },
                                {
                                    "name": "body_type",
                                    "dtype": "object",
                                    "stats": {
                                        "unique_count": 5,
                                        "nan_count": 0,
                                        "categories": [
                                            {
                                                "name": "Sed\u00e1n",
                                                "count": 4
                                            },
                                            {
                                                "name": "Hatchback",
                                                "count": 3
                                            },
                                            {
                                                "name": "3 others",
                                                "count": 4
                                            }
                                        ]
                                    }
                                },
                                {
                                    "name": "kilometres",
                                    "dtype": "int64",
                                    "stats": {
                                        "unique_count": 11,
                                        "nan_count": 0,
                                        "min": "1000",
                                        "max": "132000",
                                        "histogram": [
                                            {
                                                "bin_start": 1000,
                                                "bin_end": 14100,
                                                "count": 1
                                            },
                                            {
                                                "bin_start": 14100,
                                                "bin_end": 27200,
                                                "count": 1
                                            },
                                            {
                                                "bin_start": 27200,
                                                "bin_end": 40300,
                                                "count": 1
                                            },
                                            {
                                                "bin_start": 40300,
                                                "bin_end": 53400,
                                                "count": 0
                                            },
                                            {
                                                "bin_start": 53400,
                                                "bin_end": 66500,
                                                "count": 1
                                            },
                                            {
                                                "bin_start": 66500,
                                                "bin_end": 79600,
                                                "count": 0
                                            },
                                            {
                                                "bin_start": 79600,
                                                "bin_end": 92700,
                                                "count": 0
                                            },
                                            {
                                                "bin_start": 92700,
                                                "bin_end": 105800,
                                                "count": 3
                                            },
                                            {
                                                "bin_start": 105800,
                                                "bin_end": 118900,
                                                "count": 1
                                            },
                                            {
                                                "bin_start": 118900,
                                                "bin_end": 132000,
                                                "count": 3
                                            }
                                        ]
                                    }
                                },
                                {
                                    "name": "currency",
                                    "dtype": "object",
                                    "stats": {
                                        "unique_count": 2,
                                        "nan_count": 0,
                                        "categories": [
                                            {
                                                "name": "pesos",
                                                "count": 10
                                            },
                                            {
                                                "name": "d\u00f3lares",
                                                "count": 1
                                            }
                                        ]
                                    }
                                },
                                {
                                    "name": "_deepnote_index_column",
                                    "dtype": "int64"
                                }
                            ],
                            "rows": [
                                {
                                    "money": "16000",
                                    "brand": "BMW",
                                    "model": "X5",
                                    "year": "2000",
                                    "color": "nan",
                                    "fuel_type": "Nafta",
                                    "door": "5.0",
                                    "gear": "Manual",
                                    "motor": "4.4",
                                    "body_type": "SUV",
                                    "kilometres": "132000",
                                    "currency": "d\u00f3lares",
                                    "_deepnote_index_column": "208"
                                },
                                {
                                    "money": "6300000",
                                    "brand": "Toyota",
                                    "model": "Corolla",
                                    "year": "2018",
                                    "color": "nan",
                                    "fuel_type": "Nafta",
                                    "door": "4.0",
                                    "gear": "Autom\u00e1tica",
                                    "motor": "1.8",
                                    "body_type": "Sed\u00e1n",
                                    "kilometres": "16500",
                                    "currency": "pesos",
                                    "_deepnote_index_column": "231"
                                },
                                {
                                    "money": "2890000",
                                    "brand": "Peugeot",
                                    "model": "408",
                                    "year": "2013",
                                    "color": "nan",
                                    "fuel_type": "Nafta",
                                    "door": "4.0",
                                    "gear": "Manual",
                                    "motor": "2.0",
                                    "body_type": "Sed\u00e1n",
                                    "kilometres": "129400",
                                    "currency": "pesos",
                                    "_deepnote_index_column": "256"
                                },
                                {
                                    "money": "3050000",
                                    "brand": "Renault",
                                    "model": "Logan",
                                    "year": "2016",
                                    "color": "nan",
                                    "fuel_type": "Nafta",
                                    "door": "4.0",
                                    "gear": "Manual",
                                    "motor": "1.6",
                                    "body_type": "Sed\u00e1n",
                                    "kilometres": "37300",
                                    "currency": "pesos",
                                    "_deepnote_index_column": "290"
                                },
                                {
                                    "money": "1690000",
                                    "brand": "Chevrolet",
                                    "model": "Celta",
                                    "year": "2013",
                                    "color": "nan",
                                    "fuel_type": "Nafta",
                                    "door": "3.0",
                                    "gear": "Manual",
                                    "motor": "1.4",
                                    "body_type": "Hatchback",
                                    "kilometres": "109000",
                                    "currency": "pesos",
                                    "_deepnote_index_column": "295"
                                },
                                {
                                    "money": "7500000",
                                    "brand": "Volkswagen",
                                    "model": "Sharan",
                                    "year": "2014",
                                    "color": "nan",
                                    "fuel_type": "Nafta",
                                    "door": "5.0",
                                    "gear": "Autom\u00e1tica",
                                    "motor": "2.0",
                                    "body_type": "Monovolumen",
                                    "kilometres": "66000",
                                    "currency": "pesos",
                                    "_deepnote_index_column": "329"
                                },
                                {
                                    "money": "2750000",
                                    "brand": "Citro\u00ebn",
                                    "model": "DS3",
                                    "year": "2012",
                                    "color": "nan",
                                    "fuel_type": "Nafta",
                                    "door": "3.0",
                                    "gear": "Manual",
                                    "motor": "1.6",
                                    "body_type": "Hatchback",
                                    "kilometres": "95000",
                                    "currency": "pesos",
                                    "_deepnote_index_column": "331"
                                },
                                {
                                    "money": "8700000",
                                    "brand": "Citro\u00ebn",
                                    "model": "Jumpy",
                                    "year": "2022",
                                    "color": "nan",
                                    "fuel_type": "Di\u00e9sel",
                                    "door": "3.0",
                                    "gear": "Manual",
                                    "motor": "1.6",
                                    "body_type": "Furg\u00f3n",
                                    "kilometres": "1000",
                                    "currency": "pesos",
                                    "_deepnote_index_column": "344"
                                },
                                {
                                    "money": "2990000",
                                    "brand": "Volkswagen",
                                    "model": "Suran Cross",
                                    "year": "2014",
                                    "color": "nan",
                                    "fuel_type": "Nafta",
                                    "door": "5.0",
                                    "gear": "Manual",
                                    "motor": "1.6",
                                    "body_type": "Monovolumen",
                                    "kilometres": "120000",
                                    "currency": "pesos",
                                    "_deepnote_index_column": "384"
                                },
                                {
                                    "money": "1698000",
                                    "brand": "Ford",
                                    "model": "Ka",
                                    "year": "2011",
                                    "color": "nan",
                                    "fuel_type": "Nafta",
                                    "door": "3.0",
                                    "gear": "Manual",
                                    "motor": "1.6",
                                    "body_type": "Hatchback",
                                    "kilometres": "97000",
                                    "currency": "pesos",
                                    "_deepnote_index_column": "443"
                                }
                            ]
                        },
                        "text/plain": "       money       brand        model  year color fuel_type  door        gear  \\\n208    16000         BMW           X5  2000   NaN     Nafta   5.0      Manual   \n231  6300000      Toyota      Corolla  2018   NaN     Nafta   4.0  Autom\u00e1tica   \n256  2890000     Peugeot          408  2013   NaN     Nafta   4.0      Manual   \n290  3050000     Renault        Logan  2016   NaN     Nafta   4.0      Manual   \n295  1690000   Chevrolet        Celta  2013   NaN     Nafta   3.0      Manual   \n329  7500000  Volkswagen       Sharan  2014   NaN     Nafta   5.0  Autom\u00e1tica   \n331  2750000     Citro\u00ebn          DS3  2012   NaN     Nafta   3.0      Manual   \n344  8700000     Citro\u00ebn        Jumpy  2022   NaN    Di\u00e9sel   3.0      Manual   \n384  2990000  Volkswagen  Suran Cross  2014   NaN     Nafta   5.0      Manual   \n443  1698000        Ford           Ka  2011   NaN     Nafta   3.0      Manual   \n467  1950000     Peugeot          504  1996   NaN    Di\u00e9sel   4.0      Manual   \n\n    motor    body_type  kilometres currency  \n208   4.4          SUV      132000  d\u00f3lares  \n231   1.8        Sed\u00e1n       16500    pesos  \n256   2.0        Sed\u00e1n      129400    pesos  \n290   1.6        Sed\u00e1n       37300    pesos  \n295   1.4    Hatchback      109000    pesos  \n329   2.0  Monovolumen       66000    pesos  \n331   1.6    Hatchback       95000    pesos  \n344   1.6       Furg\u00f3n        1000    pesos  \n384   1.6  Monovolumen      120000    pesos  \n443   1.6    Hatchback       97000    pesos  \n467   2.3        Sed\u00e1n       99000    pesos  ",
                        "text/html": "<div>\n<style scoped>\n    .dataframe tbody tr th:only-of-type {\n        vertical-align: middle;\n    }\n\n    .dataframe tbody tr th {\n        vertical-align: top;\n    }\n\n    .dataframe thead th {\n        text-align: right;\n    }\n</style>\n<table border=\"1\" class=\"dataframe\">\n  <thead>\n    <tr style=\"text-align: right;\">\n      <th></th>\n      <th>money</th>\n      <th>brand</th>\n      <th>model</th>\n      <th>year</th>\n      <th>color</th>\n      <th>fuel_type</th>\n      <th>door</th>\n      <th>gear</th>\n      <th>motor</th>\n      <th>body_type</th>\n      <th>kilometres</th>\n      <th>currency</th>\n    </tr>\n  </thead>\n  <tbody>\n    <tr>\n      <th>208</th>\n      <td>16000</td>\n      <td>BMW</td>\n      <td>X5</td>\n      <td>2000</td>\n      <td>NaN</td>\n      <td>Nafta</td>\n      <td>5.0</td>\n      <td>Manual</td>\n      <td>4.4</td>\n      <td>SUV</td>\n      <td>132000</td>\n      <td>d\u00f3lares</td>\n    </tr>\n    <tr>\n      <th>231</th>\n      <td>6300000</td>\n      <td>Toyota</td>\n      <td>Corolla</td>\n      <td>2018</td>\n      <td>NaN</td>\n      <td>Nafta</td>\n      <td>4.0</td>\n      <td>Autom\u00e1tica</td>\n      <td>1.8</td>\n      <td>Sed\u00e1n</td>\n      <td>16500</td>\n      <td>pesos</td>\n    </tr>\n    <tr>\n      <th>256</th>\n      <td>2890000</td>\n      <td>Peugeot</td>\n      <td>408</td>\n      <td>2013</td>\n      <td>NaN</td>\n      <td>Nafta</td>\n      <td>4.0</td>\n      <td>Manual</td>\n      <td>2.0</td>\n      <td>Sed\u00e1n</td>\n      <td>129400</td>\n      <td>pesos</td>\n    </tr>\n    <tr>\n      <th>290</th>\n      <td>3050000</td>\n      <td>Renault</td>\n      <td>Logan</td>\n      <td>2016</td>\n      <td>NaN</td>\n      <td>Nafta</td>\n      <td>4.0</td>\n      <td>Manual</td>\n      <td>1.6</td>\n      <td>Sed\u00e1n</td>\n      <td>37300</td>\n      <td>pesos</td>\n    </tr>\n    <tr>\n      <th>295</th>\n      <td>1690000</td>\n      <td>Chevrolet</td>\n      <td>Celta</td>\n      <td>2013</td>\n      <td>NaN</td>\n      <td>Nafta</td>\n      <td>3.0</td>\n      <td>Manual</td>\n      <td>1.4</td>\n      <td>Hatchback</td>\n      <td>109000</td>\n      <td>pesos</td>\n    </tr>\n    <tr>\n      <th>329</th>\n      <td>7500000</td>\n      <td>Volkswagen</td>\n      <td>Sharan</td>\n      <td>2014</td>\n      <td>NaN</td>\n      <td>Nafta</td>\n      <td>5.0</td>\n      <td>Autom\u00e1tica</td>\n      <td>2.0</td>\n      <td>Monovolumen</td>\n      <td>66000</td>\n      <td>pesos</td>\n    </tr>\n    <tr>\n      <th>331</th>\n      <td>2750000</td>\n      <td>Citro\u00ebn</td>\n      <td>DS3</td>\n      <td>2012</td>\n      <td>NaN</td>\n      <td>Nafta</td>\n      <td>3.0</td>\n      <td>Manual</td>\n      <td>1.6</td>\n      <td>Hatchback</td>\n      <td>95000</td>\n      <td>pesos</td>\n    </tr>\n    <tr>\n      <th>344</th>\n      <td>8700000</td>\n      <td>Citro\u00ebn</td>\n      <td>Jumpy</td>\n      <td>2022</td>\n      <td>NaN</td>\n      <td>Di\u00e9sel</td>\n      <td>3.0</td>\n      <td>Manual</td>\n      <td>1.6</td>\n      <td>Furg\u00f3n</td>\n      <td>1000</td>\n      <td>pesos</td>\n    </tr>\n    <tr>\n      <th>384</th>\n      <td>2990000</td>\n      <td>Volkswagen</td>\n      <td>Suran Cross</td>\n      <td>2014</td>\n      <td>NaN</td>\n      <td>Nafta</td>\n      <td>5.0</td>\n      <td>Manual</td>\n      <td>1.6</td>\n      <td>Monovolumen</td>\n      <td>120000</td>\n      <td>pesos</td>\n    </tr>\n    <tr>\n      <th>443</th>\n      <td>1698000</td>\n      <td>Ford</td>\n      <td>Ka</td>\n      <td>2011</td>\n      <td>NaN</td>\n      <td>Nafta</td>\n      <td>3.0</td>\n      <td>Manual</td>\n      <td>1.6</td>\n      <td>Hatchback</td>\n      <td>97000</td>\n      <td>pesos</td>\n    </tr>\n    <tr>\n      <th>467</th>\n      <td>1950000</td>\n      <td>Peugeot</td>\n      <td>504</td>\n      <td>1996</td>\n      <td>NaN</td>\n      <td>Di\u00e9sel</td>\n      <td>4.0</td>\n      <td>Manual</td>\n      <td>2.3</td>\n      <td>Sed\u00e1n</td>\n      <td>99000</td>\n      <td>pesos</td>\n    </tr>\n  </tbody>\n</table>\n</div>"
                    },
                    "metadata": {}
                }
            ]
        },
        {
            "metadata": {
                "tags": [],
                "cell_id": "8d8f57087cea4c3e80e0b6d5907b1b4c",
                "source_hash": "62c21fa1",
                "execution_start": 1671889308147,
                "execution_millis": 0,
                "deepnote_app_coordinates": {
                    "h": 5,
                    "w": 12,
                    "x": 0,
                    "y": 118
                },
                "deepnote_to_be_reexecuted": false,
                "deepnote_cell_type": "code"
            },
            "cell_type": "code",
            "source": "## Since color is not an important feature when predicting price it can be dropped as a whole\n\ndf.drop('color', axis=1, inplace=True)",
            "execution_count": 12,
            "outputs": []
        },
        {
            "metadata": {
                "tags": [],
                "cell_id": "bd2d2b9cc4294fb8a7e518ddbeb301d1",
                "source_hash": "c085b6ba",
                "execution_start": 1671889308149,
                "execution_millis": 55,
                "deepnote_app_coordinates": {
                    "h": 5,
                    "w": 12,
                    "x": 0,
                    "y": 124
                },
                "deepnote_to_be_reexecuted": false,
                "deepnote_cell_type": "code"
            },
            "cell_type": "code",
            "source": "df.head()",
            "execution_count": 13,
            "outputs": [
                {
                    "output_type": "execute_result",
                    "execution_count": 13,
                    "data": {
                        "application/vnd.deepnote.dataframe.v3+json": {
                            "column_count": 11,
                            "row_count": 5,
                            "columns": [
                                {
                                    "name": "money",
                                    "dtype": "int64",
                                    "stats": {
                                        "unique_count": 5,
                                        "nan_count": 0,
                                        "min": "19000",
                                        "max": "10850000",
                                        "histogram": [
                                            {
                                                "bin_start": 19000,
                                                "bin_end": 1102100,
                                                "count": 2
                                            },
                                            {
                                                "bin_start": 1102100,
                                                "bin_end": 2185200,
                                                "count": 0
                                            },
                                            {
                                                "bin_start": 2185200,
                                                "bin_end": 3268300,
                                                "count": 0
                                            },
                                            {
                                                "bin_start": 3268300,
                                                "bin_end": 4351400,
                                                "count": 0
                                            },
                                            {
                                                "bin_start": 4351400,
                                                "bin_end": 5434500,
                                                "count": 0
                                            },
                                            {
                                                "bin_start": 5434500,
                                                "bin_end": 6517600,
                                                "count": 1
                                            },
                                            {
                                                "bin_start": 6517600,
                                                "bin_end": 7600700,
                                                "count": 0
                                            },
                                            {
                                                "bin_start": 7600700,
                                                "bin_end": 8683800,
                                                "count": 0
                                            },
                                            {
                                                "bin_start": 8683800,
                                                "bin_end": 9766900,
                                                "count": 0
                                            },
                                            {
                                                "bin_start": 9766900,
                                                "bin_end": 10850000,
                                                "count": 2
                                            }
                                        ]
                                    }
                                },
                                {
                                    "name": "brand",
                                    "dtype": "object",
                                    "stats": {
                                        "unique_count": 3,
                                        "nan_count": 0,
                                        "categories": [
                                            {
                                                "name": "Toyota",
                                                "count": 2
                                            },
                                            {
                                                "name": "Jeep",
                                                "count": 2
                                            },
                                            {
                                                "name": "Citro\u00ebn",
                                                "count": 1
                                            }
                                        ]
                                    }
                                },
                                {
                                    "name": "model",
                                    "dtype": "object",
                                    "stats": {
                                        "unique_count": 4,
                                        "nan_count": 0,
                                        "categories": [
                                            {
                                                "name": "Compass",
                                                "count": 2
                                            },
                                            {
                                                "name": "Corolla Cross",
                                                "count": 1
                                            },
                                            {
                                                "name": "2 others",
                                                "count": 2
                                            }
                                        ]
                                    }
                                },
                                {
                                    "name": "year",
                                    "dtype": "int64",
                                    "stats": {
                                        "unique_count": 2,
                                        "nan_count": 0,
                                        "min": "2019",
                                        "max": "2022",
                                        "histogram": [
                                            {
                                                "bin_start": 2019,
                                                "bin_end": 2019.3,
                                                "count": 1
                                            },
                                            {
                                                "bin_start": 2019.3,
                                                "bin_end": 2019.6,
                                                "count": 0
                                            },
                                            {
                                                "bin_start": 2019.6,
                                                "bin_end": 2019.9,
                                                "count": 0
                                            },
                                            {
                                                "bin_start": 2019.9,
                                                "bin_end": 2020.2,
                                                "count": 0
                                            },
                                            {
                                                "bin_start": 2020.2,
                                                "bin_end": 2020.5,
                                                "count": 0
                                            },
                                            {
                                                "bin_start": 2020.5,
                                                "bin_end": 2020.8,
                                                "count": 0
                                            },
                                            {
                                                "bin_start": 2020.8,
                                                "bin_end": 2021.1,
                                                "count": 0
                                            },
                                            {
                                                "bin_start": 2021.1,
                                                "bin_end": 2021.4,
                                                "count": 0
                                            },
                                            {
                                                "bin_start": 2021.4,
                                                "bin_end": 2021.7,
                                                "count": 0
                                            },
                                            {
                                                "bin_start": 2021.7,
                                                "bin_end": 2022,
                                                "count": 4
                                            }
                                        ]
                                    }
                                },
                                {
                                    "name": "fuel_type",
                                    "dtype": "object",
                                    "stats": {
                                        "unique_count": 1,
                                        "nan_count": 0,
                                        "categories": [
                                            {
                                                "name": "Nafta",
                                                "count": 5
                                            }
                                        ]
                                    }
                                },
                                {
                                    "name": "door",
                                    "dtype": "float64",
                                    "stats": {
                                        "unique_count": 2,
                                        "nan_count": 0,
                                        "min": "4.0",
                                        "max": "5.0",
                                        "histogram": [
                                            {
                                                "bin_start": 4,
                                                "bin_end": 4.1,
                                                "count": 1
                                            },
                                            {
                                                "bin_start": 4.1,
                                                "bin_end": 4.2,
                                                "count": 0
                                            },
                                            {
                                                "bin_start": 4.2,
                                                "bin_end": 4.3,
                                                "count": 0
                                            },
                                            {
                                                "bin_start": 4.3,
                                                "bin_end": 4.4,
                                                "count": 0
                                            },
                                            {
                                                "bin_start": 4.4,
                                                "bin_end": 4.5,
                                                "count": 0
                                            },
                                            {
                                                "bin_start": 4.5,
                                                "bin_end": 4.6,
                                                "count": 0
                                            },
                                            {
                                                "bin_start": 4.6,
                                                "bin_end": 4.7,
                                                "count": 0
                                            },
                                            {
                                                "bin_start": 4.7,
                                                "bin_end": 4.8,
                                                "count": 0
                                            },
                                            {
                                                "bin_start": 4.8,
                                                "bin_end": 4.9,
                                                "count": 0
                                            },
                                            {
                                                "bin_start": 4.9,
                                                "bin_end": 5,
                                                "count": 4
                                            }
                                        ]
                                    }
                                },
                                {
                                    "name": "gear",
                                    "dtype": "object",
                                    "stats": {
                                        "unique_count": 2,
                                        "nan_count": 0,
                                        "categories": [
                                            {
                                                "name": "Autom\u00e1tica",
                                                "count": 4
                                            },
                                            {
                                                "name": "Manual",
                                                "count": 1
                                            }
                                        ]
                                    }
                                },
                                {
                                    "name": "motor",
                                    "dtype": "object",
                                    "stats": {
                                        "unique_count": 2,
                                        "nan_count": 2,
                                        "categories": [
                                            {
                                                "name": "2.4",
                                                "count": 2
                                            },
                                            {
                                                "name": "1.8",
                                                "count": 1
                                            },
                                            {
                                                "name": "Missing",
                                                "count": 2
                                            }
                                        ]
                                    }
                                },
                                {
                                    "name": "body_type",
                                    "dtype": "object",
                                    "stats": {
                                        "unique_count": 2,
                                        "nan_count": 0,
                                        "categories": [
                                            {
                                                "name": "SUV",
                                                "count": 4
                                            },
                                            {
                                                "name": "Sed\u00e1n",
                                                "count": 1
                                            }
                                        ]
                                    }
                                },
                                {
                                    "name": "kilometres",
                                    "dtype": "int64",
                                    "stats": {
                                        "unique_count": 3,
                                        "nan_count": 0,
                                        "min": "500",
                                        "max": "9000",
                                        "histogram": [
                                            {
                                                "bin_start": 500,
                                                "bin_end": 1350,
                                                "count": 4
                                            },
                                            {
                                                "bin_start": 1350,
                                                "bin_end": 2200,
                                                "count": 0
                                            },
                                            {
                                                "bin_start": 2200,
                                                "bin_end": 3050,
                                                "count": 0
                                            },
                                            {
                                                "bin_start": 3050,
                                                "bin_end": 3900,
                                                "count": 0
                                            },
                                            {
                                                "bin_start": 3900,
                                                "bin_end": 4750,
                                                "count": 0
                                            },
                                            {
                                                "bin_start": 4750,
                                                "bin_end": 5600,
                                                "count": 0
                                            },
                                            {
                                                "bin_start": 5600,
                                                "bin_end": 6450,
                                                "count": 0
                                            },
                                            {
                                                "bin_start": 6450,
                                                "bin_end": 7300,
                                                "count": 0
                                            },
                                            {
                                                "bin_start": 7300,
                                                "bin_end": 8150,
                                                "count": 0
                                            },
                                            {
                                                "bin_start": 8150,
                                                "bin_end": 9000,
                                                "count": 1
                                            }
                                        ]
                                    }
                                },
                                {
                                    "name": "currency",
                                    "dtype": "object",
                                    "stats": {
                                        "unique_count": 2,
                                        "nan_count": 0,
                                        "categories": [
                                            {
                                                "name": "pesos",
                                                "count": 3
                                            },
                                            {
                                                "name": "d\u00f3lares",
                                                "count": 2
                                            }
                                        ]
                                    }
                                },
                                {
                                    "name": "_deepnote_index_column",
                                    "dtype": "int64"
                                }
                            ],
                            "rows": [
                                {
                                    "money": "10350000",
                                    "brand": "Toyota",
                                    "model": "Corolla Cross",
                                    "year": "2022",
                                    "fuel_type": "Nafta",
                                    "door": "5.0",
                                    "gear": "Autom\u00e1tica",
                                    "motor": "nan",
                                    "body_type": "SUV",
                                    "kilometres": "500",
                                    "currency": "pesos",
                                    "_deepnote_index_column": "0"
                                },
                                {
                                    "money": "10850000",
                                    "brand": "Jeep",
                                    "model": "Compass",
                                    "year": "2022",
                                    "fuel_type": "Nafta",
                                    "door": "5.0",
                                    "gear": "Autom\u00e1tica",
                                    "motor": "2.4",
                                    "body_type": "SUV",
                                    "kilometres": "500",
                                    "currency": "pesos",
                                    "_deepnote_index_column": "1"
                                },
                                {
                                    "money": "35500",
                                    "brand": "Jeep",
                                    "model": "Compass",
                                    "year": "2022",
                                    "fuel_type": "Nafta",
                                    "door": "5.0",
                                    "gear": "Autom\u00e1tica",
                                    "motor": "2.4",
                                    "body_type": "SUV",
                                    "kilometres": "500",
                                    "currency": "d\u00f3lares",
                                    "_deepnote_index_column": "2"
                                },
                                {
                                    "money": "19000",
                                    "brand": "Citro\u00ebn",
                                    "model": "C4 Cactus",
                                    "year": "2022",
                                    "fuel_type": "Nafta",
                                    "door": "5.0",
                                    "gear": "Autom\u00e1tica",
                                    "motor": "nan",
                                    "body_type": "SUV",
                                    "kilometres": "550",
                                    "currency": "d\u00f3lares",
                                    "_deepnote_index_column": "3"
                                },
                                {
                                    "money": "5800000",
                                    "brand": "Toyota",
                                    "model": "Corolla",
                                    "year": "2019",
                                    "fuel_type": "Nafta",
                                    "door": "4.0",
                                    "gear": "Manual",
                                    "motor": "1.8",
                                    "body_type": "Sed\u00e1n",
                                    "kilometres": "9000",
                                    "currency": "pesos",
                                    "_deepnote_index_column": "4"
                                }
                            ]
                        },
                        "text/plain": "      money    brand          model  year fuel_type  door        gear motor  \\\n0  10350000   Toyota  Corolla Cross  2022     Nafta   5.0  Autom\u00e1tica   NaN   \n1  10850000     Jeep        Compass  2022     Nafta   5.0  Autom\u00e1tica   2.4   \n2     35500     Jeep        Compass  2022     Nafta   5.0  Autom\u00e1tica   2.4   \n3     19000  Citro\u00ebn      C4 Cactus  2022     Nafta   5.0  Autom\u00e1tica   NaN   \n4   5800000   Toyota        Corolla  2019     Nafta   4.0      Manual   1.8   \n\n  body_type  kilometres currency  \n0       SUV         500    pesos  \n1       SUV         500    pesos  \n2       SUV         500  d\u00f3lares  \n3       SUV         550  d\u00f3lares  \n4     Sed\u00e1n        9000    pesos  ",
                        "text/html": "<div>\n<style scoped>\n    .dataframe tbody tr th:only-of-type {\n        vertical-align: middle;\n    }\n\n    .dataframe tbody tr th {\n        vertical-align: top;\n    }\n\n    .dataframe thead th {\n        text-align: right;\n    }\n</style>\n<table border=\"1\" class=\"dataframe\">\n  <thead>\n    <tr style=\"text-align: right;\">\n      <th></th>\n      <th>money</th>\n      <th>brand</th>\n      <th>model</th>\n      <th>year</th>\n      <th>fuel_type</th>\n      <th>door</th>\n      <th>gear</th>\n      <th>motor</th>\n      <th>body_type</th>\n      <th>kilometres</th>\n      <th>currency</th>\n    </tr>\n  </thead>\n  <tbody>\n    <tr>\n      <th>0</th>\n      <td>10350000</td>\n      <td>Toyota</td>\n      <td>Corolla Cross</td>\n      <td>2022</td>\n      <td>Nafta</td>\n      <td>5.0</td>\n      <td>Autom\u00e1tica</td>\n      <td>NaN</td>\n      <td>SUV</td>\n      <td>500</td>\n      <td>pesos</td>\n    </tr>\n    <tr>\n      <th>1</th>\n      <td>10850000</td>\n      <td>Jeep</td>\n      <td>Compass</td>\n      <td>2022</td>\n      <td>Nafta</td>\n      <td>5.0</td>\n      <td>Autom\u00e1tica</td>\n      <td>2.4</td>\n      <td>SUV</td>\n      <td>500</td>\n      <td>pesos</td>\n    </tr>\n    <tr>\n      <th>2</th>\n      <td>35500</td>\n      <td>Jeep</td>\n      <td>Compass</td>\n      <td>2022</td>\n      <td>Nafta</td>\n      <td>5.0</td>\n      <td>Autom\u00e1tica</td>\n      <td>2.4</td>\n      <td>SUV</td>\n      <td>500</td>\n      <td>d\u00f3lares</td>\n    </tr>\n    <tr>\n      <th>3</th>\n      <td>19000</td>\n      <td>Citro\u00ebn</td>\n      <td>C4 Cactus</td>\n      <td>2022</td>\n      <td>Nafta</td>\n      <td>5.0</td>\n      <td>Autom\u00e1tica</td>\n      <td>NaN</td>\n      <td>SUV</td>\n      <td>550</td>\n      <td>d\u00f3lares</td>\n    </tr>\n    <tr>\n      <th>4</th>\n      <td>5800000</td>\n      <td>Toyota</td>\n      <td>Corolla</td>\n      <td>2019</td>\n      <td>Nafta</td>\n      <td>4.0</td>\n      <td>Manual</td>\n      <td>1.8</td>\n      <td>Sed\u00e1n</td>\n      <td>9000</td>\n      <td>pesos</td>\n    </tr>\n  </tbody>\n</table>\n</div>"
                    },
                    "metadata": {}
                }
            ]
        },
        {
            "metadata": {
                "tags": [],
                "cell_id": "a46ea76e62a347fa9e4178eaaafd000a",
                "source_hash": "4382f36b",
                "execution_start": 1671889308215,
                "execution_millis": 12,
                "deepnote_app_coordinates": {
                    "h": 5,
                    "w": 12,
                    "x": 0,
                    "y": 130
                },
                "deepnote_to_be_reexecuted": false,
                "deepnote_cell_type": "code"
            },
            "cell_type": "code",
            "source": "df['motor'].describe()",
            "execution_count": 14,
            "outputs": [
                {
                    "output_type": "execute_result",
                    "execution_count": 14,
                    "data": {
                        "text/plain": "count     499\nunique     29\ntop       1.6\nfreq      163\nName: motor, dtype: object"
                    },
                    "metadata": {}
                }
            ]
        },
        {
            "metadata": {
                "tags": [],
                "cell_id": "879fb076aa2149b3b48f5d2077949d0d",
                "source_hash": "f983ac80",
                "execution_start": 1671889308271,
                "execution_millis": 2,
                "deepnote_app_coordinates": {
                    "h": 5,
                    "w": 12,
                    "x": 0,
                    "y": 136
                },
                "deepnote_to_be_reexecuted": false,
                "deepnote_cell_type": "code"
            },
            "cell_type": "code",
            "source": "df['motor'].dtypes",
            "execution_count": 15,
            "outputs": [
                {
                    "output_type": "execute_result",
                    "execution_count": 15,
                    "data": {
                        "text/plain": "dtype('O')"
                    },
                    "metadata": {}
                }
            ]
        },
        {
            "metadata": {
                "tags": [],
                "cell_id": "a4942c7e038a417fb7ce26e764fa0221",
                "source_hash": "eb1af2c4",
                "execution_start": 1671889308272,
                "execution_millis": 0,
                "deepnote_app_coordinates": {
                    "h": 5,
                    "w": 12,
                    "x": 0,
                    "y": 142
                },
                "deepnote_to_be_reexecuted": false,
                "deepnote_cell_type": "code"
            },
            "cell_type": "code",
            "source": "df['motor'].fillna(method='bfill', axis=0, inplace=True)",
            "execution_count": 16,
            "outputs": []
        },
        {
            "metadata": {
                "tags": [],
                "cell_id": "e1768ded77dd426db7f60f821f7d4695",
                "source_hash": "c420a4d2",
                "execution_start": 1671889308272,
                "execution_millis": 5,
                "deepnote_app_coordinates": {
                    "h": 5,
                    "w": 12,
                    "x": 0,
                    "y": 148
                },
                "deepnote_to_be_reexecuted": false,
                "deepnote_cell_type": "code"
            },
            "cell_type": "code",
            "source": "df[df.motor.isnull()]",
            "execution_count": 17,
            "outputs": [
                {
                    "output_type": "execute_result",
                    "execution_count": 17,
                    "data": {
                        "application/vnd.deepnote.dataframe.v3+json": {
                            "column_count": 11,
                            "row_count": 0,
                            "columns": [
                                {
                                    "name": "money",
                                    "dtype": "int64",
                                    "stats": {
                                        "unique_count": 0,
                                        "nan_count": 0,
                                        "min": null,
                                        "max": null,
                                        "histogram": [
                                            {
                                                "bin_start": 0,
                                                "bin_end": 0.1,
                                                "count": 0
                                            },
                                            {
                                                "bin_start": 0.1,
                                                "bin_end": 0.2,
                                                "count": 0
                                            },
                                            {
                                                "bin_start": 0.2,
                                                "bin_end": 0.30000000000000004,
                                                "count": 0
                                            },
                                            {
                                                "bin_start": 0.30000000000000004,
                                                "bin_end": 0.4,
                                                "count": 0
                                            },
                                            {
                                                "bin_start": 0.4,
                                                "bin_end": 0.5,
                                                "count": 0
                                            },
                                            {
                                                "bin_start": 0.5,
                                                "bin_end": 0.6000000000000001,
                                                "count": 0
                                            },
                                            {
                                                "bin_start": 0.6000000000000001,
                                                "bin_end": 0.7000000000000001,
                                                "count": 0
                                            },
                                            {
                                                "bin_start": 0.7000000000000001,
                                                "bin_end": 0.8,
                                                "count": 0
                                            },
                                            {
                                                "bin_start": 0.8,
                                                "bin_end": 0.9,
                                                "count": 0
                                            },
                                            {
                                                "bin_start": 0.9,
                                                "bin_end": 1,
                                                "count": 0
                                            }
                                        ]
                                    }
                                },
                                {
                                    "name": "brand",
                                    "dtype": "object",
                                    "stats": {
                                        "unique_count": 0,
                                        "nan_count": 0,
                                        "categories": []
                                    }
                                },
                                {
                                    "name": "model",
                                    "dtype": "object",
                                    "stats": {
                                        "unique_count": 0,
                                        "nan_count": 0,
                                        "categories": []
                                    }
                                },
                                {
                                    "name": "year",
                                    "dtype": "int64",
                                    "stats": {
                                        "unique_count": 0,
                                        "nan_count": 0,
                                        "min": null,
                                        "max": null,
                                        "histogram": [
                                            {
                                                "bin_start": 0,
                                                "bin_end": 0.1,
                                                "count": 0
                                            },
                                            {
                                                "bin_start": 0.1,
                                                "bin_end": 0.2,
                                                "count": 0
                                            },
                                            {
                                                "bin_start": 0.2,
                                                "bin_end": 0.30000000000000004,
                                                "count": 0
                                            },
                                            {
                                                "bin_start": 0.30000000000000004,
                                                "bin_end": 0.4,
                                                "count": 0
                                            },
                                            {
                                                "bin_start": 0.4,
                                                "bin_end": 0.5,
                                                "count": 0
                                            },
                                            {
                                                "bin_start": 0.5,
                                                "bin_end": 0.6000000000000001,
                                                "count": 0
                                            },
                                            {
                                                "bin_start": 0.6000000000000001,
                                                "bin_end": 0.7000000000000001,
                                                "count": 0
                                            },
                                            {
                                                "bin_start": 0.7000000000000001,
                                                "bin_end": 0.8,
                                                "count": 0
                                            },
                                            {
                                                "bin_start": 0.8,
                                                "bin_end": 0.9,
                                                "count": 0
                                            },
                                            {
                                                "bin_start": 0.9,
                                                "bin_end": 1,
                                                "count": 0
                                            }
                                        ]
                                    }
                                },
                                {
                                    "name": "fuel_type",
                                    "dtype": "object",
                                    "stats": {
                                        "unique_count": 0,
                                        "nan_count": 0,
                                        "categories": []
                                    }
                                },
                                {
                                    "name": "door",
                                    "dtype": "float64",
                                    "stats": {
                                        "unique_count": 0,
                                        "nan_count": 0,
                                        "min": null,
                                        "max": null,
                                        "histogram": [
                                            {
                                                "bin_start": 0,
                                                "bin_end": 0.1,
                                                "count": 0
                                            },
                                            {
                                                "bin_start": 0.1,
                                                "bin_end": 0.2,
                                                "count": 0
                                            },
                                            {
                                                "bin_start": 0.2,
                                                "bin_end": 0.30000000000000004,
                                                "count": 0
                                            },
                                            {
                                                "bin_start": 0.30000000000000004,
                                                "bin_end": 0.4,
                                                "count": 0
                                            },
                                            {
                                                "bin_start": 0.4,
                                                "bin_end": 0.5,
                                                "count": 0
                                            },
                                            {
                                                "bin_start": 0.5,
                                                "bin_end": 0.6000000000000001,
                                                "count": 0
                                            },
                                            {
                                                "bin_start": 0.6000000000000001,
                                                "bin_end": 0.7000000000000001,
                                                "count": 0
                                            },
                                            {
                                                "bin_start": 0.7000000000000001,
                                                "bin_end": 0.8,
                                                "count": 0
                                            },
                                            {
                                                "bin_start": 0.8,
                                                "bin_end": 0.9,
                                                "count": 0
                                            },
                                            {
                                                "bin_start": 0.9,
                                                "bin_end": 1,
                                                "count": 0
                                            }
                                        ]
                                    }
                                },
                                {
                                    "name": "gear",
                                    "dtype": "object",
                                    "stats": {
                                        "unique_count": 0,
                                        "nan_count": 0,
                                        "categories": []
                                    }
                                },
                                {
                                    "name": "motor",
                                    "dtype": "object",
                                    "stats": {
                                        "unique_count": 0,
                                        "nan_count": 0,
                                        "categories": []
                                    }
                                },
                                {
                                    "name": "body_type",
                                    "dtype": "object",
                                    "stats": {
                                        "unique_count": 0,
                                        "nan_count": 0,
                                        "categories": []
                                    }
                                },
                                {
                                    "name": "kilometres",
                                    "dtype": "int64",
                                    "stats": {
                                        "unique_count": 0,
                                        "nan_count": 0,
                                        "min": null,
                                        "max": null,
                                        "histogram": [
                                            {
                                                "bin_start": 0,
                                                "bin_end": 0.1,
                                                "count": 0
                                            },
                                            {
                                                "bin_start": 0.1,
                                                "bin_end": 0.2,
                                                "count": 0
                                            },
                                            {
                                                "bin_start": 0.2,
                                                "bin_end": 0.30000000000000004,
                                                "count": 0
                                            },
                                            {
                                                "bin_start": 0.30000000000000004,
                                                "bin_end": 0.4,
                                                "count": 0
                                            },
                                            {
                                                "bin_start": 0.4,
                                                "bin_end": 0.5,
                                                "count": 0
                                            },
                                            {
                                                "bin_start": 0.5,
                                                "bin_end": 0.6000000000000001,
                                                "count": 0
                                            },
                                            {
                                                "bin_start": 0.6000000000000001,
                                                "bin_end": 0.7000000000000001,
                                                "count": 0
                                            },
                                            {
                                                "bin_start": 0.7000000000000001,
                                                "bin_end": 0.8,
                                                "count": 0
                                            },
                                            {
                                                "bin_start": 0.8,
                                                "bin_end": 0.9,
                                                "count": 0
                                            },
                                            {
                                                "bin_start": 0.9,
                                                "bin_end": 1,
                                                "count": 0
                                            }
                                        ]
                                    }
                                },
                                {
                                    "name": "currency",
                                    "dtype": "object",
                                    "stats": {
                                        "unique_count": 0,
                                        "nan_count": 0,
                                        "categories": []
                                    }
                                },
                                {
                                    "name": "_deepnote_index_column",
                                    "dtype": "int64"
                                }
                            ],
                            "rows": []
                        },
                        "text/plain": "Empty DataFrame\nColumns: [money, brand, model, year, fuel_type, door, gear, motor, body_type, kilometres, currency]\nIndex: []",
                        "text/html": "<div>\n<style scoped>\n    .dataframe tbody tr th:only-of-type {\n        vertical-align: middle;\n    }\n\n    .dataframe tbody tr th {\n        vertical-align: top;\n    }\n\n    .dataframe thead th {\n        text-align: right;\n    }\n</style>\n<table border=\"1\" class=\"dataframe\">\n  <thead>\n    <tr style=\"text-align: right;\">\n      <th></th>\n      <th>money</th>\n      <th>brand</th>\n      <th>model</th>\n      <th>year</th>\n      <th>fuel_type</th>\n      <th>door</th>\n      <th>gear</th>\n      <th>motor</th>\n      <th>body_type</th>\n      <th>kilometres</th>\n      <th>currency</th>\n    </tr>\n  </thead>\n  <tbody>\n  </tbody>\n</table>\n</div>"
                    },
                    "metadata": {}
                }
            ]
        },
        {
            "metadata": {
                "tags": [],
                "cell_id": "35e73c9f87ca41ed83491165bcd2a478",
                "source_hash": "f3dd26da",
                "execution_start": 1671889308306,
                "execution_millis": 14,
                "deepnote_app_coordinates": {
                    "h": 5,
                    "w": 12,
                    "x": 0,
                    "y": 154
                },
                "deepnote_to_be_reexecuted": false,
                "deepnote_cell_type": "code"
            },
            "cell_type": "code",
            "source": "df.isnull().sum()",
            "execution_count": 18,
            "outputs": [
                {
                    "output_type": "execute_result",
                    "execution_count": 18,
                    "data": {
                        "text/plain": "money         0\nbrand         0\nmodel         0\nyear          0\nfuel_type     0\ndoor          0\ngear          1\nmotor         0\nbody_type     1\nkilometres    0\ncurrency      0\ndtype: int64"
                    },
                    "metadata": {}
                }
            ]
        },
        {
            "metadata": {
                "tags": [],
                "cell_id": "d7bc34fa943a4ba4a8ad508a11b82f6f",
                "source_hash": "bd4d7a83",
                "execution_start": 1671889308350,
                "execution_millis": 0,
                "deepnote_app_coordinates": {
                    "h": 5,
                    "w": 12,
                    "x": 0,
                    "y": 160
                },
                "deepnote_to_be_reexecuted": false,
                "deepnote_cell_type": "code"
            },
            "cell_type": "code",
            "source": "df.dropna(subset=['gear'], axis=0, inplace=True)",
            "execution_count": 19,
            "outputs": []
        },
        {
            "metadata": {
                "tags": [],
                "cell_id": "d386fe15960249e99c28d827ff2331bc",
                "source_hash": "b0dd23a9",
                "execution_start": 1671889308350,
                "execution_millis": 1,
                "deepnote_app_coordinates": {
                    "h": 5,
                    "w": 12,
                    "x": 0,
                    "y": 166
                },
                "deepnote_to_be_reexecuted": false,
                "deepnote_cell_type": "code"
            },
            "cell_type": "code",
            "source": "df.dropna(subset=['body_type'], axis=0, inplace=True)",
            "execution_count": 20,
            "outputs": []
        },
        {
            "metadata": {
                "tags": [],
                "cell_id": "9772aa05db35422dbb5631ceaabe2c3a",
                "source_hash": "f3dd26da",
                "execution_start": 1671889308351,
                "execution_millis": 1,
                "deepnote_app_coordinates": {
                    "h": 5,
                    "w": 12,
                    "x": 0,
                    "y": 172
                },
                "deepnote_to_be_reexecuted": false,
                "deepnote_cell_type": "code"
            },
            "cell_type": "code",
            "source": "df.isnull().sum()",
            "execution_count": 21,
            "outputs": [
                {
                    "output_type": "execute_result",
                    "execution_count": 21,
                    "data": {
                        "text/plain": "money         0\nbrand         0\nmodel         0\nyear          0\nfuel_type     0\ndoor          0\ngear          0\nmotor         0\nbody_type     0\nkilometres    0\ncurrency      0\ndtype: int64"
                    },
                    "metadata": {}
                }
            ]
        },
        {
            "metadata": {
                "tags": [],
                "cell_id": "6db364d562dc456bbcd224b3175a87ac",
                "source_hash": "f88152d9",
                "execution_start": 1671889308353,
                "execution_millis": 41,
                "deepnote_app_coordinates": {
                    "h": 5,
                    "w": 12,
                    "x": 0,
                    "y": 178
                },
                "deepnote_to_be_reexecuted": false,
                "deepnote_cell_type": "code"
            },
            "cell_type": "code",
            "source": "df.describe()",
            "execution_count": 22,
            "outputs": [
                {
                    "output_type": "execute_result",
                    "execution_count": 22,
                    "data": {
                        "application/vnd.deepnote.dataframe.v3+json": {
                            "column_count": 4,
                            "row_count": 8,
                            "columns": [
                                {
                                    "name": "money",
                                    "dtype": "float64",
                                    "stats": {
                                        "unique_count": 8,
                                        "nan_count": 0,
                                        "min": "508.0",
                                        "max": "14299000.0",
                                        "histogram": [
                                            {
                                                "bin_start": 508,
                                                "bin_end": 1430357.2,
                                                "count": 2
                                            },
                                            {
                                                "bin_start": 1430357.2,
                                                "bin_end": 2860206.4,
                                                "count": 1
                                            },
                                            {
                                                "bin_start": 2860206.4,
                                                "bin_end": 4290055.6,
                                                "count": 3
                                            },
                                            {
                                                "bin_start": 4290055.6,
                                                "bin_end": 5719904.8,
                                                "count": 1
                                            },
                                            {
                                                "bin_start": 5719904.8,
                                                "bin_end": 7149754,
                                                "count": 0
                                            },
                                            {
                                                "bin_start": 7149754,
                                                "bin_end": 8579603.2,
                                                "count": 0
                                            },
                                            {
                                                "bin_start": 8579603.2,
                                                "bin_end": 10009452.4,
                                                "count": 0
                                            },
                                            {
                                                "bin_start": 10009452.4,
                                                "bin_end": 11439301.6,
                                                "count": 0
                                            },
                                            {
                                                "bin_start": 11439301.6,
                                                "bin_end": 12869150.799999999,
                                                "count": 0
                                            },
                                            {
                                                "bin_start": 12869150.799999999,
                                                "bin_end": 14299000,
                                                "count": 1
                                            }
                                        ]
                                    }
                                },
                                {
                                    "name": "year",
                                    "dtype": "float64",
                                    "stats": {
                                        "unique_count": 8,
                                        "nan_count": 0,
                                        "min": "3.7162992296058457",
                                        "max": "2022.0",
                                        "histogram": [
                                            {
                                                "bin_start": 3.7162992296058457,
                                                "bin_end": 205.5446693066453,
                                                "count": 1
                                            },
                                            {
                                                "bin_start": 205.5446693066453,
                                                "bin_end": 407.3730393836847,
                                                "count": 0
                                            },
                                            {
                                                "bin_start": 407.3730393836847,
                                                "bin_end": 609.2014094607242,
                                                "count": 1
                                            },
                                            {
                                                "bin_start": 609.2014094607242,
                                                "bin_end": 811.0297795377636,
                                                "count": 0
                                            },
                                            {
                                                "bin_start": 811.0297795377636,
                                                "bin_end": 1012.858149614803,
                                                "count": 0
                                            },
                                            {
                                                "bin_start": 1012.858149614803,
                                                "bin_end": 1214.6865196918425,
                                                "count": 0
                                            },
                                            {
                                                "bin_start": 1214.6865196918425,
                                                "bin_end": 1416.5148897688819,
                                                "count": 0
                                            },
                                            {
                                                "bin_start": 1416.5148897688819,
                                                "bin_end": 1618.3432598459212,
                                                "count": 0
                                            },
                                            {
                                                "bin_start": 1618.3432598459212,
                                                "bin_end": 1820.1716299229606,
                                                "count": 0
                                            },
                                            {
                                                "bin_start": 1820.1716299229606,
                                                "bin_end": 2022,
                                                "count": 6
                                            }
                                        ]
                                    }
                                },
                                {
                                    "name": "door",
                                    "dtype": "float64",
                                    "stats": {
                                        "unique_count": 6,
                                        "nan_count": 0,
                                        "min": "0.7623633486819144",
                                        "max": "508.0",
                                        "histogram": [
                                            {
                                                "bin_start": 0.7623633486819144,
                                                "bin_end": 51.48612701381373,
                                                "count": 7
                                            },
                                            {
                                                "bin_start": 51.48612701381373,
                                                "bin_end": 102.20989067894554,
                                                "count": 0
                                            },
                                            {
                                                "bin_start": 102.20989067894554,
                                                "bin_end": 152.93365434407735,
                                                "count": 0
                                            },
                                            {
                                                "bin_start": 152.93365434407735,
                                                "bin_end": 203.65741800920915,
                                                "count": 0
                                            },
                                            {
                                                "bin_start": 203.65741800920915,
                                                "bin_end": 254.38118167434095,
                                                "count": 0
                                            },
                                            {
                                                "bin_start": 254.38118167434095,
                                                "bin_end": 305.1049453394728,
                                                "count": 0
                                            },
                                            {
                                                "bin_start": 305.1049453394728,
                                                "bin_end": 355.8287090046046,
                                                "count": 0
                                            },
                                            {
                                                "bin_start": 355.8287090046046,
                                                "bin_end": 406.5524726697364,
                                                "count": 0
                                            },
                                            {
                                                "bin_start": 406.5524726697364,
                                                "bin_end": 457.2762363348682,
                                                "count": 0
                                            },
                                            {
                                                "bin_start": 457.2762363348682,
                                                "bin_end": 508,
                                                "count": 1
                                            }
                                        ]
                                    }
                                },
                                {
                                    "name": "kilometres",
                                    "dtype": "float64",
                                    "stats": {
                                        "unique_count": 8,
                                        "nan_count": 0,
                                        "min": "500.0",
                                        "max": "335000.0",
                                        "histogram": [
                                            {
                                                "bin_start": 500,
                                                "bin_end": 33950,
                                                "count": 2
                                            },
                                            {
                                                "bin_start": 33950,
                                                "bin_end": 67400,
                                                "count": 3
                                            },
                                            {
                                                "bin_start": 67400,
                                                "bin_end": 100850,
                                                "count": 2
                                            },
                                            {
                                                "bin_start": 100850,
                                                "bin_end": 134300,
                                                "count": 0
                                            },
                                            {
                                                "bin_start": 134300,
                                                "bin_end": 167750,
                                                "count": 0
                                            },
                                            {
                                                "bin_start": 167750,
                                                "bin_end": 201200,
                                                "count": 0
                                            },
                                            {
                                                "bin_start": 201200,
                                                "bin_end": 234650,
                                                "count": 0
                                            },
                                            {
                                                "bin_start": 234650,
                                                "bin_end": 268100,
                                                "count": 0
                                            },
                                            {
                                                "bin_start": 268100,
                                                "bin_end": 301550,
                                                "count": 0
                                            },
                                            {
                                                "bin_start": 301550,
                                                "bin_end": 335000,
                                                "count": 1
                                            }
                                        ]
                                    }
                                },
                                {
                                    "name": "_deepnote_index_column",
                                    "dtype": "object"
                                }
                            ],
                            "rows": [
                                {
                                    "money": "508.0",
                                    "year": "508.0",
                                    "door": "508.0",
                                    "kilometres": "508.0",
                                    "_deepnote_index_column": "count"
                                },
                                {
                                    "money": "3982236.3562992127",
                                    "year": "2016.2972440944882",
                                    "door": "4.474409448818897",
                                    "kilometres": "74469.5846456693",
                                    "_deepnote_index_column": "mean"
                                },
                                {
                                    "money": "2917368.3675477696",
                                    "year": "3.7162992296058457",
                                    "door": "0.7623633486819144",
                                    "kilometres": "46698.87820418506",
                                    "_deepnote_index_column": "std"
                                },
                                {
                                    "money": "8000.0",
                                    "year": "1995.0",
                                    "door": "2.0",
                                    "kilometres": "500.0",
                                    "_deepnote_index_column": "min"
                                },
                                {
                                    "money": "2350000.0",
                                    "year": "2014.0",
                                    "door": "4.0",
                                    "kilometres": "43000.0",
                                    "_deepnote_index_column": "25%"
                                },
                                {
                                    "money": "3489900.0",
                                    "year": "2017.0",
                                    "door": "5.0",
                                    "kilometres": "65750.0",
                                    "_deepnote_index_column": "50%"
                                },
                                {
                                    "money": "5259975.0",
                                    "year": "2019.0",
                                    "door": "5.0",
                                    "kilometres": "99100.0",
                                    "_deepnote_index_column": "75%"
                                },
                                {
                                    "money": "14299000.0",
                                    "year": "2022.0",
                                    "door": "5.0",
                                    "kilometres": "335000.0",
                                    "_deepnote_index_column": "max"
                                }
                            ]
                        },
                        "text/plain": "              money         year        door     kilometres\ncount  5.080000e+02   508.000000  508.000000     508.000000\nmean   3.982236e+06  2016.297244    4.474409   74469.584646\nstd    2.917368e+06     3.716299    0.762363   46698.878204\nmin    8.000000e+03  1995.000000    2.000000     500.000000\n25%    2.350000e+06  2014.000000    4.000000   43000.000000\n50%    3.489900e+06  2017.000000    5.000000   65750.000000\n75%    5.259975e+06  2019.000000    5.000000   99100.000000\nmax    1.429900e+07  2022.000000    5.000000  335000.000000",
                        "text/html": "<div>\n<style scoped>\n    .dataframe tbody tr th:only-of-type {\n        vertical-align: middle;\n    }\n\n    .dataframe tbody tr th {\n        vertical-align: top;\n    }\n\n    .dataframe thead th {\n        text-align: right;\n    }\n</style>\n<table border=\"1\" class=\"dataframe\">\n  <thead>\n    <tr style=\"text-align: right;\">\n      <th></th>\n      <th>money</th>\n      <th>year</th>\n      <th>door</th>\n      <th>kilometres</th>\n    </tr>\n  </thead>\n  <tbody>\n    <tr>\n      <th>count</th>\n      <td>5.080000e+02</td>\n      <td>508.000000</td>\n      <td>508.000000</td>\n      <td>508.000000</td>\n    </tr>\n    <tr>\n      <th>mean</th>\n      <td>3.982236e+06</td>\n      <td>2016.297244</td>\n      <td>4.474409</td>\n      <td>74469.584646</td>\n    </tr>\n    <tr>\n      <th>std</th>\n      <td>2.917368e+06</td>\n      <td>3.716299</td>\n      <td>0.762363</td>\n      <td>46698.878204</td>\n    </tr>\n    <tr>\n      <th>min</th>\n      <td>8.000000e+03</td>\n      <td>1995.000000</td>\n      <td>2.000000</td>\n      <td>500.000000</td>\n    </tr>\n    <tr>\n      <th>25%</th>\n      <td>2.350000e+06</td>\n      <td>2014.000000</td>\n      <td>4.000000</td>\n      <td>43000.000000</td>\n    </tr>\n    <tr>\n      <th>50%</th>\n      <td>3.489900e+06</td>\n      <td>2017.000000</td>\n      <td>5.000000</td>\n      <td>65750.000000</td>\n    </tr>\n    <tr>\n      <th>75%</th>\n      <td>5.259975e+06</td>\n      <td>2019.000000</td>\n      <td>5.000000</td>\n      <td>99100.000000</td>\n    </tr>\n    <tr>\n      <th>max</th>\n      <td>1.429900e+07</td>\n      <td>2022.000000</td>\n      <td>5.000000</td>\n      <td>335000.000000</td>\n    </tr>\n  </tbody>\n</table>\n</div>"
                    },
                    "metadata": {}
                }
            ]
        },
        {
            "metadata": {
                "tags": [],
                "cell_id": "98d36056e531480396f5f9e1dd24d9cf",
                "deepnote_app_coordinates": {
                    "h": 5,
                    "w": 12,
                    "x": 0,
                    "y": 190
                },
                "deepnote_cell_type": "markdown"
            },
            "cell_type": "markdown",
            "source": "### Minor Task: Converting all units of exchange to dollars.  "
        },
        {
            "metadata": {
                "tags": [],
                "cell_id": "5a0c1eb172ea4837a98211cc876d13a1",
                "source_hash": "30e6dd69",
                "execution_start": 1671889308423,
                "execution_millis": 5,
                "deepnote_app_coordinates": {
                    "h": 5,
                    "w": 12,
                    "x": 0,
                    "y": 184
                },
                "deepnote_to_be_reexecuted": false,
                "deepnote_cell_type": "code"
            },
            "cell_type": "code",
            "source": "df['currency'].value_counts()",
            "execution_count": 23,
            "outputs": [
                {
                    "output_type": "execute_result",
                    "execution_count": 23,
                    "data": {
                        "text/plain": "pesos      426\nd\u00f3lares     82\nName: currency, dtype: int64"
                    },
                    "metadata": {}
                }
            ]
        },
        {
            "metadata": {
                "tags": [],
                "cell_id": "0dc2083d09da4cd1b128228fea468424",
                "source_hash": "435351ca",
                "execution_start": 1671889308446,
                "execution_millis": 6,
                "deepnote_app_coordinates": {
                    "h": 5,
                    "w": 12,
                    "x": 0,
                    "y": 196
                },
                "deepnote_to_be_reexecuted": false,
                "deepnote_cell_type": "code"
            },
            "cell_type": "code",
            "source": "df.money.astype('float')",
            "execution_count": 24,
            "outputs": [
                {
                    "output_type": "execute_result",
                    "execution_count": 24,
                    "data": {
                        "text/plain": "0      10350000.0\n1      10850000.0\n2         35500.0\n3         19000.0\n4       5800000.0\n          ...    \n505     5250000.0\n506       46000.0\n507     3960000.0\n508       44900.0\n509     2890000.0\nName: money, Length: 508, dtype: float64"
                    },
                    "metadata": {}
                }
            ]
        },
        {
            "metadata": {
                "tags": [],
                "cell_id": "d7b8575e5b0c47dc8ad41e2cf648f5b0",
                "source_hash": "890aa1a5",
                "execution_start": 1671889308446,
                "execution_millis": 1,
                "deepnote_app_coordinates": {
                    "h": 5,
                    "w": 12,
                    "x": 0,
                    "y": 202
                },
                "deepnote_to_be_reexecuted": false,
                "deepnote_cell_type": "code"
            },
            "cell_type": "code",
            "source": "\nnew_df = df.assign(money = lambda x: np.where(x.currency == 'd\u00f3lares', x.money, 0.052 * x.money ))",
            "execution_count": 25,
            "outputs": []
        },
        {
            "metadata": {
                "tags": [],
                "cell_id": "81682dad59bc470ab4173d4eee5101b7",
                "deepnote_app_coordinates": {
                    "h": 5,
                    "w": 12,
                    "x": 0,
                    "y": 214
                },
                "deepnote_cell_type": "markdown"
            },
            "cell_type": "markdown",
            "source": "Now all car prices have a single unit of exchange which is the **dollar**"
        },
        {
            "metadata": {
                "tags": [],
                "cell_id": "8275407a41ae4fcf969a92215e64e1fe",
                "source_hash": "7e3208a4",
                "execution_start": 1671889308447,
                "execution_millis": 0,
                "deepnote_app_coordinates": {
                    "h": 5,
                    "w": 12,
                    "x": 0,
                    "y": 208
                },
                "deepnote_to_be_reexecuted": false,
                "deepnote_cell_type": "code"
            },
            "cell_type": "code",
            "source": "## Renaming the money column to price in dollars and dropping the currency column\n\n# df.rename(columns={'money': 'price_in_dollars'}, inplace=True)",
            "execution_count": 26,
            "outputs": []
        },
        {
            "metadata": {
                "tags": [],
                "cell_id": "105fe1c218ea4423a10fe24feab9b0da",
                "source_hash": "e0dec228",
                "execution_start": 1671889308451,
                "execution_millis": 138,
                "deepnote_app_coordinates": {
                    "h": 5,
                    "w": 12,
                    "x": 0,
                    "y": 220
                },
                "deepnote_to_be_reexecuted": false,
                "deepnote_cell_type": "code"
            },
            "cell_type": "code",
            "source": "new_df.head()",
            "execution_count": 27,
            "outputs": [
                {
                    "output_type": "execute_result",
                    "execution_count": 27,
                    "data": {
                        "application/vnd.deepnote.dataframe.v3+json": {
                            "column_count": 11,
                            "row_count": 5,
                            "columns": [
                                {
                                    "name": "money",
                                    "dtype": "float64",
                                    "stats": {
                                        "unique_count": 5,
                                        "nan_count": 0,
                                        "min": "19000.0",
                                        "max": "564200.0",
                                        "histogram": [
                                            {
                                                "bin_start": 19000,
                                                "bin_end": 73520,
                                                "count": 2
                                            },
                                            {
                                                "bin_start": 73520,
                                                "bin_end": 128040,
                                                "count": 0
                                            },
                                            {
                                                "bin_start": 128040,
                                                "bin_end": 182560,
                                                "count": 0
                                            },
                                            {
                                                "bin_start": 182560,
                                                "bin_end": 237080,
                                                "count": 0
                                            },
                                            {
                                                "bin_start": 237080,
                                                "bin_end": 291600,
                                                "count": 0
                                            },
                                            {
                                                "bin_start": 291600,
                                                "bin_end": 346120,
                                                "count": 1
                                            },
                                            {
                                                "bin_start": 346120,
                                                "bin_end": 400640,
                                                "count": 0
                                            },
                                            {
                                                "bin_start": 400640,
                                                "bin_end": 455160,
                                                "count": 0
                                            },
                                            {
                                                "bin_start": 455160,
                                                "bin_end": 509680,
                                                "count": 0
                                            },
                                            {
                                                "bin_start": 509680,
                                                "bin_end": 564200,
                                                "count": 2
                                            }
                                        ]
                                    }
                                },
                                {
                                    "name": "brand",
                                    "dtype": "object",
                                    "stats": {
                                        "unique_count": 3,
                                        "nan_count": 0,
                                        "categories": [
                                            {
                                                "name": "Toyota",
                                                "count": 2
                                            },
                                            {
                                                "name": "Jeep",
                                                "count": 2
                                            },
                                            {
                                                "name": "Citro\u00ebn",
                                                "count": 1
                                            }
                                        ]
                                    }
                                },
                                {
                                    "name": "model",
                                    "dtype": "object",
                                    "stats": {
                                        "unique_count": 4,
                                        "nan_count": 0,
                                        "categories": [
                                            {
                                                "name": "Compass",
                                                "count": 2
                                            },
                                            {
                                                "name": "Corolla Cross",
                                                "count": 1
                                            },
                                            {
                                                "name": "2 others",
                                                "count": 2
                                            }
                                        ]
                                    }
                                },
                                {
                                    "name": "year",
                                    "dtype": "int64",
                                    "stats": {
                                        "unique_count": 2,
                                        "nan_count": 0,
                                        "min": "2019",
                                        "max": "2022",
                                        "histogram": [
                                            {
                                                "bin_start": 2019,
                                                "bin_end": 2019.3,
                                                "count": 1
                                            },
                                            {
                                                "bin_start": 2019.3,
                                                "bin_end": 2019.6,
                                                "count": 0
                                            },
                                            {
                                                "bin_start": 2019.6,
                                                "bin_end": 2019.9,
                                                "count": 0
                                            },
                                            {
                                                "bin_start": 2019.9,
                                                "bin_end": 2020.2,
                                                "count": 0
                                            },
                                            {
                                                "bin_start": 2020.2,
                                                "bin_end": 2020.5,
                                                "count": 0
                                            },
                                            {
                                                "bin_start": 2020.5,
                                                "bin_end": 2020.8,
                                                "count": 0
                                            },
                                            {
                                                "bin_start": 2020.8,
                                                "bin_end": 2021.1,
                                                "count": 0
                                            },
                                            {
                                                "bin_start": 2021.1,
                                                "bin_end": 2021.4,
                                                "count": 0
                                            },
                                            {
                                                "bin_start": 2021.4,
                                                "bin_end": 2021.7,
                                                "count": 0
                                            },
                                            {
                                                "bin_start": 2021.7,
                                                "bin_end": 2022,
                                                "count": 4
                                            }
                                        ]
                                    }
                                },
                                {
                                    "name": "fuel_type",
                                    "dtype": "object",
                                    "stats": {
                                        "unique_count": 1,
                                        "nan_count": 0,
                                        "categories": [
                                            {
                                                "name": "Nafta",
                                                "count": 5
                                            }
                                        ]
                                    }
                                },
                                {
                                    "name": "door",
                                    "dtype": "float64",
                                    "stats": {
                                        "unique_count": 2,
                                        "nan_count": 0,
                                        "min": "4.0",
                                        "max": "5.0",
                                        "histogram": [
                                            {
                                                "bin_start": 4,
                                                "bin_end": 4.1,
                                                "count": 1
                                            },
                                            {
                                                "bin_start": 4.1,
                                                "bin_end": 4.2,
                                                "count": 0
                                            },
                                            {
                                                "bin_start": 4.2,
                                                "bin_end": 4.3,
                                                "count": 0
                                            },
                                            {
                                                "bin_start": 4.3,
                                                "bin_end": 4.4,
                                                "count": 0
                                            },
                                            {
                                                "bin_start": 4.4,
                                                "bin_end": 4.5,
                                                "count": 0
                                            },
                                            {
                                                "bin_start": 4.5,
                                                "bin_end": 4.6,
                                                "count": 0
                                            },
                                            {
                                                "bin_start": 4.6,
                                                "bin_end": 4.7,
                                                "count": 0
                                            },
                                            {
                                                "bin_start": 4.7,
                                                "bin_end": 4.8,
                                                "count": 0
                                            },
                                            {
                                                "bin_start": 4.8,
                                                "bin_end": 4.9,
                                                "count": 0
                                            },
                                            {
                                                "bin_start": 4.9,
                                                "bin_end": 5,
                                                "count": 4
                                            }
                                        ]
                                    }
                                },
                                {
                                    "name": "gear",
                                    "dtype": "object",
                                    "stats": {
                                        "unique_count": 2,
                                        "nan_count": 0,
                                        "categories": [
                                            {
                                                "name": "Autom\u00e1tica",
                                                "count": 4
                                            },
                                            {
                                                "name": "Manual",
                                                "count": 1
                                            }
                                        ]
                                    }
                                },
                                {
                                    "name": "motor",
                                    "dtype": "object",
                                    "stats": {
                                        "unique_count": 2,
                                        "nan_count": 0,
                                        "categories": [
                                            {
                                                "name": "2.4",
                                                "count": 3
                                            },
                                            {
                                                "name": "1.8",
                                                "count": 2
                                            }
                                        ]
                                    }
                                },
                                {
                                    "name": "body_type",
                                    "dtype": "object",
                                    "stats": {
                                        "unique_count": 2,
                                        "nan_count": 0,
                                        "categories": [
                                            {
                                                "name": "SUV",
                                                "count": 4
                                            },
                                            {
                                                "name": "Sed\u00e1n",
                                                "count": 1
                                            }
                                        ]
                                    }
                                },
                                {
                                    "name": "kilometres",
                                    "dtype": "int64",
                                    "stats": {
                                        "unique_count": 3,
                                        "nan_count": 0,
                                        "min": "500",
                                        "max": "9000",
                                        "histogram": [
                                            {
                                                "bin_start": 500,
                                                "bin_end": 1350,
                                                "count": 4
                                            },
                                            {
                                                "bin_start": 1350,
                                                "bin_end": 2200,
                                                "count": 0
                                            },
                                            {
                                                "bin_start": 2200,
                                                "bin_end": 3050,
                                                "count": 0
                                            },
                                            {
                                                "bin_start": 3050,
                                                "bin_end": 3900,
                                                "count": 0
                                            },
                                            {
                                                "bin_start": 3900,
                                                "bin_end": 4750,
                                                "count": 0
                                            },
                                            {
                                                "bin_start": 4750,
                                                "bin_end": 5600,
                                                "count": 0
                                            },
                                            {
                                                "bin_start": 5600,
                                                "bin_end": 6450,
                                                "count": 0
                                            },
                                            {
                                                "bin_start": 6450,
                                                "bin_end": 7300,
                                                "count": 0
                                            },
                                            {
                                                "bin_start": 7300,
                                                "bin_end": 8150,
                                                "count": 0
                                            },
                                            {
                                                "bin_start": 8150,
                                                "bin_end": 9000,
                                                "count": 1
                                            }
                                        ]
                                    }
                                },
                                {
                                    "name": "currency",
                                    "dtype": "object",
                                    "stats": {
                                        "unique_count": 2,
                                        "nan_count": 0,
                                        "categories": [
                                            {
                                                "name": "pesos",
                                                "count": 3
                                            },
                                            {
                                                "name": "d\u00f3lares",
                                                "count": 2
                                            }
                                        ]
                                    }
                                },
                                {
                                    "name": "_deepnote_index_column",
                                    "dtype": "int64"
                                }
                            ],
                            "rows": [
                                {
                                    "money": "538200.0",
                                    "brand": "Toyota",
                                    "model": "Corolla Cross",
                                    "year": "2022",
                                    "fuel_type": "Nafta",
                                    "door": "5.0",
                                    "gear": "Autom\u00e1tica",
                                    "motor": "2.4",
                                    "body_type": "SUV",
                                    "kilometres": "500",
                                    "currency": "pesos",
                                    "_deepnote_index_column": "0"
                                },
                                {
                                    "money": "564200.0",
                                    "brand": "Jeep",
                                    "model": "Compass",
                                    "year": "2022",
                                    "fuel_type": "Nafta",
                                    "door": "5.0",
                                    "gear": "Autom\u00e1tica",
                                    "motor": "2.4",
                                    "body_type": "SUV",
                                    "kilometres": "500",
                                    "currency": "pesos",
                                    "_deepnote_index_column": "1"
                                },
                                {
                                    "money": "35500.0",
                                    "brand": "Jeep",
                                    "model": "Compass",
                                    "year": "2022",
                                    "fuel_type": "Nafta",
                                    "door": "5.0",
                                    "gear": "Autom\u00e1tica",
                                    "motor": "2.4",
                                    "body_type": "SUV",
                                    "kilometres": "500",
                                    "currency": "d\u00f3lares",
                                    "_deepnote_index_column": "2"
                                },
                                {
                                    "money": "19000.0",
                                    "brand": "Citro\u00ebn",
                                    "model": "C4 Cactus",
                                    "year": "2022",
                                    "fuel_type": "Nafta",
                                    "door": "5.0",
                                    "gear": "Autom\u00e1tica",
                                    "motor": "1.8",
                                    "body_type": "SUV",
                                    "kilometres": "550",
                                    "currency": "d\u00f3lares",
                                    "_deepnote_index_column": "3"
                                },
                                {
                                    "money": "301600.0",
                                    "brand": "Toyota",
                                    "model": "Corolla",
                                    "year": "2019",
                                    "fuel_type": "Nafta",
                                    "door": "4.0",
                                    "gear": "Manual",
                                    "motor": "1.8",
                                    "body_type": "Sed\u00e1n",
                                    "kilometres": "9000",
                                    "currency": "pesos",
                                    "_deepnote_index_column": "4"
                                }
                            ]
                        },
                        "text/plain": "      money    brand          model  year fuel_type  door        gear motor  \\\n0  538200.0   Toyota  Corolla Cross  2022     Nafta   5.0  Autom\u00e1tica   2.4   \n1  564200.0     Jeep        Compass  2022     Nafta   5.0  Autom\u00e1tica   2.4   \n2   35500.0     Jeep        Compass  2022     Nafta   5.0  Autom\u00e1tica   2.4   \n3   19000.0  Citro\u00ebn      C4 Cactus  2022     Nafta   5.0  Autom\u00e1tica   1.8   \n4  301600.0   Toyota        Corolla  2019     Nafta   4.0      Manual   1.8   \n\n  body_type  kilometres currency  \n0       SUV         500    pesos  \n1       SUV         500    pesos  \n2       SUV         500  d\u00f3lares  \n3       SUV         550  d\u00f3lares  \n4     Sed\u00e1n        9000    pesos  ",
                        "text/html": "<div>\n<style scoped>\n    .dataframe tbody tr th:only-of-type {\n        vertical-align: middle;\n    }\n\n    .dataframe tbody tr th {\n        vertical-align: top;\n    }\n\n    .dataframe thead th {\n        text-align: right;\n    }\n</style>\n<table border=\"1\" class=\"dataframe\">\n  <thead>\n    <tr style=\"text-align: right;\">\n      <th></th>\n      <th>money</th>\n      <th>brand</th>\n      <th>model</th>\n      <th>year</th>\n      <th>fuel_type</th>\n      <th>door</th>\n      <th>gear</th>\n      <th>motor</th>\n      <th>body_type</th>\n      <th>kilometres</th>\n      <th>currency</th>\n    </tr>\n  </thead>\n  <tbody>\n    <tr>\n      <th>0</th>\n      <td>538200.0</td>\n      <td>Toyota</td>\n      <td>Corolla Cross</td>\n      <td>2022</td>\n      <td>Nafta</td>\n      <td>5.0</td>\n      <td>Autom\u00e1tica</td>\n      <td>2.4</td>\n      <td>SUV</td>\n      <td>500</td>\n      <td>pesos</td>\n    </tr>\n    <tr>\n      <th>1</th>\n      <td>564200.0</td>\n      <td>Jeep</td>\n      <td>Compass</td>\n      <td>2022</td>\n      <td>Nafta</td>\n      <td>5.0</td>\n      <td>Autom\u00e1tica</td>\n      <td>2.4</td>\n      <td>SUV</td>\n      <td>500</td>\n      <td>pesos</td>\n    </tr>\n    <tr>\n      <th>2</th>\n      <td>35500.0</td>\n      <td>Jeep</td>\n      <td>Compass</td>\n      <td>2022</td>\n      <td>Nafta</td>\n      <td>5.0</td>\n      <td>Autom\u00e1tica</td>\n      <td>2.4</td>\n      <td>SUV</td>\n      <td>500</td>\n      <td>d\u00f3lares</td>\n    </tr>\n    <tr>\n      <th>3</th>\n      <td>19000.0</td>\n      <td>Citro\u00ebn</td>\n      <td>C4 Cactus</td>\n      <td>2022</td>\n      <td>Nafta</td>\n      <td>5.0</td>\n      <td>Autom\u00e1tica</td>\n      <td>1.8</td>\n      <td>SUV</td>\n      <td>550</td>\n      <td>d\u00f3lares</td>\n    </tr>\n    <tr>\n      <th>4</th>\n      <td>301600.0</td>\n      <td>Toyota</td>\n      <td>Corolla</td>\n      <td>2019</td>\n      <td>Nafta</td>\n      <td>4.0</td>\n      <td>Manual</td>\n      <td>1.8</td>\n      <td>Sed\u00e1n</td>\n      <td>9000</td>\n      <td>pesos</td>\n    </tr>\n  </tbody>\n</table>\n</div>"
                    },
                    "metadata": {}
                }
            ]
        },
        {
            "metadata": {
                "tags": [],
                "cell_id": "f5226d972e4943e08a2d8ba26383ea89",
                "source_hash": "66909f0c",
                "execution_start": 1671889398935,
                "execution_millis": 90352,
                "deepnote_app_coordinates": {
                    "h": 5,
                    "w": 12,
                    "x": 0,
                    "y": 226
                },
                "deepnote_to_be_reexecuted": false,
                "deepnote_cell_type": "code"
            },
            "cell_type": "code",
            "source": "## Dropping currency column\n\nnew_df.drop('currency', axis=1, inplace=True)",
            "execution_count": 35,
            "outputs": []
        },
        {
            "metadata": {
                "tags": [],
                "cell_id": "1964cc19e7a649c6abb3b10bb4f9bab3",
                "source_hash": "2ca900b9",
                "execution_start": 1671889401681,
                "execution_millis": 5,
                "deepnote_app_coordinates": {
                    "h": 5,
                    "w": 12,
                    "x": 0,
                    "y": 232
                },
                "deepnote_to_be_reexecuted": false,
                "deepnote_cell_type": "code"
            },
            "cell_type": "code",
            "source": "new_df.columns",
            "execution_count": 36,
            "outputs": [
                {
                    "output_type": "execute_result",
                    "execution_count": 36,
                    "data": {
                        "text/plain": "Index(['money', 'brand', 'model', 'year', 'fuel_type', 'door', 'gear', 'motor',\n       'body_type', 'kilometres'],\n      dtype='object')"
                    },
                    "metadata": {}
                }
            ]
        },
        {
            "metadata": {
                "tags": [],
                "cell_id": "2e4582c26513453db647724e0ccebcf6",
                "deepnote_app_coordinates": {
                    "h": 5,
                    "w": 12,
                    "x": 0,
                    "y": 250
                },
                "deepnote_cell_type": "markdown"
            },
            "cell_type": "markdown",
            "source": "### Minor task: Transforming the kilometres column by binning to categorize milage. "
        },
        {
            "metadata": {
                "tags": [],
                "cell_id": "3b36dd8b394148379a630a9b360bc13a",
                "source_hash": "78e0c535",
                "execution_start": 1671889405726,
                "execution_millis": 6,
                "deepnote_app_coordinates": {
                    "h": 5,
                    "w": 12,
                    "x": 0,
                    "y": 256
                },
                "deepnote_to_be_reexecuted": false,
                "deepnote_cell_type": "code"
            },
            "cell_type": "code",
            "source": "bins = np.linspace(min(new_df.kilometres), max(new_df.kilometres), 4)\ngroup_names = ['Low', 'Medium', 'High']\nnew_df['milage_extent'] = pd.cut(new_df.kilometres, bins,labels=group_names, include_lowest=True)",
            "execution_count": 37,
            "outputs": []
        },
        {
            "metadata": {
                "tags": [],
                "cell_id": "b037a307ec00405abd1739ba4f90c6f9",
                "source_hash": "90048a4a",
                "execution_start": 1671889408782,
                "execution_millis": 4,
                "deepnote_app_coordinates": {
                    "h": 5,
                    "w": 12,
                    "x": 0,
                    "y": 262
                },
                "deepnote_to_be_reexecuted": false,
                "deepnote_cell_type": "code"
            },
            "cell_type": "code",
            "source": "df.milage_extent.value_counts()",
            "execution_count": 38,
            "outputs": [
                {
                    "output_type": "execute_result",
                    "execution_count": 38,
                    "data": {
                        "text/plain": "Low       411\nMedium     94\nHigh        3\nName: milage_extent, dtype: int64"
                    },
                    "metadata": {}
                }
            ]
        },
        {
            "metadata": {
                "tags": [],
                "cell_id": "7cc5cfb078aa42bbac50793aa3f755f3",
                "deepnote_app_coordinates": {
                    "h": 5,
                    "w": 12,
                    "x": 0,
                    "y": 244
                },
                "deepnote_cell_type": "markdown"
            },
            "cell_type": "markdown",
            "source": "## Task 5: Checking for relationships between categorical variables and price"
        },
        {
            "metadata": {
                "tags": [],
                "cell_id": "c0c1037e07f6491c9bc3e14e228debfb",
                "source_hash": "674ecd21",
                "execution_start": 1671889413734,
                "execution_millis": 449,
                "deepnote_app_coordinates": {
                    "h": 5,
                    "w": 12,
                    "x": 0,
                    "y": 238
                },
                "deepnote_to_be_reexecuted": false,
                "deepnote_cell_type": "code"
            },
            "cell_type": "code",
            "source": "## Using a boxplot to check  \n\nplot = sns.boxplot(x='milage_extent', y='money', data=new_df)",
            "execution_count": 39,
            "outputs": [
                {
                    "data": {
                        "text/plain": "<Figure size 640x480 with 1 Axes>",
                        "image/png": "[encoded data removed]"
                    },
                    "metadata": {
                        "image/png": {
                            "width": 597,
                            "height": 433
                        }
                    },
                    "output_type": "display_data"
                }
            ]
        },
        {
            "metadata": {
                "tags": [],
                "cell_id": "d53a7b31bca541eeabd8bfe8c119ef0a",
                "is_collapsed": false,
                "formattedRanges": [],
                "deepnote_app_coordinates": {
                    "h": 2,
                    "w": 8,
                    "x": 0,
                    "y": 274
                },
                "deepnote_cell_type": "text-cell-p"
            },
            "cell_type": "markdown",
            "source": "The above boxplot shows that the most expensive cars have a low milage."
        },
        {
            "metadata": {
                "tags": [],
                "cell_id": "7921c9b4d2764cbe8e71c08caf557632",
                "source_hash": "25b0401a",
                "execution_start": 1671889452680,
                "execution_millis": 393,
                "deepnote_app_coordinates": {
                    "h": 5,
                    "w": 12,
                    "x": 0,
                    "y": 268
                },
                "deepnote_to_be_reexecuted": false,
                "deepnote_cell_type": "code"
            },
            "cell_type": "code",
            "source": "plot = sns.boxplot(x='fuel_type', y='money', data=new_df)",
            "execution_count": 42,
            "outputs": [
                {
                    "data": {
                        "text/plain": "<Figure size 640x480 with 1 Axes>",
                        "image/png": "[encoded data removed]"
                    },
                    "metadata": {
                        "image/png": {
                            "width": 597,
                            "height": 433
                        }
                    },
                    "output_type": "display_data"
                }
            ]
        },
        {
            "metadata": {
                "tags": [],
                "cell_id": "16a290f847fb43febb209c97446841fa",
                "deepnote_app_coordinates": {
                    "h": 5,
                    "w": 12,
                    "x": 0,
                    "y": 283
                },
                "deepnote_cell_type": "markdown"
            },
            "cell_type": "markdown",
            "source": "From the boxplot of price against fuel-type, the following observations can be made:\n    \n* Cars that run on diesel are the most expensive .\n* The least expensive cars run on Nafta/GNC.\n* The Nafta fuel-type contains several outliers when it comes to the price.\n"
        },
        {
            "metadata": {
                "tags": [],
                "cell_id": "24faae06c7354fbc8fc3dca073a1f085",
                "source_hash": "4898791c",
                "execution_start": 1671889716723,
                "execution_millis": 5,
                "deepnote_app_coordinates": {
                    "h": 5,
                    "w": 12,
                    "x": 0,
                    "y": 277
                },
                "deepnote_to_be_reexecuted": false,
                "deepnote_cell_type": "code"
            },
            "cell_type": "code",
            "source": "new_df.brand.value_counts()",
            "execution_count": 43,
            "outputs": [
                {
                    "output_type": "execute_result",
                    "execution_count": 43,
                    "data": {
                        "text/plain": "Volkswagen       88\nFord             57\nChevrolet        51\nPeugeot          49\nToyota           46\nRenault          45\nCitro\u00ebn          32\nFiat             24\nJeep             20\nHonda            18\nMercedes-Benz    14\nBMW              13\nHyundai           9\nAudi              8\nNissan            8\nRAM               6\nDodge             4\nKia               3\nMini              2\nMitsubishi        2\nDS                2\nVolvo             2\nChery             1\nPorsche           1\nSubaru            1\nSuzuki            1\nBaic              1\nName: brand, dtype: int64"
                    },
                    "metadata": {}
                }
            ]
        },
        {
            "metadata": {
                "tags": [],
                "cell_id": "b24edf1b639344cab6b60aa56590ce83",
                "source_hash": "4a2ea2b2",
                "execution_start": 1671889822647,
                "execution_millis": 563,
                "deepnote_app_coordinates": {
                    "h": 5,
                    "w": 12,
                    "x": 0,
                    "y": 289
                },
                "deepnote_to_be_reexecuted": false,
                "deepnote_cell_type": "code"
            },
            "cell_type": "code",
            "source": "plot = sns.histplot(y=new_df.brand)",
            "execution_count": 45,
            "outputs": [
                {
                    "data": {
                        "text/plain": "<Figure size 640x480 with 1 Axes>",
                        "image/png": "[encoded data removed]"
                    },
                    "metadata": {
                        "image/png": {
                            "width": 650,
                            "height": 432
                        }
                    },
                    "output_type": "display_data"
                }
            ]
        },
        {
            "metadata": {
                "tags": [],
                "cell_id": "ff8483c139414f8cb69dc1a7bbd11c32",
                "deepnote_app_coordinates": {
                    "h": 5,
                    "w": 12,
                    "x": 0,
                    "y": 301
                },
                "deepnote_cell_type": "markdown"
            },
            "cell_type": "markdown",
            "source": "From the sample size, it can be deduced that most Argentines use Volkswagens.  "
        },
        {
            "metadata": {
                "tags": [],
                "cell_id": "fe2287ae05ab40339460eca29702d5e9",
                "source_hash": "c6c8cb8e",
                "execution_start": 1671890111954,
                "execution_millis": 16,
                "deepnote_app_coordinates": {
                    "h": 5,
                    "w": 12,
                    "x": 0,
                    "y": 295
                },
                "deepnote_to_be_reexecuted": false,
                "deepnote_cell_type": "code"
            },
            "cell_type": "code",
            "source": "## Grouping the cars by fuel-type\ndf_grp = new_df[['fuel_type', 'money']]\ndf_grp.groupby('fuel_type', as_index=False).mean()",
            "execution_count": 46,
            "outputs": [
                {
                    "output_type": "execute_result",
                    "execution_count": 46,
                    "data": {
                        "application/vnd.deepnote.dataframe.v3+json": {
                            "column_count": 2,
                            "row_count": 4,
                            "columns": [
                                {
                                    "name": "fuel_type",
                                    "dtype": "object",
                                    "stats": {
                                        "unique_count": 4,
                                        "nan_count": 0,
                                        "categories": [
                                            {
                                                "name": "Di\u00e9sel",
                                                "count": 1
                                            },
                                            {
                                                "name": "H\u00edbrido/Nafta",
                                                "count": 1
                                            },
                                            {
                                                "name": "2 others",
                                                "count": 2
                                            }
                                        ]
                                    }
                                },
                                {
                                    "name": "money",
                                    "dtype": "float64",
                                    "stats": {
                                        "unique_count": 4,
                                        "nan_count": 0,
                                        "min": "168746.56842105262",
                                        "max": "424516.6666666667",
                                        "histogram": [
                                            {
                                                "bin_start": 168746.56842105262,
                                                "bin_end": 194323.57824561402,
                                                "count": 1
                                            },
                                            {
                                                "bin_start": 194323.57824561402,
                                                "bin_end": 219900.58807017544,
                                                "count": 1
                                            },
                                            {
                                                "bin_start": 219900.58807017544,
                                                "bin_end": 245477.59789473686,
                                                "count": 0
                                            },
                                            {
                                                "bin_start": 245477.59789473686,
                                                "bin_end": 271054.6077192982,
                                                "count": 0
                                            },
                                            {
                                                "bin_start": 271054.6077192982,
                                                "bin_end": 296631.61754385964,
                                                "count": 1
                                            },
                                            {
                                                "bin_start": 296631.61754385964,
                                                "bin_end": 322208.62736842106,
                                                "count": 0
                                            },
                                            {
                                                "bin_start": 322208.62736842106,
                                                "bin_end": 347785.6371929825,
                                                "count": 0
                                            },
                                            {
                                                "bin_start": 347785.6371929825,
                                                "bin_end": 373362.6470175439,
                                                "count": 0
                                            },
                                            {
                                                "bin_start": 373362.6470175439,
                                                "bin_end": 398939.6568421053,
                                                "count": 0
                                            },
                                            {
                                                "bin_start": 398939.6568421053,
                                                "bin_end": 424516.6666666667,
                                                "count": 1
                                            }
                                        ]
                                    }
                                },
                                {
                                    "name": "_deepnote_index_column",
                                    "dtype": "int64"
                                }
                            ],
                            "rows": [
                                {
                                    "fuel_type": "Di\u00e9sel",
                                    "money": "289155.9690140845",
                                    "_deepnote_index_column": "0"
                                },
                                {
                                    "fuel_type": "H\u00edbrido/Nafta",
                                    "money": "424516.6666666667",
                                    "_deepnote_index_column": "1"
                                },
                                {
                                    "fuel_type": "Nafta",
                                    "money": "202085.3916626504",
                                    "_deepnote_index_column": "2"
                                },
                                {
                                    "fuel_type": "Nafta/GNC",
                                    "money": "168746.56842105262",
                                    "_deepnote_index_column": "3"
                                }
                            ]
                        },
                        "text/plain": "       fuel_type          money\n0         Di\u00e9sel  289155.969014\n1  H\u00edbrido/Nafta  424516.666667\n2          Nafta  202085.391663\n3      Nafta/GNC  168746.568421",
                        "text/html": "<div>\n<style scoped>\n    .dataframe tbody tr th:only-of-type {\n        vertical-align: middle;\n    }\n\n    .dataframe tbody tr th {\n        vertical-align: top;\n    }\n\n    .dataframe thead th {\n        text-align: right;\n    }\n</style>\n<table border=\"1\" class=\"dataframe\">\n  <thead>\n    <tr style=\"text-align: right;\">\n      <th></th>\n      <th>fuel_type</th>\n      <th>money</th>\n    </tr>\n  </thead>\n  <tbody>\n    <tr>\n      <th>0</th>\n      <td>Di\u00e9sel</td>\n      <td>289155.969014</td>\n    </tr>\n    <tr>\n      <th>1</th>\n      <td>H\u00edbrido/Nafta</td>\n      <td>424516.666667</td>\n    </tr>\n    <tr>\n      <th>2</th>\n      <td>Nafta</td>\n      <td>202085.391663</td>\n    </tr>\n    <tr>\n      <th>3</th>\n      <td>Nafta/GNC</td>\n      <td>168746.568421</td>\n    </tr>\n  </tbody>\n</table>\n</div>"
                    },
                    "metadata": {}
                }
            ]
        },
        {
            "metadata": {
                "tags": [],
                "cell_id": "99a8348f5bde4f6ebb3e0275e07d2fec",
                "source_hash": "68275429",
                "execution_start": 1671890261798,
                "execution_millis": 37,
                "deepnote_app_coordinates": {
                    "h": 5,
                    "w": 12,
                    "x": 0,
                    "y": 307
                },
                "deepnote_to_be_reexecuted": false,
                "deepnote_cell_type": "code"
            },
            "cell_type": "code",
            "source": "df_grp1 = new_df[['body_type', 'money']]\ndf_grp1.groupby('body_type', as_index=False).mean()",
            "execution_count": 48,
            "outputs": [
                {
                    "output_type": "execute_result",
                    "execution_count": 48,
                    "data": {
                        "application/vnd.deepnote.dataframe.v3+json": {
                            "column_count": 2,
                            "row_count": 10,
                            "columns": [
                                {
                                    "name": "body_type",
                                    "dtype": "object",
                                    "stats": {
                                        "unique_count": 10,
                                        "nan_count": 0,
                                        "categories": [
                                            {
                                                "name": "Coup\u00e9",
                                                "count": 1
                                            },
                                            {
                                                "name": "Crossover",
                                                "count": 1
                                            },
                                            {
                                                "name": "8 others",
                                                "count": 8
                                            }
                                        ]
                                    }
                                },
                                {
                                    "name": "money",
                                    "dtype": "float64",
                                    "stats": {
                                        "unique_count": 10,
                                        "nan_count": 0,
                                        "min": "96066.66666666667",
                                        "max": "481000.0",
                                        "histogram": [
                                            {
                                                "bin_start": 96066.66666666667,
                                                "bin_end": 134560,
                                                "count": 2
                                            },
                                            {
                                                "bin_start": 134560,
                                                "bin_end": 173053.3333333333,
                                                "count": 2
                                            },
                                            {
                                                "bin_start": 173053.3333333333,
                                                "bin_end": 211546.66666666666,
                                                "count": 2
                                            },
                                            {
                                                "bin_start": 211546.66666666666,
                                                "bin_end": 250040,
                                                "count": 1
                                            },
                                            {
                                                "bin_start": 250040,
                                                "bin_end": 288533.3333333333,
                                                "count": 1
                                            },
                                            {
                                                "bin_start": 288533.3333333333,
                                                "bin_end": 327026.6666666666,
                                                "count": 1
                                            },
                                            {
                                                "bin_start": 327026.6666666666,
                                                "bin_end": 365520,
                                                "count": 0
                                            },
                                            {
                                                "bin_start": 365520,
                                                "bin_end": 404013.3333333333,
                                                "count": 0
                                            },
                                            {
                                                "bin_start": 404013.3333333333,
                                                "bin_end": 442506.6666666666,
                                                "count": 0
                                            },
                                            {
                                                "bin_start": 442506.6666666666,
                                                "bin_end": 481000,
                                                "count": 1
                                            }
                                        ]
                                    }
                                },
                                {
                                    "name": "_deepnote_index_column",
                                    "dtype": "int64"
                                }
                            ],
                            "rows": [
                                {
                                    "body_type": "Coup\u00e9",
                                    "money": "136677.27272727274",
                                    "_deepnote_index_column": "0"
                                },
                                {
                                    "body_type": "Crossover",
                                    "money": "127400.0",
                                    "_deepnote_index_column": "1"
                                },
                                {
                                    "body_type": "Furg\u00f3n",
                                    "money": "228603.05000000002",
                                    "_deepnote_index_column": "2"
                                },
                                {
                                    "body_type": "Hatchback",
                                    "money": "159569.17117391317",
                                    "_deepnote_index_column": "3"
                                },
                                {
                                    "body_type": "Minivan",
                                    "money": "481000.0",
                                    "_deepnote_index_column": "4"
                                },
                                {
                                    "body_type": "Monovolumen",
                                    "money": "201370.2888888889",
                                    "_deepnote_index_column": "5"
                                },
                                {
                                    "body_type": "Pick-Up",
                                    "money": "320168.3953333334",
                                    "_deepnote_index_column": "6"
                                },
                                {
                                    "body_type": "Rural",
                                    "money": "96066.66666666667",
                                    "_deepnote_index_column": "7"
                                },
                                {
                                    "body_type": "SUV",
                                    "money": "275120.1949846154",
                                    "_deepnote_index_column": "8"
                                },
                                {
                                    "body_type": "Sed\u00e1n",
                                    "money": "189859.79946938777",
                                    "_deepnote_index_column": "9"
                                }
                            ]
                        },
                        "text/plain": "     body_type          money\n0        Coup\u00e9  136677.272727\n1    Crossover  127400.000000\n2       Furg\u00f3n  228603.050000\n3    Hatchback  159569.171174\n4      Minivan  481000.000000\n5  Monovolumen  201370.288889\n6      Pick-Up  320168.395333\n7        Rural   96066.666667\n8          SUV  275120.194985\n9        Sed\u00e1n  189859.799469",
                        "text/html": "<div>\n<style scoped>\n    .dataframe tbody tr th:only-of-type {\n        vertical-align: middle;\n    }\n\n    .dataframe tbody tr th {\n        vertical-align: top;\n    }\n\n    .dataframe thead th {\n        text-align: right;\n    }\n</style>\n<table border=\"1\" class=\"dataframe\">\n  <thead>\n    <tr style=\"text-align: right;\">\n      <th></th>\n      <th>body_type</th>\n      <th>money</th>\n    </tr>\n  </thead>\n  <tbody>\n    <tr>\n      <th>0</th>\n      <td>Coup\u00e9</td>\n      <td>136677.272727</td>\n    </tr>\n    <tr>\n      <th>1</th>\n      <td>Crossover</td>\n      <td>127400.000000</td>\n    </tr>\n    <tr>\n      <th>2</th>\n      <td>Furg\u00f3n</td>\n      <td>228603.050000</td>\n    </tr>\n    <tr>\n      <th>3</th>\n      <td>Hatchback</td>\n      <td>159569.171174</td>\n    </tr>\n    <tr>\n      <th>4</th>\n      <td>Minivan</td>\n      <td>481000.000000</td>\n    </tr>\n    <tr>\n      <th>5</th>\n      <td>Monovolumen</td>\n      <td>201370.288889</td>\n    </tr>\n    <tr>\n      <th>6</th>\n      <td>Pick-Up</td>\n      <td>320168.395333</td>\n    </tr>\n    <tr>\n      <th>7</th>\n      <td>Rural</td>\n      <td>96066.666667</td>\n    </tr>\n    <tr>\n      <th>8</th>\n      <td>SUV</td>\n      <td>275120.194985</td>\n    </tr>\n    <tr>\n      <th>9</th>\n      <td>Sed\u00e1n</td>\n      <td>189859.799469</td>\n    </tr>\n  </tbody>\n</table>\n</div>"
                    },
                    "metadata": {}
                }
            ]
        },
        {
            "metadata": {
                "tags": [],
                "cell_id": "fc037369d1264c27af05a28682c7c537",
                "deepnote_app_coordinates": {
                    "h": 5,
                    "w": 12,
                    "x": 0,
                    "y": 319
                },
                "deepnote_cell_type": "markdown"
            },
            "cell_type": "markdown",
            "source": "The most expensive vehicles have a **Minivan** body_type while the least expensive ones have a **Rural** body_type"
        },
        {
            "metadata": {
                "tags": [],
                "cell_id": "08b7b91eb08f4f8ea81d4325f94cec8c",
                "source_hash": "1c4eb0fb",
                "execution_start": 1671890640159,
                "execution_millis": 0,
                "deepnote_app_coordinates": {
                    "h": 5,
                    "w": 12,
                    "x": 0,
                    "y": 313
                },
                "deepnote_to_be_reexecuted": false,
                "deepnote_cell_type": "code"
            },
            "cell_type": "code",
            "source": "## Grouping vehicles according to both body-type and fuel-type\ndf_grp2 = new_df[['fuel_type', 'body_type', 'money']]\ngrouped_table = df_grp2.groupby(['fuel_type', 'body_type'], as_index=False).mean()",
            "execution_count": 50,
            "outputs": []
        },
        {
            "metadata": {
                "tags": [],
                "cell_id": "9bc6fd0d46c44b52a878e83ced0b22d6",
                "source_hash": "b7ab0814",
                "execution_start": 1671890648459,
                "execution_millis": 6,
                "deepnote_app_coordinates": {
                    "h": 5,
                    "w": 12,
                    "x": 0,
                    "y": 325
                },
                "deepnote_to_be_reexecuted": false,
                "deepnote_cell_type": "code"
            },
            "cell_type": "code",
            "source": "grouped_table",
            "execution_count": 51,
            "outputs": [
                {
                    "output_type": "execute_result",
                    "execution_count": 51,
                    "data": {
                        "application/vnd.deepnote.dataframe.v3+json": {
                            "column_count": 3,
                            "row_count": 22,
                            "columns": [
                                {
                                    "name": "fuel_type",
                                    "dtype": "object",
                                    "stats": {
                                        "unique_count": 4,
                                        "nan_count": 0,
                                        "categories": [
                                            {
                                                "name": "Nafta",
                                                "count": 9
                                            },
                                            {
                                                "name": "Di\u00e9sel",
                                                "count": 7
                                            },
                                            {
                                                "name": "2 others",
                                                "count": 6
                                            }
                                        ]
                                    }
                                },
                                {
                                    "name": "body_type",
                                    "dtype": "object",
                                    "stats": {
                                        "unique_count": 10,
                                        "nan_count": 0,
                                        "categories": [
                                            {
                                                "name": "SUV",
                                                "count": 4
                                            },
                                            {
                                                "name": "Sed\u00e1n",
                                                "count": 4
                                            },
                                            {
                                                "name": "8 others",
                                                "count": 14
                                            }
                                        ]
                                    }
                                },
                                {
                                    "name": "money",
                                    "dtype": "float64",
                                    "stats": {
                                        "unique_count": 22,
                                        "nan_count": 0,
                                        "min": "36990.0",
                                        "max": "618280.0",
                                        "histogram": [
                                            {
                                                "bin_start": 36990,
                                                "bin_end": 95119,
                                                "count": 1
                                            },
                                            {
                                                "bin_start": 95119,
                                                "bin_end": 153248,
                                                "count": 7
                                            },
                                            {
                                                "bin_start": 153248,
                                                "bin_end": 211377,
                                                "count": 7
                                            },
                                            {
                                                "bin_start": 211377,
                                                "bin_end": 269506,
                                                "count": 2
                                            },
                                            {
                                                "bin_start": 269506,
                                                "bin_end": 327635,
                                                "count": 2
                                            },
                                            {
                                                "bin_start": 327635,
                                                "bin_end": 385764,
                                                "count": 1
                                            },
                                            {
                                                "bin_start": 385764,
                                                "bin_end": 443893,
                                                "count": 0
                                            },
                                            {
                                                "bin_start": 443893,
                                                "bin_end": 502022,
                                                "count": 1
                                            },
                                            {
                                                "bin_start": 502022,
                                                "bin_end": 560151,
                                                "count": 0
                                            },
                                            {
                                                "bin_start": 560151,
                                                "bin_end": 618280,
                                                "count": 1
                                            }
                                        ]
                                    }
                                },
                                {
                                    "name": "_deepnote_index_column",
                                    "dtype": "int64"
                                }
                            ],
                            "rows": [
                                {
                                    "fuel_type": "Di\u00e9sel",
                                    "body_type": "Furg\u00f3n",
                                    "money": "305497.4",
                                    "_deepnote_index_column": "0"
                                },
                                {
                                    "fuel_type": "Di\u00e9sel",
                                    "body_type": "Hatchback",
                                    "money": "187213.0",
                                    "_deepnote_index_column": "1"
                                },
                                {
                                    "fuel_type": "Di\u00e9sel",
                                    "body_type": "Minivan",
                                    "money": "481000.0",
                                    "_deepnote_index_column": "2"
                                },
                                {
                                    "fuel_type": "Di\u00e9sel",
                                    "body_type": "Monovolumen",
                                    "money": "149326.66666666666",
                                    "_deepnote_index_column": "3"
                                },
                                {
                                    "fuel_type": "Di\u00e9sel",
                                    "body_type": "Pick-Up",
                                    "money": "345492.86666666664",
                                    "_deepnote_index_column": "4"
                                },
                                {
                                    "fuel_type": "Di\u00e9sel",
                                    "body_type": "SUV",
                                    "money": "122134.34999999999",
                                    "_deepnote_index_column": "5"
                                },
                                {
                                    "fuel_type": "Di\u00e9sel",
                                    "body_type": "Sed\u00e1n",
                                    "money": "185053.05",
                                    "_deepnote_index_column": "6"
                                },
                                {
                                    "fuel_type": "H\u00edbrido/Nafta",
                                    "body_type": "SUV",
                                    "money": "618280.0",
                                    "_deepnote_index_column": "7"
                                },
                                {
                                    "fuel_type": "H\u00edbrido/Nafta",
                                    "body_type": "Sed\u00e1n",
                                    "money": "36990.0",
                                    "_deepnote_index_column": "8"
                                },
                                {
                                    "fuel_type": "Nafta",
                                    "body_type": "Coup\u00e9",
                                    "money": "136677.27272727274",
                                    "_deepnote_index_column": "9"
                                }
                            ]
                        },
                        "text/plain": "        fuel_type    body_type          money\n0          Di\u00e9sel       Furg\u00f3n  305497.400000\n1          Di\u00e9sel    Hatchback  187213.000000\n2          Di\u00e9sel      Minivan  481000.000000\n3          Di\u00e9sel  Monovolumen  149326.666667\n4          Di\u00e9sel      Pick-Up  345492.866667\n5          Di\u00e9sel          SUV  122134.350000\n6          Di\u00e9sel        Sed\u00e1n  185053.050000\n7   H\u00edbrido/Nafta          SUV  618280.000000\n8   H\u00edbrido/Nafta        Sed\u00e1n   36990.000000\n9           Nafta        Coup\u00e9  136677.272727\n10          Nafta    Crossover  127400.000000\n11          Nafta       Furg\u00f3n  151708.700000\n12          Nafta    Hatchback  159222.826989\n13          Nafta  Monovolumen  229927.966667\n14          Nafta      Pick-Up  193546.038667\n15          Nafta        Rural   96066.666667\n16          Nafta          SUV  280659.241932\n17          Nafta        Sed\u00e1n  192963.136723\n18      Nafta/GNC    Hatchback  160191.200000\n19      Nafta/GNC  Monovolumen  139183.200000\n20      Nafta/GNC          SUV  217100.000000\n21      Nafta/GNC        Sed\u00e1n  178817.600000",
                        "text/html": "<div>\n<style scoped>\n    .dataframe tbody tr th:only-of-type {\n        vertical-align: middle;\n    }\n\n    .dataframe tbody tr th {\n        vertical-align: top;\n    }\n\n    .dataframe thead th {\n        text-align: right;\n    }\n</style>\n<table border=\"1\" class=\"dataframe\">\n  <thead>\n    <tr style=\"text-align: right;\">\n      <th></th>\n      <th>fuel_type</th>\n      <th>body_type</th>\n      <th>money</th>\n    </tr>\n  </thead>\n  <tbody>\n    <tr>\n      <th>0</th>\n      <td>Di\u00e9sel</td>\n      <td>Furg\u00f3n</td>\n      <td>305497.400000</td>\n    </tr>\n    <tr>\n      <th>1</th>\n      <td>Di\u00e9sel</td>\n      <td>Hatchback</td>\n      <td>187213.000000</td>\n    </tr>\n    <tr>\n      <th>2</th>\n      <td>Di\u00e9sel</td>\n      <td>Minivan</td>\n      <td>481000.000000</td>\n    </tr>\n    <tr>\n      <th>3</th>\n      <td>Di\u00e9sel</td>\n      <td>Monovolumen</td>\n      <td>149326.666667</td>\n    </tr>\n    <tr>\n      <th>4</th>\n      <td>Di\u00e9sel</td>\n      <td>Pick-Up</td>\n      <td>345492.866667</td>\n    </tr>\n    <tr>\n      <th>5</th>\n      <td>Di\u00e9sel</td>\n      <td>SUV</td>\n      <td>122134.350000</td>\n    </tr>\n    <tr>\n      <th>6</th>\n      <td>Di\u00e9sel</td>\n      <td>Sed\u00e1n</td>\n      <td>185053.050000</td>\n    </tr>\n    <tr>\n      <th>7</th>\n      <td>H\u00edbrido/Nafta</td>\n      <td>SUV</td>\n      <td>618280.000000</td>\n    </tr>\n    <tr>\n      <th>8</th>\n      <td>H\u00edbrido/Nafta</td>\n      <td>Sed\u00e1n</td>\n      <td>36990.000000</td>\n    </tr>\n    <tr>\n      <th>9</th>\n      <td>Nafta</td>\n      <td>Coup\u00e9</td>\n      <td>136677.272727</td>\n    </tr>\n    <tr>\n      <th>10</th>\n      <td>Nafta</td>\n      <td>Crossover</td>\n      <td>127400.000000</td>\n    </tr>\n    <tr>\n      <th>11</th>\n      <td>Nafta</td>\n      <td>Furg\u00f3n</td>\n      <td>151708.700000</td>\n    </tr>\n    <tr>\n      <th>12</th>\n      <td>Nafta</td>\n      <td>Hatchback</td>\n      <td>159222.826989</td>\n    </tr>\n    <tr>\n      <th>13</th>\n      <td>Nafta</td>\n      <td>Monovolumen</td>\n      <td>229927.966667</td>\n    </tr>\n    <tr>\n      <th>14</th>\n      <td>Nafta</td>\n      <td>Pick-Up</td>\n      <td>193546.038667</td>\n    </tr>\n    <tr>\n      <th>15</th>\n      <td>Nafta</td>\n      <td>Rural</td>\n      <td>96066.666667</td>\n    </tr>\n    <tr>\n      <th>16</th>\n      <td>Nafta</td>\n      <td>SUV</td>\n      <td>280659.241932</td>\n    </tr>\n    <tr>\n      <th>17</th>\n      <td>Nafta</td>\n      <td>Sed\u00e1n</td>\n      <td>192963.136723</td>\n    </tr>\n    <tr>\n      <th>18</th>\n      <td>Nafta/GNC</td>\n      <td>Hatchback</td>\n      <td>160191.200000</td>\n    </tr>\n    <tr>\n      <th>19</th>\n      <td>Nafta/GNC</td>\n      <td>Monovolumen</td>\n      <td>139183.200000</td>\n    </tr>\n    <tr>\n      <th>20</th>\n      <td>Nafta/GNC</td>\n      <td>SUV</td>\n      <td>217100.000000</td>\n    </tr>\n    <tr>\n      <th>21</th>\n      <td>Nafta/GNC</td>\n      <td>Sed\u00e1n</td>\n      <td>178817.600000</td>\n    </tr>\n  </tbody>\n</table>\n</div>"
                    },
                    "metadata": {}
                }
            ]
        },
        {
            "metadata": {
                "tags": [],
                "cell_id": "b2d868d725de4bf18e5bb51745e3398b",
                "deepnote_app_coordinates": {
                    "h": 5,
                    "w": 12,
                    "x": 0,
                    "y": 337
                },
                "deepnote_cell_type": "markdown"
            },
            "cell_type": "markdown",
            "source": "The most expensive combination is the **SUV(H\u00edbrido/Nafta).** while the least expensive combination is the **SUV(Di\u00e9sel)**"
        },
        {
            "metadata": {
                "tags": [],
                "cell_id": "2cb0f3d5d42e4aa7959d52d3ef7b42ca",
                "source_hash": "d57364d2",
                "execution_start": 1671894761003,
                "execution_millis": 37,
                "deepnote_app_coordinates": {
                    "h": 5,
                    "w": 12,
                    "x": 0,
                    "y": 0
                },
                "deepnote_to_be_reexecuted": false,
                "deepnote_cell_type": "code"
            },
            "cell_type": "code",
            "source": "df_grp3 = new_df[['brand', 'money']]\ndf_grp3.groupby(['brand'], as_index=False).mean()",
            "execution_count": 83,
            "outputs": [
                {
                    "output_type": "execute_result",
                    "execution_count": 83,
                    "data": {
                        "application/vnd.deepnote.dataframe.v3+json": {
                            "column_count": 2,
                            "row_count": 27,
                            "columns": [
                                {
                                    "name": "brand",
                                    "dtype": "object",
                                    "stats": {
                                        "unique_count": 27,
                                        "nan_count": 0,
                                        "categories": [
                                            {
                                                "name": "Audi",
                                                "count": 1
                                            },
                                            {
                                                "name": "BMW",
                                                "count": 1
                                            },
                                            {
                                                "name": "25 others",
                                                "count": 25
                                            }
                                        ]
                                    }
                                },
                                {
                                    "name": "money",
                                    "dtype": "float64",
                                    "stats": {
                                        "unique_count": 27,
                                        "nan_count": 0,
                                        "min": "9450.0",
                                        "max": "538714.7999999999",
                                        "histogram": [
                                            {
                                                "bin_start": 9450,
                                                "bin_end": 62376.479999999996,
                                                "count": 2
                                            },
                                            {
                                                "bin_start": 62376.479999999996,
                                                "bin_end": 115302.95999999999,
                                                "count": 4
                                            },
                                            {
                                                "bin_start": 115302.95999999999,
                                                "bin_end": 168229.44,
                                                "count": 4
                                            },
                                            {
                                                "bin_start": 168229.44,
                                                "bin_end": 221155.91999999998,
                                                "count": 6
                                            },
                                            {
                                                "bin_start": 221155.91999999998,
                                                "bin_end": 274082.39999999997,
                                                "count": 7
                                            },
                                            {
                                                "bin_start": 274082.39999999997,
                                                "bin_end": 327008.88,
                                                "count": 2
                                            },
                                            {
                                                "bin_start": 327008.88,
                                                "bin_end": 379935.36,
                                                "count": 0
                                            },
                                            {
                                                "bin_start": 379935.36,
                                                "bin_end": 432861.83999999997,
                                                "count": 1
                                            },
                                            {
                                                "bin_start": 432861.83999999997,
                                                "bin_end": 485788.31999999995,
                                                "count": 0
                                            },
                                            {
                                                "bin_start": 485788.31999999995,
                                                "bin_end": 538714.7999999999,
                                                "count": 1
                                            }
                                        ]
                                    }
                                },
                                {
                                    "name": "_deepnote_index_column",
                                    "dtype": "int64"
                                }
                            ],
                            "rows": [
                                {
                                    "brand": "Audi",
                                    "money": "233690.55000000002",
                                    "_deepnote_index_column": "0"
                                },
                                {
                                    "brand": "BMW",
                                    "money": "81219.23076923077",
                                    "_deepnote_index_column": "1"
                                },
                                {
                                    "brand": "Baic",
                                    "money": "300560.0",
                                    "_deepnote_index_column": "2"
                                },
                                {
                                    "brand": "Chery",
                                    "money": "171600.0",
                                    "_deepnote_index_column": "3"
                                },
                                {
                                    "brand": "Chevrolet",
                                    "money": "195085.7333333333",
                                    "_deepnote_index_column": "4"
                                },
                                {
                                    "brand": "Citro\u00ebn",
                                    "money": "177032.1875",
                                    "_deepnote_index_column": "5"
                                },
                                {
                                    "brand": "DS",
                                    "money": "538714.7999999999",
                                    "_deepnote_index_column": "6"
                                },
                                {
                                    "brand": "Dodge",
                                    "money": "383890.0",
                                    "_deepnote_index_column": "7"
                                },
                                {
                                    "brand": "Fiat",
                                    "money": "164124.6",
                                    "_deepnote_index_column": "8"
                                },
                                {
                                    "brand": "Ford",
                                    "money": "233793.47368421053",
                                    "_deepnote_index_column": "9"
                                }
                            ]
                        },
                        "text/plain": "            brand          money\n0            Audi  233690.550000\n1             BMW   81219.230769\n2            Baic  300560.000000\n3           Chery  171600.000000\n4       Chevrolet  195085.733333\n5         Citro\u00ebn  177032.187500\n6              DS  538714.800000\n7           Dodge  383890.000000\n8            Fiat  164124.600000\n9            Ford  233793.473684\n10          Honda  241329.933333\n11        Hyundai  243283.288889\n12           Jeep  267852.540000\n13            Kia  116793.333333\n14  Mercedes-Benz   93682.342857\n15           Mini   17250.000000\n16     Mitsubishi  175489.500000\n17         Nissan  228733.700000\n18        Peugeot  184780.415265\n19        Porsche   79900.000000\n20            RAM  166560.800000\n21        Renault  178896.061067\n22         Subaru  130000.000000\n23         Suzuki   98540.000000\n24         Toyota  291892.298870\n25     Volkswagen  254079.171545\n26          Volvo    9450.000000",
                        "text/html": "<div>\n<style scoped>\n    .dataframe tbody tr th:only-of-type {\n        vertical-align: middle;\n    }\n\n    .dataframe tbody tr th {\n        vertical-align: top;\n    }\n\n    .dataframe thead th {\n        text-align: right;\n    }\n</style>\n<table border=\"1\" class=\"dataframe\">\n  <thead>\n    <tr style=\"text-align: right;\">\n      <th></th>\n      <th>brand</th>\n      <th>money</th>\n    </tr>\n  </thead>\n  <tbody>\n    <tr>\n      <th>0</th>\n      <td>Audi</td>\n      <td>233690.550000</td>\n    </tr>\n    <tr>\n      <th>1</th>\n      <td>BMW</td>\n      <td>81219.230769</td>\n    </tr>\n    <tr>\n      <th>2</th>\n      <td>Baic</td>\n      <td>300560.000000</td>\n    </tr>\n    <tr>\n      <th>3</th>\n      <td>Chery</td>\n      <td>171600.000000</td>\n    </tr>\n    <tr>\n      <th>4</th>\n      <td>Chevrolet</td>\n      <td>195085.733333</td>\n    </tr>\n    <tr>\n      <th>5</th>\n      <td>Citro\u00ebn</td>\n      <td>177032.187500</td>\n    </tr>\n    <tr>\n      <th>6</th>\n      <td>DS</td>\n      <td>538714.800000</td>\n    </tr>\n    <tr>\n      <th>7</th>\n      <td>Dodge</td>\n      <td>383890.000000</td>\n    </tr>\n    <tr>\n      <th>8</th>\n      <td>Fiat</td>\n      <td>164124.600000</td>\n    </tr>\n    <tr>\n      <th>9</th>\n      <td>Ford</td>\n      <td>233793.473684</td>\n    </tr>\n    <tr>\n      <th>10</th>\n      <td>Honda</td>\n      <td>241329.933333</td>\n    </tr>\n    <tr>\n      <th>11</th>\n      <td>Hyundai</td>\n      <td>243283.288889</td>\n    </tr>\n    <tr>\n      <th>12</th>\n      <td>Jeep</td>\n      <td>267852.540000</td>\n    </tr>\n    <tr>\n      <th>13</th>\n      <td>Kia</td>\n      <td>116793.333333</td>\n    </tr>\n    <tr>\n      <th>14</th>\n      <td>Mercedes-Benz</td>\n      <td>93682.342857</td>\n    </tr>\n    <tr>\n      <th>15</th>\n      <td>Mini</td>\n      <td>17250.000000</td>\n    </tr>\n    <tr>\n      <th>16</th>\n      <td>Mitsubishi</td>\n      <td>175489.500000</td>\n    </tr>\n    <tr>\n      <th>17</th>\n      <td>Nissan</td>\n      <td>228733.700000</td>\n    </tr>\n    <tr>\n      <th>18</th>\n      <td>Peugeot</td>\n      <td>184780.415265</td>\n    </tr>\n    <tr>\n      <th>19</th>\n      <td>Porsche</td>\n      <td>79900.000000</td>\n    </tr>\n    <tr>\n      <th>20</th>\n      <td>RAM</td>\n      <td>166560.800000</td>\n    </tr>\n    <tr>\n      <th>21</th>\n      <td>Renault</td>\n      <td>178896.061067</td>\n    </tr>\n    <tr>\n      <th>22</th>\n      <td>Subaru</td>\n      <td>130000.000000</td>\n    </tr>\n    <tr>\n      <th>23</th>\n      <td>Suzuki</td>\n      <td>98540.000000</td>\n    </tr>\n    <tr>\n      <th>24</th>\n      <td>Toyota</td>\n      <td>291892.298870</td>\n    </tr>\n    <tr>\n      <th>25</th>\n      <td>Volkswagen</td>\n      <td>254079.171545</td>\n    </tr>\n    <tr>\n      <th>26</th>\n      <td>Volvo</td>\n      <td>9450.000000</td>\n    </tr>\n  </tbody>\n</table>\n</div>"
                    },
                    "metadata": {}
                }
            ]
        },
        {
            "metadata": {
                "tags": [],
                "cell_id": "a17d7bdb43eb4996aeaa201e1bdac25f",
                "deepnote_app_coordinates": {
                    "h": 5,
                    "w": 12,
                    "x": 0,
                    "y": 0
                },
                "deepnote_cell_type": "markdown"
            },
            "cell_type": "markdown",
            "source": "The most expensive car brand is **the DS** while the least expensive one is **the BMW** "
        },
        {
            "metadata": {
                "tags": [],
                "cell_id": "735a38140bf341249962c60fca67911f",
                "source_hash": "6a27a09a",
                "execution_start": 1671891066555,
                "execution_millis": 17,
                "deepnote_app_coordinates": {
                    "h": 5,
                    "w": 12,
                    "x": 0,
                    "y": 331
                },
                "deepnote_to_be_reexecuted": false,
                "deepnote_cell_type": "code"
            },
            "cell_type": "code",
            "source": "grp_pivot = grouped_table.pivot(index='fuel_type', columns='body_type')\ngrp_pivot ",
            "execution_count": 53,
            "outputs": [
                {
                    "output_type": "execute_result",
                    "execution_count": 53,
                    "data": {
                        "application/vnd.deepnote.dataframe.v3+json": {
                            "column_count": 10,
                            "row_count": 4,
                            "columns": [
                                {
                                    "name": "money Coup\u00e9",
                                    "dtype": "float64",
                                    "stats": {
                                        "unique_count": 1,
                                        "nan_count": 3,
                                        "min": "136677.27272727274",
                                        "max": "136677.27272727274",
                                        "histogram": [
                                            {
                                                "bin_start": 136676.77272727274,
                                                "bin_end": 136676.87272727274,
                                                "count": 0
                                            },
                                            {
                                                "bin_start": 136676.87272727274,
                                                "bin_end": 136676.97272727275,
                                                "count": 0
                                            },
                                            {
                                                "bin_start": 136676.97272727275,
                                                "bin_end": 136677.07272727272,
                                                "count": 0
                                            },
                                            {
                                                "bin_start": 136677.07272727272,
                                                "bin_end": 136677.17272727273,
                                                "count": 0
                                            },
                                            {
                                                "bin_start": 136677.17272727273,
                                                "bin_end": 136677.27272727274,
                                                "count": 0
                                            },
                                            {
                                                "bin_start": 136677.27272727274,
                                                "bin_end": 136677.37272727274,
                                                "count": 1
                                            },
                                            {
                                                "bin_start": 136677.37272727274,
                                                "bin_end": 136677.47272727275,
                                                "count": 0
                                            },
                                            {
                                                "bin_start": 136677.47272727275,
                                                "bin_end": 136677.57272727272,
                                                "count": 0
                                            },
                                            {
                                                "bin_start": 136677.57272727272,
                                                "bin_end": 136677.67272727273,
                                                "count": 0
                                            },
                                            {
                                                "bin_start": 136677.67272727273,
                                                "bin_end": 136677.77272727274,
                                                "count": 0
                                            }
                                        ]
                                    }
                                },
                                {
                                    "name": "money Crossover",
                                    "dtype": "float64",
                                    "stats": {
                                        "unique_count": 1,
                                        "nan_count": 3,
                                        "min": "127400.0",
                                        "max": "127400.0",
                                        "histogram": [
                                            {
                                                "bin_start": 127399.5,
                                                "bin_end": 127399.6,
                                                "count": 0
                                            },
                                            {
                                                "bin_start": 127399.6,
                                                "bin_end": 127399.7,
                                                "count": 0
                                            },
                                            {
                                                "bin_start": 127399.7,
                                                "bin_end": 127399.8,
                                                "count": 0
                                            },
                                            {
                                                "bin_start": 127399.8,
                                                "bin_end": 127399.9,
                                                "count": 0
                                            },
                                            {
                                                "bin_start": 127399.9,
                                                "bin_end": 127400,
                                                "count": 0
                                            },
                                            {
                                                "bin_start": 127400,
                                                "bin_end": 127400.1,
                                                "count": 1
                                            },
                                            {
                                                "bin_start": 127400.1,
                                                "bin_end": 127400.2,
                                                "count": 0
                                            },
                                            {
                                                "bin_start": 127400.2,
                                                "bin_end": 127400.3,
                                                "count": 0
                                            },
                                            {
                                                "bin_start": 127400.3,
                                                "bin_end": 127400.4,
                                                "count": 0
                                            },
                                            {
                                                "bin_start": 127400.4,
                                                "bin_end": 127400.5,
                                                "count": 0
                                            }
                                        ]
                                    }
                                },
                                {
                                    "name": "money Furg\u00f3n",
                                    "dtype": "float64",
                                    "stats": {
                                        "unique_count": 2,
                                        "nan_count": 2,
                                        "min": "151708.7",
                                        "max": "305497.4",
                                        "histogram": [
                                            {
                                                "bin_start": 151708.7,
                                                "bin_end": 167087.57,
                                                "count": 1
                                            },
                                            {
                                                "bin_start": 167087.57,
                                                "bin_end": 182466.44,
                                                "count": 0
                                            },
                                            {
                                                "bin_start": 182466.44,
                                                "bin_end": 197845.31,
                                                "count": 0
                                            },
                                            {
                                                "bin_start": 197845.31,
                                                "bin_end": 213224.18000000002,
                                                "count": 0
                                            },
                                            {
                                                "bin_start": 213224.18000000002,
                                                "bin_end": 228603.05000000002,
                                                "count": 0
                                            },
                                            {
                                                "bin_start": 228603.05000000002,
                                                "bin_end": 243981.92,
                                                "count": 0
                                            },
                                            {
                                                "bin_start": 243981.92,
                                                "bin_end": 259360.79000000004,
                                                "count": 0
                                            },
                                            {
                                                "bin_start": 259360.79000000004,
                                                "bin_end": 274739.66000000003,
                                                "count": 0
                                            },
                                            {
                                                "bin_start": 274739.66000000003,
                                                "bin_end": 290118.53,
                                                "count": 0
                                            },
                                            {
                                                "bin_start": 290118.53,
                                                "bin_end": 305497.4,
                                                "count": 1
                                            }
                                        ]
                                    }
                                },
                                {
                                    "name": "money Hatchback",
                                    "dtype": "float64",
                                    "stats": {
                                        "unique_count": 3,
                                        "nan_count": 1,
                                        "min": "159222.8269885059",
                                        "max": "187213.0",
                                        "histogram": [
                                            {
                                                "bin_start": 159222.8269885059,
                                                "bin_end": 162021.8442896553,
                                                "count": 2
                                            },
                                            {
                                                "bin_start": 162021.8442896553,
                                                "bin_end": 164820.8615908047,
                                                "count": 0
                                            },
                                            {
                                                "bin_start": 164820.8615908047,
                                                "bin_end": 167619.87889195414,
                                                "count": 0
                                            },
                                            {
                                                "bin_start": 167619.87889195414,
                                                "bin_end": 170418.89619310354,
                                                "count": 0
                                            },
                                            {
                                                "bin_start": 170418.89619310354,
                                                "bin_end": 173217.91349425295,
                                                "count": 0
                                            },
                                            {
                                                "bin_start": 173217.91349425295,
                                                "bin_end": 176016.93079540235,
                                                "count": 0
                                            },
                                            {
                                                "bin_start": 176016.93079540235,
                                                "bin_end": 178815.94809655176,
                                                "count": 0
                                            },
                                            {
                                                "bin_start": 178815.94809655176,
                                                "bin_end": 181614.9653977012,
                                                "count": 0
                                            },
                                            {
                                                "bin_start": 181614.9653977012,
                                                "bin_end": 184413.9826988506,
                                                "count": 0
                                            },
                                            {
                                                "bin_start": 184413.9826988506,
                                                "bin_end": 187213,
                                                "count": 1
                                            }
                                        ]
                                    }
                                },
                                {
                                    "name": "money Minivan",
                                    "dtype": "float64",
                                    "stats": {
                                        "unique_count": 1,
                                        "nan_count": 3,
                                        "min": "481000.0",
                                        "max": "481000.0",
                                        "histogram": [
                                            {
                                                "bin_start": 480999.5,
                                                "bin_end": 480999.6,
                                                "count": 0
                                            },
                                            {
                                                "bin_start": 480999.6,
                                                "bin_end": 480999.7,
                                                "count": 0
                                            },
                                            {
                                                "bin_start": 480999.7,
                                                "bin_end": 480999.8,
                                                "count": 0
                                            },
                                            {
                                                "bin_start": 480999.8,
                                                "bin_end": 480999.9,
                                                "count": 0
                                            },
                                            {
                                                "bin_start": 480999.9,
                                                "bin_end": 481000,
                                                "count": 0
                                            },
                                            {
                                                "bin_start": 481000,
                                                "bin_end": 481000.1,
                                                "count": 1
                                            },
                                            {
                                                "bin_start": 481000.1,
                                                "bin_end": 481000.2,
                                                "count": 0
                                            },
                                            {
                                                "bin_start": 481000.2,
                                                "bin_end": 481000.3,
                                                "count": 0
                                            },
                                            {
                                                "bin_start": 481000.3,
                                                "bin_end": 481000.4,
                                                "count": 0
                                            },
                                            {
                                                "bin_start": 481000.4,
                                                "bin_end": 481000.5,
                                                "count": 0
                                            }
                                        ]
                                    }
                                },
                                {
                                    "name": "money Monovolumen",
                                    "dtype": "float64",
                                    "stats": {
                                        "unique_count": 3,
                                        "nan_count": 1,
                                        "min": "139183.19999999998",
                                        "max": "229927.96666666667",
                                        "histogram": [
                                            {
                                                "bin_start": 139183.19999999998,
                                                "bin_end": 148257.67666666664,
                                                "count": 1
                                            },
                                            {
                                                "bin_start": 148257.67666666664,
                                                "bin_end": 157332.15333333332,
                                                "count": 1
                                            },
                                            {
                                                "bin_start": 157332.15333333332,
                                                "bin_end": 166406.63,
                                                "count": 0
                                            },
                                            {
                                                "bin_start": 166406.63,
                                                "bin_end": 175481.10666666666,
                                                "count": 0
                                            },
                                            {
                                                "bin_start": 175481.10666666666,
                                                "bin_end": 184555.5833333333,
                                                "count": 0
                                            },
                                            {
                                                "bin_start": 184555.5833333333,
                                                "bin_end": 193630.06,
                                                "count": 0
                                            },
                                            {
                                                "bin_start": 193630.06,
                                                "bin_end": 202704.53666666668,
                                                "count": 0
                                            },
                                            {
                                                "bin_start": 202704.53666666668,
                                                "bin_end": 211779.01333333334,
                                                "count": 0
                                            },
                                            {
                                                "bin_start": 211779.01333333334,
                                                "bin_end": 220853.49,
                                                "count": 0
                                            },
                                            {
                                                "bin_start": 220853.49,
                                                "bin_end": 229927.96666666667,
                                                "count": 1
                                            }
                                        ]
                                    }
                                },
                                {
                                    "name": "money Pick-Up",
                                    "dtype": "float64",
                                    "stats": {
                                        "unique_count": 2,
                                        "nan_count": 2,
                                        "min": "193546.03866666663",
                                        "max": "345492.86666666664",
                                        "histogram": [
                                            {
                                                "bin_start": 193546.03866666663,
                                                "bin_end": 208740.72146666664,
                                                "count": 1
                                            },
                                            {
                                                "bin_start": 208740.72146666664,
                                                "bin_end": 223935.40426666662,
                                                "count": 0
                                            },
                                            {
                                                "bin_start": 223935.40426666662,
                                                "bin_end": 239130.08706666663,
                                                "count": 0
                                            },
                                            {
                                                "bin_start": 239130.08706666663,
                                                "bin_end": 254324.76986666664,
                                                "count": 0
                                            },
                                            {
                                                "bin_start": 254324.76986666664,
                                                "bin_end": 269519.45266666665,
                                                "count": 0
                                            },
                                            {
                                                "bin_start": 269519.45266666665,
                                                "bin_end": 284714.13546666666,
                                                "count": 0
                                            },
                                            {
                                                "bin_start": 284714.13546666666,
                                                "bin_end": 299908.8182666666,
                                                "count": 0
                                            },
                                            {
                                                "bin_start": 299908.8182666666,
                                                "bin_end": 315103.5010666666,
                                                "count": 0
                                            },
                                            {
                                                "bin_start": 315103.5010666666,
                                                "bin_end": 330298.18386666663,
                                                "count": 0
                                            },
                                            {
                                                "bin_start": 330298.18386666663,
                                                "bin_end": 345492.86666666664,
                                                "count": 1
                                            }
                                        ]
                                    }
                                },
                                {
                                    "name": "money Rural",
                                    "dtype": "float64",
                                    "stats": {
                                        "unique_count": 1,
                                        "nan_count": 3,
                                        "min": "96066.66666666667",
                                        "max": "96066.66666666667",
                                        "histogram": [
                                            {
                                                "bin_start": 96066.16666666667,
                                                "bin_end": 96066.26666666668,
                                                "count": 0
                                            },
                                            {
                                                "bin_start": 96066.26666666668,
                                                "bin_end": 96066.36666666667,
                                                "count": 0
                                            },
                                            {
                                                "bin_start": 96066.36666666667,
                                                "bin_end": 96066.46666666667,
                                                "count": 0
                                            },
                                            {
                                                "bin_start": 96066.46666666667,
                                                "bin_end": 96066.56666666667,
                                                "count": 0
                                            },
                                            {
                                                "bin_start": 96066.56666666667,
                                                "bin_end": 96066.66666666667,
                                                "count": 0
                                            },
                                            {
                                                "bin_start": 96066.66666666667,
                                                "bin_end": 96066.76666666668,
                                                "count": 1
                                            },
                                            {
                                                "bin_start": 96066.76666666668,
                                                "bin_end": 96066.86666666667,
                                                "count": 0
                                            },
                                            {
                                                "bin_start": 96066.86666666667,
                                                "bin_end": 96066.96666666667,
                                                "count": 0
                                            },
                                            {
                                                "bin_start": 96066.96666666667,
                                                "bin_end": 96067.06666666667,
                                                "count": 0
                                            },
                                            {
                                                "bin_start": 96067.06666666667,
                                                "bin_end": 96067.16666666667,
                                                "count": 0
                                            }
                                        ]
                                    }
                                },
                                {
                                    "name": "money SUV",
                                    "dtype": "float64",
                                    "stats": {
                                        "unique_count": 4,
                                        "nan_count": 0,
                                        "min": "122134.34999999999",
                                        "max": "618280.0",
                                        "histogram": [
                                            {
                                                "bin_start": 122134.34999999999,
                                                "bin_end": 171748.91499999998,
                                                "count": 1
                                            },
                                            {
                                                "bin_start": 171748.91499999998,
                                                "bin_end": 221363.47999999998,
                                                "count": 1
                                            },
                                            {
                                                "bin_start": 221363.47999999998,
                                                "bin_end": 270978.045,
                                                "count": 0
                                            },
                                            {
                                                "bin_start": 270978.045,
                                                "bin_end": 320592.61,
                                                "count": 1
                                            },
                                            {
                                                "bin_start": 320592.61,
                                                "bin_end": 370207.175,
                                                "count": 0
                                            },
                                            {
                                                "bin_start": 370207.175,
                                                "bin_end": 419821.74,
                                                "count": 0
                                            },
                                            {
                                                "bin_start": 419821.74,
                                                "bin_end": 469436.305,
                                                "count": 0
                                            },
                                            {
                                                "bin_start": 469436.305,
                                                "bin_end": 519050.87,
                                                "count": 0
                                            },
                                            {
                                                "bin_start": 519050.87,
                                                "bin_end": 568665.435,
                                                "count": 0
                                            },
                                            {
                                                "bin_start": 568665.435,
                                                "bin_end": 618280,
                                                "count": 1
                                            }
                                        ]
                                    }
                                },
                                {
                                    "name": "money Sed\u00e1n",
                                    "dtype": "float64",
                                    "stats": {
                                        "unique_count": 4,
                                        "nan_count": 0,
                                        "min": "36990.0",
                                        "max": "192963.1367228916",
                                        "histogram": [
                                            {
                                                "bin_start": 36990,
                                                "bin_end": 52587.31367228916,
                                                "count": 1
                                            },
                                            {
                                                "bin_start": 52587.31367228916,
                                                "bin_end": 68184.62734457832,
                                                "count": 0
                                            },
                                            {
                                                "bin_start": 68184.62734457832,
                                                "bin_end": 83781.94101686748,
                                                "count": 0
                                            },
                                            {
                                                "bin_start": 83781.94101686748,
                                                "bin_end": 99379.25468915663,
                                                "count": 0
                                            },
                                            {
                                                "bin_start": 99379.25468915663,
                                                "bin_end": 114976.5683614458,
                                                "count": 0
                                            },
                                            {
                                                "bin_start": 114976.5683614458,
                                                "bin_end": 130573.88203373496,
                                                "count": 0
                                            },
                                            {
                                                "bin_start": 130573.88203373496,
                                                "bin_end": 146171.19570602413,
                                                "count": 0
                                            },
                                            {
                                                "bin_start": 146171.19570602413,
                                                "bin_end": 161768.50937831326,
                                                "count": 0
                                            },
                                            {
                                                "bin_start": 161768.50937831326,
                                                "bin_end": 177365.82305060243,
                                                "count": 0
                                            },
                                            {
                                                "bin_start": 177365.82305060243,
                                                "bin_end": 192963.1367228916,
                                                "count": 3
                                            }
                                        ]
                                    }
                                },
                                {
                                    "name": "_deepnote_index_column",
                                    "dtype": "object"
                                }
                            ],
                            "rows": [
                                {
                                    "money Coup\u00e9": "nan",
                                    "money Crossover": "nan",
                                    "money Furg\u00f3n": "305497.4",
                                    "money Hatchback": "187213.0",
                                    "money Minivan": "481000.0",
                                    "money Monovolumen": "149326.66666666666",
                                    "money Pick-Up": "345492.86666666664",
                                    "money Rural": "nan",
                                    "money SUV": "122134.34999999999",
                                    "money Sed\u00e1n": "185053.05",
                                    "_deepnote_index_column": "Di\u00e9sel"
                                },
                                {
                                    "money Coup\u00e9": "nan",
                                    "money Crossover": "nan",
                                    "money Furg\u00f3n": "nan",
                                    "money Hatchback": "nan",
                                    "money Minivan": "nan",
                                    "money Monovolumen": "nan",
                                    "money Pick-Up": "nan",
                                    "money Rural": "nan",
                                    "money SUV": "618280.0",
                                    "money Sed\u00e1n": "36990.0",
                                    "_deepnote_index_column": "H\u00edbrido/Nafta"
                                },
                                {
                                    "money Coup\u00e9": "136677.27272727274",
                                    "money Crossover": "127400.0",
                                    "money Furg\u00f3n": "151708.7",
                                    "money Hatchback": "159222.8269885059",
                                    "money Minivan": "nan",
                                    "money Monovolumen": "229927.96666666667",
                                    "money Pick-Up": "193546.03866666663",
                                    "money Rural": "96066.66666666667",
                                    "money SUV": "280659.2419322034",
                                    "money Sed\u00e1n": "192963.1367228916",
                                    "_deepnote_index_column": "Nafta"
                                },
                                {
                                    "money Coup\u00e9": "nan",
                                    "money Crossover": "nan",
                                    "money Furg\u00f3n": "nan",
                                    "money Hatchback": "160191.2",
                                    "money Minivan": "nan",
                                    "money Monovolumen": "139183.19999999998",
                                    "money Pick-Up": "nan",
                                    "money Rural": "nan",
                                    "money SUV": "217100.0",
                                    "money Sed\u00e1n": "178817.6",
                                    "_deepnote_index_column": "Nafta/GNC"
                                }
                            ]
                        },
                        "text/plain": "                       money                                               \\\nbody_type              Coup\u00e9 Crossover    Furg\u00f3n      Hatchback   Minivan   \nfuel_type                                                                   \nDi\u00e9sel                   NaN       NaN  305497.4  187213.000000  481000.0   \nH\u00edbrido/Nafta            NaN       NaN       NaN            NaN       NaN   \nNafta          136677.272727  127400.0  151708.7  159222.826989       NaN   \nNafta/GNC                NaN       NaN       NaN  160191.200000       NaN   \n\n                                                                          \\\nbody_type        Monovolumen        Pick-Up         Rural            SUV   \nfuel_type                                                                  \nDi\u00e9sel         149326.666667  345492.866667           NaN  122134.350000   \nH\u00edbrido/Nafta            NaN            NaN           NaN  618280.000000   \nNafta          229927.966667  193546.038667  96066.666667  280659.241932   \nNafta/GNC      139183.200000            NaN           NaN  217100.000000   \n\n                              \nbody_type              Sed\u00e1n  \nfuel_type                     \nDi\u00e9sel         185053.050000  \nH\u00edbrido/Nafta   36990.000000  \nNafta          192963.136723  \nNafta/GNC      178817.600000  ",
                        "text/html": "<div>\n<style scoped>\n    .dataframe tbody tr th:only-of-type {\n        vertical-align: middle;\n    }\n\n    .dataframe tbody tr th {\n        vertical-align: top;\n    }\n\n    .dataframe thead tr th {\n        text-align: left;\n    }\n\n    .dataframe thead tr:last-of-type th {\n        text-align: right;\n    }\n</style>\n<table border=\"1\" class=\"dataframe\">\n  <thead>\n    <tr>\n      <th></th>\n      <th colspan=\"10\" halign=\"left\">money</th>\n    </tr>\n    <tr>\n      <th>body_type</th>\n      <th>Coup\u00e9</th>\n      <th>Crossover</th>\n      <th>Furg\u00f3n</th>\n      <th>Hatchback</th>\n      <th>Minivan</th>\n      <th>Monovolumen</th>\n      <th>Pick-Up</th>\n      <th>Rural</th>\n      <th>SUV</th>\n      <th>Sed\u00e1n</th>\n    </tr>\n    <tr>\n      <th>fuel_type</th>\n      <th></th>\n      <th></th>\n      <th></th>\n      <th></th>\n      <th></th>\n      <th></th>\n      <th></th>\n      <th></th>\n      <th></th>\n      <th></th>\n    </tr>\n  </thead>\n  <tbody>\n    <tr>\n      <th>Di\u00e9sel</th>\n      <td>NaN</td>\n      <td>NaN</td>\n      <td>305497.4</td>\n      <td>187213.000000</td>\n      <td>481000.0</td>\n      <td>149326.666667</td>\n      <td>345492.866667</td>\n      <td>NaN</td>\n      <td>122134.350000</td>\n      <td>185053.050000</td>\n    </tr>\n    <tr>\n      <th>H\u00edbrido/Nafta</th>\n      <td>NaN</td>\n      <td>NaN</td>\n      <td>NaN</td>\n      <td>NaN</td>\n      <td>NaN</td>\n      <td>NaN</td>\n      <td>NaN</td>\n      <td>NaN</td>\n      <td>618280.000000</td>\n      <td>36990.000000</td>\n    </tr>\n    <tr>\n      <th>Nafta</th>\n      <td>136677.272727</td>\n      <td>127400.0</td>\n      <td>151708.7</td>\n      <td>159222.826989</td>\n      <td>NaN</td>\n      <td>229927.966667</td>\n      <td>193546.038667</td>\n      <td>96066.666667</td>\n      <td>280659.241932</td>\n      <td>192963.136723</td>\n    </tr>\n    <tr>\n      <th>Nafta/GNC</th>\n      <td>NaN</td>\n      <td>NaN</td>\n      <td>NaN</td>\n      <td>160191.200000</td>\n      <td>NaN</td>\n      <td>139183.200000</td>\n      <td>NaN</td>\n      <td>NaN</td>\n      <td>217100.000000</td>\n      <td>178817.600000</td>\n    </tr>\n  </tbody>\n</table>\n</div>"
                    },
                    "metadata": {}
                }
            ]
        },
        {
            "metadata": {
                "tags": [],
                "cell_id": "a498511216464bb0a88f23cc3924b419",
                "source_hash": "36d6e5e0",
                "execution_start": 1671891083222,
                "execution_millis": 67,
                "deepnote_app_coordinates": {
                    "h": 5,
                    "w": 12,
                    "x": 0,
                    "y": 343
                },
                "deepnote_to_be_reexecuted": false,
                "deepnote_cell_type": "code"
            },
            "cell_type": "code",
            "source": "grp_pivot.fillna(0)",
            "execution_count": 54,
            "outputs": [
                {
                    "output_type": "execute_result",
                    "execution_count": 54,
                    "data": {
                        "application/vnd.deepnote.dataframe.v3+json": {
                            "column_count": 10,
                            "row_count": 4,
                            "columns": [
                                {
                                    "name": "money Coup\u00e9",
                                    "dtype": "float64",
                                    "stats": {
                                        "unique_count": 2,
                                        "nan_count": 0,
                                        "min": "0.0",
                                        "max": "136677.27272727274",
                                        "histogram": [
                                            {
                                                "bin_start": 0,
                                                "bin_end": 13667.727272727274,
                                                "count": 3
                                            },
                                            {
                                                "bin_start": 13667.727272727274,
                                                "bin_end": 27335.454545454548,
                                                "count": 0
                                            },
                                            {
                                                "bin_start": 27335.454545454548,
                                                "bin_end": 41003.18181818182,
                                                "count": 0
                                            },
                                            {
                                                "bin_start": 41003.18181818182,
                                                "bin_end": 54670.909090909096,
                                                "count": 0
                                            },
                                            {
                                                "bin_start": 54670.909090909096,
                                                "bin_end": 68338.63636363637,
                                                "count": 0
                                            },
                                            {
                                                "bin_start": 68338.63636363637,
                                                "bin_end": 82006.36363636365,
                                                "count": 0
                                            },
                                            {
                                                "bin_start": 82006.36363636365,
                                                "bin_end": 95674.09090909091,
                                                "count": 0
                                            },
                                            {
                                                "bin_start": 95674.09090909091,
                                                "bin_end": 109341.81818181819,
                                                "count": 0
                                            },
                                            {
                                                "bin_start": 109341.81818181819,
                                                "bin_end": 123009.54545454547,
                                                "count": 0
                                            },
                                            {
                                                "bin_start": 123009.54545454547,
                                                "bin_end": 136677.27272727274,
                                                "count": 1
                                            }
                                        ]
                                    }
                                },
                                {
                                    "name": "money Crossover",
                                    "dtype": "float64",
                                    "stats": {
                                        "unique_count": 2,
                                        "nan_count": 0,
                                        "min": "0.0",
                                        "max": "127400.0",
                                        "histogram": [
                                            {
                                                "bin_start": 0,
                                                "bin_end": 12740,
                                                "count": 3
                                            },
                                            {
                                                "bin_start": 12740,
                                                "bin_end": 25480,
                                                "count": 0
                                            },
                                            {
                                                "bin_start": 25480,
                                                "bin_end": 38220,
                                                "count": 0
                                            },
                                            {
                                                "bin_start": 38220,
                                                "bin_end": 50960,
                                                "count": 0
                                            },
                                            {
                                                "bin_start": 50960,
                                                "bin_end": 63700,
                                                "count": 0
                                            },
                                            {
                                                "bin_start": 63700,
                                                "bin_end": 76440,
                                                "count": 0
                                            },
                                            {
                                                "bin_start": 76440,
                                                "bin_end": 89180,
                                                "count": 0
                                            },
                                            {
                                                "bin_start": 89180,
                                                "bin_end": 101920,
                                                "count": 0
                                            },
                                            {
                                                "bin_start": 101920,
                                                "bin_end": 114660,
                                                "count": 0
                                            },
                                            {
                                                "bin_start": 114660,
                                                "bin_end": 127400,
                                                "count": 1
                                            }
                                        ]
                                    }
                                },
                                {
                                    "name": "money Furg\u00f3n",
                                    "dtype": "float64",
                                    "stats": {
                                        "unique_count": 3,
                                        "nan_count": 0,
                                        "min": "0.0",
                                        "max": "305497.4",
                                        "histogram": [
                                            {
                                                "bin_start": 0,
                                                "bin_end": 30549.74,
                                                "count": 2
                                            },
                                            {
                                                "bin_start": 30549.74,
                                                "bin_end": 61099.48,
                                                "count": 0
                                            },
                                            {
                                                "bin_start": 61099.48,
                                                "bin_end": 91649.22,
                                                "count": 0
                                            },
                                            {
                                                "bin_start": 91649.22,
                                                "bin_end": 122198.96,
                                                "count": 0
                                            },
                                            {
                                                "bin_start": 122198.96,
                                                "bin_end": 152748.7,
                                                "count": 1
                                            },
                                            {
                                                "bin_start": 152748.7,
                                                "bin_end": 183298.44,
                                                "count": 0
                                            },
                                            {
                                                "bin_start": 183298.44,
                                                "bin_end": 213848.18000000002,
                                                "count": 0
                                            },
                                            {
                                                "bin_start": 213848.18000000002,
                                                "bin_end": 244397.92,
                                                "count": 0
                                            },
                                            {
                                                "bin_start": 244397.92,
                                                "bin_end": 274947.66000000003,
                                                "count": 0
                                            },
                                            {
                                                "bin_start": 274947.66000000003,
                                                "bin_end": 305497.4,
                                                "count": 1
                                            }
                                        ]
                                    }
                                },
                                {
                                    "name": "money Hatchback",
                                    "dtype": "float64",
                                    "stats": {
                                        "unique_count": 4,
                                        "nan_count": 0,
                                        "min": "0.0",
                                        "max": "187213.0",
                                        "histogram": [
                                            {
                                                "bin_start": 0,
                                                "bin_end": 18721.3,
                                                "count": 1
                                            },
                                            {
                                                "bin_start": 18721.3,
                                                "bin_end": 37442.6,
                                                "count": 0
                                            },
                                            {
                                                "bin_start": 37442.6,
                                                "bin_end": 56163.899999999994,
                                                "count": 0
                                            },
                                            {
                                                "bin_start": 56163.899999999994,
                                                "bin_end": 74885.2,
                                                "count": 0
                                            },
                                            {
                                                "bin_start": 74885.2,
                                                "bin_end": 93606.5,
                                                "count": 0
                                            },
                                            {
                                                "bin_start": 93606.5,
                                                "bin_end": 112327.79999999999,
                                                "count": 0
                                            },
                                            {
                                                "bin_start": 112327.79999999999,
                                                "bin_end": 131049.09999999999,
                                                "count": 0
                                            },
                                            {
                                                "bin_start": 131049.09999999999,
                                                "bin_end": 149770.4,
                                                "count": 0
                                            },
                                            {
                                                "bin_start": 149770.4,
                                                "bin_end": 168491.69999999998,
                                                "count": 2
                                            },
                                            {
                                                "bin_start": 168491.69999999998,
                                                "bin_end": 187213,
                                                "count": 1
                                            }
                                        ]
                                    }
                                },
                                {
                                    "name": "money Minivan",
                                    "dtype": "float64",
                                    "stats": {
                                        "unique_count": 2,
                                        "nan_count": 0,
                                        "min": "0.0",
                                        "max": "481000.0",
                                        "histogram": [
                                            {
                                                "bin_start": 0,
                                                "bin_end": 48100,
                                                "count": 3
                                            },
                                            {
                                                "bin_start": 48100,
                                                "bin_end": 96200,
                                                "count": 0
                                            },
                                            {
                                                "bin_start": 96200,
                                                "bin_end": 144300,
                                                "count": 0
                                            },
                                            {
                                                "bin_start": 144300,
                                                "bin_end": 192400,
                                                "count": 0
                                            },
                                            {
                                                "bin_start": 192400,
                                                "bin_end": 240500,
                                                "count": 0
                                            },
                                            {
                                                "bin_start": 240500,
                                                "bin_end": 288600,
                                                "count": 0
                                            },
                                            {
                                                "bin_start": 288600,
                                                "bin_end": 336700,
                                                "count": 0
                                            },
                                            {
                                                "bin_start": 336700,
                                                "bin_end": 384800,
                                                "count": 0
                                            },
                                            {
                                                "bin_start": 384800,
                                                "bin_end": 432900,
                                                "count": 0
                                            },
                                            {
                                                "bin_start": 432900,
                                                "bin_end": 481000,
                                                "count": 1
                                            }
                                        ]
                                    }
                                },
                                {
                                    "name": "money Monovolumen",
                                    "dtype": "float64",
                                    "stats": {
                                        "unique_count": 4,
                                        "nan_count": 0,
                                        "min": "0.0",
                                        "max": "229927.96666666667",
                                        "histogram": [
                                            {
                                                "bin_start": 0,
                                                "bin_end": 22992.79666666667,
                                                "count": 1
                                            },
                                            {
                                                "bin_start": 22992.79666666667,
                                                "bin_end": 45985.59333333334,
                                                "count": 0
                                            },
                                            {
                                                "bin_start": 45985.59333333334,
                                                "bin_end": 68978.39000000001,
                                                "count": 0
                                            },
                                            {
                                                "bin_start": 68978.39000000001,
                                                "bin_end": 91971.18666666668,
                                                "count": 0
                                            },
                                            {
                                                "bin_start": 91971.18666666668,
                                                "bin_end": 114963.98333333334,
                                                "count": 0
                                            },
                                            {
                                                "bin_start": 114963.98333333334,
                                                "bin_end": 137956.78000000003,
                                                "count": 0
                                            },
                                            {
                                                "bin_start": 137956.78000000003,
                                                "bin_end": 160949.5766666667,
                                                "count": 2
                                            },
                                            {
                                                "bin_start": 160949.5766666667,
                                                "bin_end": 183942.37333333335,
                                                "count": 0
                                            },
                                            {
                                                "bin_start": 183942.37333333335,
                                                "bin_end": 206935.17,
                                                "count": 0
                                            },
                                            {
                                                "bin_start": 206935.17,
                                                "bin_end": 229927.96666666667,
                                                "count": 1
                                            }
                                        ]
                                    }
                                },
                                {
                                    "name": "money Pick-Up",
                                    "dtype": "float64",
                                    "stats": {
                                        "unique_count": 3,
                                        "nan_count": 0,
                                        "min": "0.0",
                                        "max": "345492.86666666664",
                                        "histogram": [
                                            {
                                                "bin_start": 0,
                                                "bin_end": 34549.28666666667,
                                                "count": 2
                                            },
                                            {
                                                "bin_start": 34549.28666666667,
                                                "bin_end": 69098.57333333333,
                                                "count": 0
                                            },
                                            {
                                                "bin_start": 69098.57333333333,
                                                "bin_end": 103647.86,
                                                "count": 0
                                            },
                                            {
                                                "bin_start": 103647.86,
                                                "bin_end": 138197.14666666667,
                                                "count": 0
                                            },
                                            {
                                                "bin_start": 138197.14666666667,
                                                "bin_end": 172746.43333333335,
                                                "count": 0
                                            },
                                            {
                                                "bin_start": 172746.43333333335,
                                                "bin_end": 207295.72,
                                                "count": 1
                                            },
                                            {
                                                "bin_start": 207295.72,
                                                "bin_end": 241845.00666666665,
                                                "count": 0
                                            },
                                            {
                                                "bin_start": 241845.00666666665,
                                                "bin_end": 276394.29333333333,
                                                "count": 0
                                            },
                                            {
                                                "bin_start": 276394.29333333333,
                                                "bin_end": 310943.58,
                                                "count": 0
                                            },
                                            {
                                                "bin_start": 310943.58,
                                                "bin_end": 345492.86666666664,
                                                "count": 1
                                            }
                                        ]
                                    }
                                },
                                {
                                    "name": "money Rural",
                                    "dtype": "float64",
                                    "stats": {
                                        "unique_count": 2,
                                        "nan_count": 0,
                                        "min": "0.0",
                                        "max": "96066.66666666667",
                                        "histogram": [
                                            {
                                                "bin_start": 0,
                                                "bin_end": 9606.666666666668,
                                                "count": 3
                                            },
                                            {
                                                "bin_start": 9606.666666666668,
                                                "bin_end": 19213.333333333336,
                                                "count": 0
                                            },
                                            {
                                                "bin_start": 19213.333333333336,
                                                "bin_end": 28820.000000000004,
                                                "count": 0
                                            },
                                            {
                                                "bin_start": 28820.000000000004,
                                                "bin_end": 38426.66666666667,
                                                "count": 0
                                            },
                                            {
                                                "bin_start": 38426.66666666667,
                                                "bin_end": 48033.33333333334,
                                                "count": 0
                                            },
                                            {
                                                "bin_start": 48033.33333333334,
                                                "bin_end": 57640.00000000001,
                                                "count": 0
                                            },
                                            {
                                                "bin_start": 57640.00000000001,
                                                "bin_end": 67246.66666666667,
                                                "count": 0
                                            },
                                            {
                                                "bin_start": 67246.66666666667,
                                                "bin_end": 76853.33333333334,
                                                "count": 0
                                            },
                                            {
                                                "bin_start": 76853.33333333334,
                                                "bin_end": 86460.00000000001,
                                                "count": 0
                                            },
                                            {
                                                "bin_start": 86460.00000000001,
                                                "bin_end": 96066.66666666667,
                                                "count": 1
                                            }
                                        ]
                                    }
                                },
                                {
                                    "name": "money SUV",
                                    "dtype": "float64",
                                    "stats": {
                                        "unique_count": 4,
                                        "nan_count": 0,
                                        "min": "122134.34999999999",
                                        "max": "618280.0",
                                        "histogram": [
                                            {
                                                "bin_start": 122134.34999999999,
                                                "bin_end": 171748.91499999998,
                                                "count": 1
                                            },
                                            {
                                                "bin_start": 171748.91499999998,
                                                "bin_end": 221363.47999999998,
                                                "count": 1
                                            },
                                            {
                                                "bin_start": 221363.47999999998,
                                                "bin_end": 270978.045,
                                                "count": 0
                                            },
                                            {
                                                "bin_start": 270978.045,
                                                "bin_end": 320592.61,
                                                "count": 1
                                            },
                                            {
                                                "bin_start": 320592.61,
                                                "bin_end": 370207.175,
                                                "count": 0
                                            },
                                            {
                                                "bin_start": 370207.175,
                                                "bin_end": 419821.74,
                                                "count": 0
                                            },
                                            {
                                                "bin_start": 419821.74,
                                                "bin_end": 469436.305,
                                                "count": 0
                                            },
                                            {
                                                "bin_start": 469436.305,
                                                "bin_end": 519050.87,
                                                "count": 0
                                            },
                                            {
                                                "bin_start": 519050.87,
                                                "bin_end": 568665.435,
                                                "count": 0
                                            },
                                            {
                                                "bin_start": 568665.435,
                                                "bin_end": 618280,
                                                "count": 1
                                            }
                                        ]
                                    }
                                },
                                {
                                    "name": "money Sed\u00e1n",
                                    "dtype": "float64",
                                    "stats": {
                                        "unique_count": 4,
                                        "nan_count": 0,
                                        "min": "36990.0",
                                        "max": "192963.1367228916",
                                        "histogram": [
                                            {
                                                "bin_start": 36990,
                                                "bin_end": 52587.31367228916,
                                                "count": 1
                                            },
                                            {
                                                "bin_start": 52587.31367228916,
                                                "bin_end": 68184.62734457832,
                                                "count": 0
                                            },
                                            {
                                                "bin_start": 68184.62734457832,
                                                "bin_end": 83781.94101686748,
                                                "count": 0
                                            },
                                            {
                                                "bin_start": 83781.94101686748,
                                                "bin_end": 99379.25468915663,
                                                "count": 0
                                            },
                                            {
                                                "bin_start": 99379.25468915663,
                                                "bin_end": 114976.5683614458,
                                                "count": 0
                                            },
                                            {
                                                "bin_start": 114976.5683614458,
                                                "bin_end": 130573.88203373496,
                                                "count": 0
                                            },
                                            {
                                                "bin_start": 130573.88203373496,
                                                "bin_end": 146171.19570602413,
                                                "count": 0
                                            },
                                            {
                                                "bin_start": 146171.19570602413,
                                                "bin_end": 161768.50937831326,
                                                "count": 0
                                            },
                                            {
                                                "bin_start": 161768.50937831326,
                                                "bin_end": 177365.82305060243,
                                                "count": 0
                                            },
                                            {
                                                "bin_start": 177365.82305060243,
                                                "bin_end": 192963.1367228916,
                                                "count": 3
                                            }
                                        ]
                                    }
                                },
                                {
                                    "name": "_deepnote_index_column",
                                    "dtype": "object"
                                }
                            ],
                            "rows": [
                                {
                                    "money Coup\u00e9": "0.0",
                                    "money Crossover": "0.0",
                                    "money Furg\u00f3n": "305497.4",
                                    "money Hatchback": "187213.0",
                                    "money Minivan": "481000.0",
                                    "money Monovolumen": "149326.66666666666",
                                    "money Pick-Up": "345492.86666666664",
                                    "money Rural": "0.0",
                                    "money SUV": "122134.34999999999",
                                    "money Sed\u00e1n": "185053.05",
                                    "_deepnote_index_column": "Di\u00e9sel"
                                },
                                {
                                    "money Coup\u00e9": "0.0",
                                    "money Crossover": "0.0",
                                    "money Furg\u00f3n": "0.0",
                                    "money Hatchback": "0.0",
                                    "money Minivan": "0.0",
                                    "money Monovolumen": "0.0",
                                    "money Pick-Up": "0.0",
                                    "money Rural": "0.0",
                                    "money SUV": "618280.0",
                                    "money Sed\u00e1n": "36990.0",
                                    "_deepnote_index_column": "H\u00edbrido/Nafta"
                                },
                                {
                                    "money Coup\u00e9": "136677.27272727274",
                                    "money Crossover": "127400.0",
                                    "money Furg\u00f3n": "151708.7",
                                    "money Hatchback": "159222.8269885059",
                                    "money Minivan": "0.0",
                                    "money Monovolumen": "229927.96666666667",
                                    "money Pick-Up": "193546.03866666663",
                                    "money Rural": "96066.66666666667",
                                    "money SUV": "280659.2419322034",
                                    "money Sed\u00e1n": "192963.1367228916",
                                    "_deepnote_index_column": "Nafta"
                                },
                                {
                                    "money Coup\u00e9": "0.0",
                                    "money Crossover": "0.0",
                                    "money Furg\u00f3n": "0.0",
                                    "money Hatchback": "160191.2",
                                    "money Minivan": "0.0",
                                    "money Monovolumen": "139183.19999999998",
                                    "money Pick-Up": "0.0",
                                    "money Rural": "0.0",
                                    "money SUV": "217100.0",
                                    "money Sed\u00e1n": "178817.6",
                                    "_deepnote_index_column": "Nafta/GNC"
                                }
                            ]
                        },
                        "text/plain": "                       money                                               \\\nbody_type              Coup\u00e9 Crossover    Furg\u00f3n      Hatchback   Minivan   \nfuel_type                                                                   \nDi\u00e9sel              0.000000       0.0  305497.4  187213.000000  481000.0   \nH\u00edbrido/Nafta       0.000000       0.0       0.0       0.000000       0.0   \nNafta          136677.272727  127400.0  151708.7  159222.826989       0.0   \nNafta/GNC           0.000000       0.0       0.0  160191.200000       0.0   \n\n                                                                          \\\nbody_type        Monovolumen        Pick-Up         Rural            SUV   \nfuel_type                                                                  \nDi\u00e9sel         149326.666667  345492.866667      0.000000  122134.350000   \nH\u00edbrido/Nafta       0.000000       0.000000      0.000000  618280.000000   \nNafta          229927.966667  193546.038667  96066.666667  280659.241932   \nNafta/GNC      139183.200000       0.000000      0.000000  217100.000000   \n\n                              \nbody_type              Sed\u00e1n  \nfuel_type                     \nDi\u00e9sel         185053.050000  \nH\u00edbrido/Nafta   36990.000000  \nNafta          192963.136723  \nNafta/GNC      178817.600000  ",
                        "text/html": "<div>\n<style scoped>\n    .dataframe tbody tr th:only-of-type {\n        vertical-align: middle;\n    }\n\n    .dataframe tbody tr th {\n        vertical-align: top;\n    }\n\n    .dataframe thead tr th {\n        text-align: left;\n    }\n\n    .dataframe thead tr:last-of-type th {\n        text-align: right;\n    }\n</style>\n<table border=\"1\" class=\"dataframe\">\n  <thead>\n    <tr>\n      <th></th>\n      <th colspan=\"10\" halign=\"left\">money</th>\n    </tr>\n    <tr>\n      <th>body_type</th>\n      <th>Coup\u00e9</th>\n      <th>Crossover</th>\n      <th>Furg\u00f3n</th>\n      <th>Hatchback</th>\n      <th>Minivan</th>\n      <th>Monovolumen</th>\n      <th>Pick-Up</th>\n      <th>Rural</th>\n      <th>SUV</th>\n      <th>Sed\u00e1n</th>\n    </tr>\n    <tr>\n      <th>fuel_type</th>\n      <th></th>\n      <th></th>\n      <th></th>\n      <th></th>\n      <th></th>\n      <th></th>\n      <th></th>\n      <th></th>\n      <th></th>\n      <th></th>\n    </tr>\n  </thead>\n  <tbody>\n    <tr>\n      <th>Di\u00e9sel</th>\n      <td>0.000000</td>\n      <td>0.0</td>\n      <td>305497.4</td>\n      <td>187213.000000</td>\n      <td>481000.0</td>\n      <td>149326.666667</td>\n      <td>345492.866667</td>\n      <td>0.000000</td>\n      <td>122134.350000</td>\n      <td>185053.050000</td>\n    </tr>\n    <tr>\n      <th>H\u00edbrido/Nafta</th>\n      <td>0.000000</td>\n      <td>0.0</td>\n      <td>0.0</td>\n      <td>0.000000</td>\n      <td>0.0</td>\n      <td>0.000000</td>\n      <td>0.000000</td>\n      <td>0.000000</td>\n      <td>618280.000000</td>\n      <td>36990.000000</td>\n    </tr>\n    <tr>\n      <th>Nafta</th>\n      <td>136677.272727</td>\n      <td>127400.0</td>\n      <td>151708.7</td>\n      <td>159222.826989</td>\n      <td>0.0</td>\n      <td>229927.966667</td>\n      <td>193546.038667</td>\n      <td>96066.666667</td>\n      <td>280659.241932</td>\n      <td>192963.136723</td>\n    </tr>\n    <tr>\n      <th>Nafta/GNC</th>\n      <td>0.000000</td>\n      <td>0.0</td>\n      <td>0.0</td>\n      <td>160191.200000</td>\n      <td>0.0</td>\n      <td>139183.200000</td>\n      <td>0.000000</td>\n      <td>0.000000</td>\n      <td>217100.000000</td>\n      <td>178817.600000</td>\n    </tr>\n  </tbody>\n</table>\n</div>"
                    },
                    "metadata": {}
                }
            ]
        },
        {
            "metadata": {
                "tags": [],
                "cell_id": "a0040ef4b6254700a3842c2f6389b2b3",
                "deepnote_app_coordinates": {
                    "h": 5,
                    "w": 12,
                    "x": 0,
                    "y": 355
                },
                "deepnote_cell_type": "markdown"
            },
            "cell_type": "markdown",
            "source": "### Exploring the relationship between the fuel-type and gear"
        },
        {
            "metadata": {
                "tags": [],
                "cell_id": "34d509ad628f41109c99ce03978a5002",
                "deepnote_app_coordinates": {
                    "h": 5,
                    "w": 12,
                    "x": 0,
                    "y": 385
                },
                "deepnote_cell_type": "markdown"
            },
            "cell_type": "markdown",
            "source": "Using the chi-square test one can test for the relationship between categorical variables specifically ordinal and nominal variables."
        },
        {
            "metadata": {
                "tags": [],
                "cell_id": "e0a2ba0a1e894549ae9e005da1c155b2",
                "source_hash": "5816c15d",
                "execution_start": 1671891597182,
                "execution_millis": 37,
                "deepnote_app_coordinates": {
                    "h": 5,
                    "w": 12,
                    "x": 0,
                    "y": 349
                },
                "deepnote_to_be_reexecuted": false,
                "deepnote_cell_type": "code"
            },
            "cell_type": "code",
            "source": "fuelVbody = pd.crosstab(new_df.fuel_type, new_df.gear)",
            "execution_count": 58,
            "outputs": []
        },
        {
            "metadata": {
                "tags": [],
                "cell_id": "92b7f51fb7ea43f597c8ae9770e6b2ed",
                "source_hash": "f6d38d3b",
                "execution_start": 1671891599629,
                "execution_millis": 18,
                "deepnote_app_coordinates": {
                    "h": 5,
                    "w": 12,
                    "x": 0,
                    "y": 361
                },
                "deepnote_to_be_reexecuted": false,
                "deepnote_cell_type": "code"
            },
            "cell_type": "code",
            "source": "fuelVbody",
            "execution_count": 59,
            "outputs": [
                {
                    "output_type": "execute_result",
                    "execution_count": 59,
                    "data": {
                        "application/vnd.deepnote.dataframe.v3+json": {
                            "column_count": 2,
                            "row_count": 4,
                            "columns": [
                                {
                                    "name": "Autom\u00e1tica",
                                    "dtype": "int64",
                                    "stats": {
                                        "unique_count": 3,
                                        "nan_count": 0,
                                        "min": "3",
                                        "max": "171",
                                        "histogram": [
                                            {
                                                "bin_start": 3,
                                                "bin_end": 19.8,
                                                "count": 2
                                            },
                                            {
                                                "bin_start": 19.8,
                                                "bin_end": 36.6,
                                                "count": 1
                                            },
                                            {
                                                "bin_start": 36.6,
                                                "bin_end": 53.400000000000006,
                                                "count": 0
                                            },
                                            {
                                                "bin_start": 53.400000000000006,
                                                "bin_end": 70.2,
                                                "count": 0
                                            },
                                            {
                                                "bin_start": 70.2,
                                                "bin_end": 87,
                                                "count": 0
                                            },
                                            {
                                                "bin_start": 87,
                                                "bin_end": 103.80000000000001,
                                                "count": 0
                                            },
                                            {
                                                "bin_start": 103.80000000000001,
                                                "bin_end": 120.60000000000001,
                                                "count": 0
                                            },
                                            {
                                                "bin_start": 120.60000000000001,
                                                "bin_end": 137.4,
                                                "count": 0
                                            },
                                            {
                                                "bin_start": 137.4,
                                                "bin_end": 154.20000000000002,
                                                "count": 0
                                            },
                                            {
                                                "bin_start": 154.20000000000002,
                                                "bin_end": 171,
                                                "count": 1
                                            }
                                        ]
                                    }
                                },
                                {
                                    "name": "Manual",
                                    "dtype": "int64",
                                    "stats": {
                                        "unique_count": 4,
                                        "nan_count": 0,
                                        "min": "0",
                                        "max": "244",
                                        "histogram": [
                                            {
                                                "bin_start": 0,
                                                "bin_end": 24.4,
                                                "count": 2
                                            },
                                            {
                                                "bin_start": 24.4,
                                                "bin_end": 48.8,
                                                "count": 1
                                            },
                                            {
                                                "bin_start": 48.8,
                                                "bin_end": 73.19999999999999,
                                                "count": 0
                                            },
                                            {
                                                "bin_start": 73.19999999999999,
                                                "bin_end": 97.6,
                                                "count": 0
                                            },
                                            {
                                                "bin_start": 97.6,
                                                "bin_end": 122,
                                                "count": 0
                                            },
                                            {
                                                "bin_start": 122,
                                                "bin_end": 146.39999999999998,
                                                "count": 0
                                            },
                                            {
                                                "bin_start": 146.39999999999998,
                                                "bin_end": 170.79999999999998,
                                                "count": 0
                                            },
                                            {
                                                "bin_start": 170.79999999999998,
                                                "bin_end": 195.2,
                                                "count": 0
                                            },
                                            {
                                                "bin_start": 195.2,
                                                "bin_end": 219.6,
                                                "count": 0
                                            },
                                            {
                                                "bin_start": 219.6,
                                                "bin_end": 244,
                                                "count": 1
                                            }
                                        ]
                                    }
                                },
                                {
                                    "name": "_deepnote_index_column",
                                    "dtype": "object"
                                }
                            ],
                            "rows": [
                                {
                                    "Autom\u00e1tica": "34",
                                    "Manual": "37",
                                    "_deepnote_index_column": "Di\u00e9sel"
                                },
                                {
                                    "Autom\u00e1tica": "3",
                                    "Manual": "0",
                                    "_deepnote_index_column": "H\u00edbrido/Nafta"
                                },
                                {
                                    "Autom\u00e1tica": "171",
                                    "Manual": "244",
                                    "_deepnote_index_column": "Nafta"
                                },
                                {
                                    "Autom\u00e1tica": "3",
                                    "Manual": "16",
                                    "_deepnote_index_column": "Nafta/GNC"
                                }
                            ]
                        },
                        "text/plain": "gear           Autom\u00e1tica  Manual\nfuel_type                        \nDi\u00e9sel                 34      37\nH\u00edbrido/Nafta           3       0\nNafta                 171     244\nNafta/GNC               3      16",
                        "text/html": "<div>\n<style scoped>\n    .dataframe tbody tr th:only-of-type {\n        vertical-align: middle;\n    }\n\n    .dataframe tbody tr th {\n        vertical-align: top;\n    }\n\n    .dataframe thead th {\n        text-align: right;\n    }\n</style>\n<table border=\"1\" class=\"dataframe\">\n  <thead>\n    <tr style=\"text-align: right;\">\n      <th>gear</th>\n      <th>Autom\u00e1tica</th>\n      <th>Manual</th>\n    </tr>\n    <tr>\n      <th>fuel_type</th>\n      <th></th>\n      <th></th>\n    </tr>\n  </thead>\n  <tbody>\n    <tr>\n      <th>Di\u00e9sel</th>\n      <td>34</td>\n      <td>37</td>\n    </tr>\n    <tr>\n      <th>H\u00edbrido/Nafta</th>\n      <td>3</td>\n      <td>0</td>\n    </tr>\n    <tr>\n      <th>Nafta</th>\n      <td>171</td>\n      <td>244</td>\n    </tr>\n    <tr>\n      <th>Nafta/GNC</th>\n      <td>3</td>\n      <td>16</td>\n    </tr>\n  </tbody>\n</table>\n</div>"
                    },
                    "metadata": {}
                }
            ]
        },
        {
            "metadata": {
                "tags": [],
                "cell_id": "1488ea1801c44dddb7ea2f395c63ed72",
                "source_hash": "b14added",
                "execution_start": 1671891757021,
                "execution_millis": 9,
                "deepnote_app_coordinates": {
                    "h": 5,
                    "w": 12,
                    "x": 0,
                    "y": 367
                },
                "deepnote_to_be_reexecuted": false,
                "deepnote_cell_type": "code"
            },
            "cell_type": "code",
            "source": "## Using the chi square to establish whether a relationship exists between body-type and fuel-type\nchi2, p_value, d_f, _ = stats.chi2_contingency(fuelVbody, correction=True)\nprint(f'The chi_square is {chi2}')\nprint(f'The p-value is {p_value}')\nprint(f'Degrees of freedom: {d_f}')",
            "execution_count": 61,
            "outputs": [
                {
                    "name": "stdout",
                    "text": "The chi_square is 10.607409812320535\nThe p-value is 0.014049699308681714\nDegrees of freedom: 3\n",
                    "output_type": "stream"
                }
            ]
        },
        {
            "metadata": {
                "tags": [],
                "cell_id": "a5213663bf2d4fe1acb4a9a4493c5f92",
                "deepnote_app_coordinates": {
                    "h": 5,
                    "w": 12,
                    "x": 0,
                    "y": 391
                },
                "deepnote_cell_type": "markdown"
            },
            "cell_type": "markdown",
            "source": "Since the p-value is less than 0.05 we can reject the null hypothesis and conclude that a relationship exists between the two variables."
        },
        {
            "metadata": {
                "tags": [],
                "cell_id": "6db923f47d3b4b4d9e66feda6e4cdcfa",
                "deepnote_app_coordinates": {
                    "h": 5,
                    "w": 12,
                    "x": 0,
                    "y": 379
                },
                "deepnote_cell_type": "markdown"
            },
            "cell_type": "markdown",
            "source": ""
        },
        {
            "metadata": {
                "tags": [],
                "cell_id": "d775bfd128f64220809048826769c302",
                "deepnote_app_coordinates": {
                    "h": 5,
                    "w": 12,
                    "x": 0,
                    "y": 403
                },
                "deepnote_cell_type": "markdown"
            },
            "cell_type": "markdown",
            "source": "#### Converting categorical variables with two specific categories into numeric variables ('One Hot Encoding')"
        },
        {
            "metadata": {
                "tags": [],
                "cell_id": "e17b27b2d1884898b84c8478c7ccd356",
                "source_hash": "2e7636c7",
                "execution_start": 1671892173597,
                "execution_millis": 34,
                "deepnote_app_coordinates": {
                    "h": 5,
                    "w": 12,
                    "x": 0,
                    "y": 373
                },
                "deepnote_to_be_reexecuted": false,
                "deepnote_cell_type": "code"
            },
            "cell_type": "code",
            "source": "## Converting the gear column to numeric values\nnew_gear = pd.get_dummies(new_df.gear)\nnew_gear",
            "execution_count": 64,
            "outputs": [
                {
                    "output_type": "execute_result",
                    "execution_count": 64,
                    "data": {
                        "application/vnd.deepnote.dataframe.v3+json": {
                            "column_count": 2,
                            "row_count": 508,
                            "columns": [
                                {
                                    "name": "Autom\u00e1tica",
                                    "dtype": "uint8",
                                    "stats": {
                                        "unique_count": 2,
                                        "nan_count": 0,
                                        "min": "0",
                                        "max": "1",
                                        "histogram": [
                                            {
                                                "bin_start": 0,
                                                "bin_end": 0.1,
                                                "count": 297
                                            },
                                            {
                                                "bin_start": 0.1,
                                                "bin_end": 0.2,
                                                "count": 0
                                            },
                                            {
                                                "bin_start": 0.2,
                                                "bin_end": 0.30000000000000004,
                                                "count": 0
                                            },
                                            {
                                                "bin_start": 0.30000000000000004,
                                                "bin_end": 0.4,
                                                "count": 0
                                            },
                                            {
                                                "bin_start": 0.4,
                                                "bin_end": 0.5,
                                                "count": 0
                                            },
                                            {
                                                "bin_start": 0.5,
                                                "bin_end": 0.6000000000000001,
                                                "count": 0
                                            },
                                            {
                                                "bin_start": 0.6000000000000001,
                                                "bin_end": 0.7000000000000001,
                                                "count": 0
                                            },
                                            {
                                                "bin_start": 0.7000000000000001,
                                                "bin_end": 0.8,
                                                "count": 0
                                            },
                                            {
                                                "bin_start": 0.8,
                                                "bin_end": 0.9,
                                                "count": 0
                                            },
                                            {
                                                "bin_start": 0.9,
                                                "bin_end": 1,
                                                "count": 211
                                            }
                                        ]
                                    }
                                },
                                {
                                    "name": "Manual",
                                    "dtype": "uint8",
                                    "stats": {
                                        "unique_count": 2,
                                        "nan_count": 0,
                                        "min": "0",
                                        "max": "1",
                                        "histogram": [
                                            {
                                                "bin_start": 0,
                                                "bin_end": 0.1,
                                                "count": 211
                                            },
                                            {
                                                "bin_start": 0.1,
                                                "bin_end": 0.2,
                                                "count": 0
                                            },
                                            {
                                                "bin_start": 0.2,
                                                "bin_end": 0.30000000000000004,
                                                "count": 0
                                            },
                                            {
                                                "bin_start": 0.30000000000000004,
                                                "bin_end": 0.4,
                                                "count": 0
                                            },
                                            {
                                                "bin_start": 0.4,
                                                "bin_end": 0.5,
                                                "count": 0
                                            },
                                            {
                                                "bin_start": 0.5,
                                                "bin_end": 0.6000000000000001,
                                                "count": 0
                                            },
                                            {
                                                "bin_start": 0.6000000000000001,
                                                "bin_end": 0.7000000000000001,
                                                "count": 0
                                            },
                                            {
                                                "bin_start": 0.7000000000000001,
                                                "bin_end": 0.8,
                                                "count": 0
                                            },
                                            {
                                                "bin_start": 0.8,
                                                "bin_end": 0.9,
                                                "count": 0
                                            },
                                            {
                                                "bin_start": 0.9,
                                                "bin_end": 1,
                                                "count": 297
                                            }
                                        ]
                                    }
                                },
                                {
                                    "name": "_deepnote_index_column",
                                    "dtype": "int64"
                                }
                            ],
                            "rows": [
                                {
                                    "Autom\u00e1tica": "1",
                                    "Manual": "0",
                                    "_deepnote_index_column": "0"
                                },
                                {
                                    "Autom\u00e1tica": "1",
                                    "Manual": "0",
                                    "_deepnote_index_column": "1"
                                },
                                {
                                    "Autom\u00e1tica": "1",
                                    "Manual": "0",
                                    "_deepnote_index_column": "2"
                                },
                                {
                                    "Autom\u00e1tica": "1",
                                    "Manual": "0",
                                    "_deepnote_index_column": "3"
                                },
                                {
                                    "Autom\u00e1tica": "0",
                                    "Manual": "1",
                                    "_deepnote_index_column": "4"
                                },
                                {
                                    "Autom\u00e1tica": "1",
                                    "Manual": "0",
                                    "_deepnote_index_column": "5"
                                },
                                {
                                    "Autom\u00e1tica": "1",
                                    "Manual": "0",
                                    "_deepnote_index_column": "6"
                                },
                                {
                                    "Autom\u00e1tica": "1",
                                    "Manual": "0",
                                    "_deepnote_index_column": "7"
                                },
                                {
                                    "Autom\u00e1tica": "1",
                                    "Manual": "0",
                                    "_deepnote_index_column": "8"
                                },
                                {
                                    "Autom\u00e1tica": "1",
                                    "Manual": "0",
                                    "_deepnote_index_column": "9"
                                }
                            ]
                        },
                        "text/plain": "     Autom\u00e1tica  Manual\n0             1       0\n1             1       0\n2             1       0\n3             1       0\n4             0       1\n..          ...     ...\n505           1       0\n506           1       0\n507           0       1\n508           1       0\n509           0       1\n\n[508 rows x 2 columns]",
                        "text/html": "<div>\n<style scoped>\n    .dataframe tbody tr th:only-of-type {\n        vertical-align: middle;\n    }\n\n    .dataframe tbody tr th {\n        vertical-align: top;\n    }\n\n    .dataframe thead th {\n        text-align: right;\n    }\n</style>\n<table border=\"1\" class=\"dataframe\">\n  <thead>\n    <tr style=\"text-align: right;\">\n      <th></th>\n      <th>Autom\u00e1tica</th>\n      <th>Manual</th>\n    </tr>\n  </thead>\n  <tbody>\n    <tr>\n      <th>0</th>\n      <td>1</td>\n      <td>0</td>\n    </tr>\n    <tr>\n      <th>1</th>\n      <td>1</td>\n      <td>0</td>\n    </tr>\n    <tr>\n      <th>2</th>\n      <td>1</td>\n      <td>0</td>\n    </tr>\n    <tr>\n      <th>3</th>\n      <td>1</td>\n      <td>0</td>\n    </tr>\n    <tr>\n      <th>4</th>\n      <td>0</td>\n      <td>1</td>\n    </tr>\n    <tr>\n      <th>...</th>\n      <td>...</td>\n      <td>...</td>\n    </tr>\n    <tr>\n      <th>505</th>\n      <td>1</td>\n      <td>0</td>\n    </tr>\n    <tr>\n      <th>506</th>\n      <td>1</td>\n      <td>0</td>\n    </tr>\n    <tr>\n      <th>507</th>\n      <td>0</td>\n      <td>1</td>\n    </tr>\n    <tr>\n      <th>508</th>\n      <td>1</td>\n      <td>0</td>\n    </tr>\n    <tr>\n      <th>509</th>\n      <td>0</td>\n      <td>1</td>\n    </tr>\n  </tbody>\n</table>\n<p>508 rows \u00d7 2 columns</p>\n</div>"
                    },
                    "metadata": {}
                }
            ]
        },
        {
            "metadata": {
                "tags": [],
                "cell_id": "6a2e379bd04b4f9cb0dd8bf184cd9a3c",
                "source_hash": "ea31327f",
                "execution_start": 1671892191719,
                "execution_millis": 55,
                "deepnote_table_state": {
                    "sortBy": [],
                    "filters": [],
                    "pageSize": 10,
                    "pageIndex": 2
                },
                "deepnote_table_loading": false,
                "deepnote_app_coordinates": {
                    "h": 5,
                    "w": 12,
                    "x": 0,
                    "y": 397
                },
                "deepnote_to_be_reexecuted": false,
                "deepnote_cell_type": "code"
            },
            "cell_type": "code",
            "source": "pd.concat([new_df, new_gear], axis=1)",
            "execution_count": 65,
            "outputs": [
                {
                    "output_type": "execute_result",
                    "execution_count": 68,
                    "data": {
                        "application/vnd.deepnote.dataframe.v3+json": {
                            "column_count": 13,
                            "row_count": 508,
                            "columns": [
                                {
                                    "name": "money",
                                    "dtype": "float64",
                                    "stats": {
                                        "unique_count": 341,
                                        "nan_count": 0,
                                        "min": "8000.0",
                                        "max": "743548.0",
                                        "histogram": [
                                            {
                                                "bin_start": 8000,
                                                "bin_end": 81554.8,
                                                "count": 75
                                            },
                                            {
                                                "bin_start": 81554.8,
                                                "bin_end": 155109.6,
                                                "count": 115
                                            },
                                            {
                                                "bin_start": 155109.6,
                                                "bin_end": 228664.40000000002,
                                                "count": 142
                                            },
                                            {
                                                "bin_start": 228664.40000000002,
                                                "bin_end": 302219.2,
                                                "count": 60
                                            },
                                            {
                                                "bin_start": 302219.2,
                                                "bin_end": 375774,
                                                "count": 43
                                            },
                                            {
                                                "bin_start": 375774,
                                                "bin_end": 449328.80000000005,
                                                "count": 32
                                            },
                                            {
                                                "bin_start": 449328.80000000005,
                                                "bin_end": 522883.60000000003,
                                                "count": 15
                                            },
                                            {
                                                "bin_start": 522883.60000000003,
                                                "bin_end": 596438.4,
                                                "count": 16
                                            },
                                            {
                                                "bin_start": 596438.4,
                                                "bin_end": 669993.2000000001,
                                                "count": 8
                                            },
                                            {
                                                "bin_start": 669993.2000000001,
                                                "bin_end": 743548,
                                                "count": 2
                                            }
                                        ]
                                    }
                                },
                                {
                                    "name": "brand",
                                    "dtype": "object",
                                    "stats": {
                                        "unique_count": 27,
                                        "nan_count": 0,
                                        "categories": [
                                            {
                                                "name": "Volkswagen",
                                                "count": 88
                                            },
                                            {
                                                "name": "Ford",
                                                "count": 57
                                            },
                                            {
                                                "name": "25 others",
                                                "count": 363
                                            }
                                        ]
                                    }
                                },
                                {
                                    "name": "model",
                                    "dtype": "object",
                                    "stats": {
                                        "unique_count": 157,
                                        "nan_count": 0,
                                        "categories": [
                                            {
                                                "name": "Amarok",
                                                "count": 17
                                            },
                                            {
                                                "name": "Corolla",
                                                "count": 13
                                            },
                                            {
                                                "name": "155 others",
                                                "count": 478
                                            }
                                        ]
                                    }
                                },
                                {
                                    "name": "year",
                                    "dtype": "int64",
                                    "stats": {
                                        "unique_count": 20,
                                        "nan_count": 0,
                                        "min": "1995",
                                        "max": "2022",
                                        "histogram": [
                                            {
                                                "bin_start": 1995,
                                                "bin_end": 1997.7,
                                                "count": 3
                                            },
                                            {
                                                "bin_start": 1997.7,
                                                "bin_end": 2000.4,
                                                "count": 1
                                            },
                                            {
                                                "bin_start": 2000.4,
                                                "bin_end": 2003.1,
                                                "count": 0
                                            },
                                            {
                                                "bin_start": 2003.1,
                                                "bin_end": 2005.8,
                                                "count": 0
                                            },
                                            {
                                                "bin_start": 2005.8,
                                                "bin_end": 2008.5,
                                                "count": 8
                                            },
                                            {
                                                "bin_start": 2008.5,
                                                "bin_end": 2011.2,
                                                "count": 36
                                            },
                                            {
                                                "bin_start": 2011.2,
                                                "bin_end": 2013.9,
                                                "count": 55
                                            },
                                            {
                                                "bin_start": 2013.9,
                                                "bin_end": 2016.6,
                                                "count": 127
                                            },
                                            {
                                                "bin_start": 2016.6,
                                                "bin_end": 2019.3,
                                                "count": 194
                                            },
                                            {
                                                "bin_start": 2019.3,
                                                "bin_end": 2022,
                                                "count": 84
                                            }
                                        ]
                                    }
                                },
                                {
                                    "name": "fuel_type",
                                    "dtype": "object",
                                    "stats": {
                                        "unique_count": 4,
                                        "nan_count": 0,
                                        "categories": [
                                            {
                                                "name": "Nafta",
                                                "count": 415
                                            },
                                            {
                                                "name": "Di\u00e9sel",
                                                "count": 71
                                            },
                                            {
                                                "name": "2 others",
                                                "count": 22
                                            }
                                        ]
                                    }
                                },
                                {
                                    "name": "door",
                                    "dtype": "float64",
                                    "stats": {
                                        "unique_count": 4,
                                        "nan_count": 0,
                                        "min": "2.0",
                                        "max": "5.0",
                                        "histogram": [
                                            {
                                                "bin_start": 2,
                                                "bin_end": 2.3,
                                                "count": 19
                                            },
                                            {
                                                "bin_start": 2.3,
                                                "bin_end": 2.6,
                                                "count": 0
                                            },
                                            {
                                                "bin_start": 2.6,
                                                "bin_end": 2.9,
                                                "count": 0
                                            },
                                            {
                                                "bin_start": 2.9,
                                                "bin_end": 3.2,
                                                "count": 27
                                            },
                                            {
                                                "bin_start": 3.2,
                                                "bin_end": 3.5,
                                                "count": 0
                                            },
                                            {
                                                "bin_start": 3.5,
                                                "bin_end": 3.8,
                                                "count": 0
                                            },
                                            {
                                                "bin_start": 3.8,
                                                "bin_end": 4.1,
                                                "count": 156
                                            },
                                            {
                                                "bin_start": 4.1,
                                                "bin_end": 4.4,
                                                "count": 0
                                            },
                                            {
                                                "bin_start": 4.4,
                                                "bin_end": 4.699999999999999,
                                                "count": 0
                                            },
                                            {
                                                "bin_start": 4.699999999999999,
                                                "bin_end": 5,
                                                "count": 306
                                            }
                                        ]
                                    }
                                },
                                {
                                    "name": "gear",
                                    "dtype": "object",
                                    "stats": {
                                        "unique_count": 2,
                                        "nan_count": 0,
                                        "categories": [
                                            {
                                                "name": "Manual",
                                                "count": 297
                                            },
                                            {
                                                "name": "Autom\u00e1tica",
                                                "count": 211
                                            }
                                        ]
                                    }
                                },
                                {
                                    "name": "motor",
                                    "dtype": "object",
                                    "stats": {
                                        "unique_count": 28,
                                        "nan_count": 0,
                                        "categories": [
                                            {
                                                "name": "1.6",
                                                "count": 165
                                            },
                                            {
                                                "name": "2.0",
                                                "count": 78
                                            },
                                            {
                                                "name": "26 others",
                                                "count": 265
                                            }
                                        ]
                                    }
                                },
                                {
                                    "name": "body_type",
                                    "dtype": "object",
                                    "stats": {
                                        "unique_count": 10,
                                        "nan_count": 0,
                                        "categories": [
                                            {
                                                "name": "Hatchback",
                                                "count": 184
                                            },
                                            {
                                                "name": "SUV",
                                                "count": 130
                                            },
                                            {
                                                "name": "8 others",
                                                "count": 194
                                            }
                                        ]
                                    }
                                },
                                {
                                    "name": "kilometres",
                                    "dtype": "int64",
                                    "stats": {
                                        "unique_count": 245,
                                        "nan_count": 0,
                                        "min": "500",
                                        "max": "335000",
                                        "histogram": [
                                            {
                                                "bin_start": 500,
                                                "bin_end": 33950,
                                                "count": 86
                                            },
                                            {
                                                "bin_start": 33950,
                                                "bin_end": 67400,
                                                "count": 173
                                            },
                                            {
                                                "bin_start": 67400,
                                                "bin_end": 100850,
                                                "count": 125
                                            },
                                            {
                                                "bin_start": 100850,
                                                "bin_end": 134300,
                                                "count": 70
                                            },
                                            {
                                                "bin_start": 134300,
                                                "bin_end": 167750,
                                                "count": 30
                                            },
                                            {
                                                "bin_start": 167750,
                                                "bin_end": 201200,
                                                "count": 18
                                            },
                                            {
                                                "bin_start": 201200,
                                                "bin_end": 234650,
                                                "count": 3
                                            },
                                            {
                                                "bin_start": 234650,
                                                "bin_end": 268100,
                                                "count": 2
                                            },
                                            {
                                                "bin_start": 268100,
                                                "bin_end": 301550,
                                                "count": 0
                                            },
                                            {
                                                "bin_start": 301550,
                                                "bin_end": 335000,
                                                "count": 1
                                            }
                                        ]
                                    }
                                },
                                {
                                    "name": "milage_extent",
                                    "dtype": "category",
                                    "stats": {
                                        "unique_count": 3,
                                        "nan_count": 0,
                                        "categories": [
                                            {
                                                "name": "Low",
                                                "count": 411
                                            },
                                            {
                                                "name": "Medium",
                                                "count": 94
                                            },
                                            {
                                                "name": "High",
                                                "count": 3
                                            }
                                        ]
                                    }
                                },
                                {
                                    "name": "Autom\u00e1tica",
                                    "dtype": "uint8",
                                    "stats": {
                                        "unique_count": 2,
                                        "nan_count": 0,
                                        "min": "0",
                                        "max": "1",
                                        "histogram": [
                                            {
                                                "bin_start": 0,
                                                "bin_end": 0.1,
                                                "count": 297
                                            },
                                            {
                                                "bin_start": 0.1,
                                                "bin_end": 0.2,
                                                "count": 0
                                            },
                                            {
                                                "bin_start": 0.2,
                                                "bin_end": 0.30000000000000004,
                                                "count": 0
                                            },
                                            {
                                                "bin_start": 0.30000000000000004,
                                                "bin_end": 0.4,
                                                "count": 0
                                            },
                                            {
                                                "bin_start": 0.4,
                                                "bin_end": 0.5,
                                                "count": 0
                                            },
                                            {
                                                "bin_start": 0.5,
                                                "bin_end": 0.6000000000000001,
                                                "count": 0
                                            },
                                            {
                                                "bin_start": 0.6000000000000001,
                                                "bin_end": 0.7000000000000001,
                                                "count": 0
                                            },
                                            {
                                                "bin_start": 0.7000000000000001,
                                                "bin_end": 0.8,
                                                "count": 0
                                            },
                                            {
                                                "bin_start": 0.8,
                                                "bin_end": 0.9,
                                                "count": 0
                                            },
                                            {
                                                "bin_start": 0.9,
                                                "bin_end": 1,
                                                "count": 211
                                            }
                                        ]
                                    }
                                },
                                {
                                    "name": "Manual",
                                    "dtype": "uint8",
                                    "stats": {
                                        "unique_count": 2,
                                        "nan_count": 0,
                                        "min": "0",
                                        "max": "1",
                                        "histogram": [
                                            {
                                                "bin_start": 0,
                                                "bin_end": 0.1,
                                                "count": 211
                                            },
                                            {
                                                "bin_start": 0.1,
                                                "bin_end": 0.2,
                                                "count": 0
                                            },
                                            {
                                                "bin_start": 0.2,
                                                "bin_end": 0.30000000000000004,
                                                "count": 0
                                            },
                                            {
                                                "bin_start": 0.30000000000000004,
                                                "bin_end": 0.4,
                                                "count": 0
                                            },
                                            {
                                                "bin_start": 0.4,
                                                "bin_end": 0.5,
                                                "count": 0
                                            },
                                            {
                                                "bin_start": 0.5,
                                                "bin_end": 0.6000000000000001,
                                                "count": 0
                                            },
                                            {
                                                "bin_start": 0.6000000000000001,
                                                "bin_end": 0.7000000000000001,
                                                "count": 0
                                            },
                                            {
                                                "bin_start": 0.7000000000000001,
                                                "bin_end": 0.8,
                                                "count": 0
                                            },
                                            {
                                                "bin_start": 0.8,
                                                "bin_end": 0.9,
                                                "count": 0
                                            },
                                            {
                                                "bin_start": 0.9,
                                                "bin_end": 1,
                                                "count": 297
                                            }
                                        ]
                                    }
                                },
                                {
                                    "name": "_deepnote_index_column",
                                    "dtype": "int64"
                                }
                            ],
                            "rows": [
                                {
                                    "money": "213200.0",
                                    "brand": "Toyota",
                                    "model": "Etios",
                                    "year": "2018",
                                    "fuel_type": "Nafta",
                                    "door": "5.0",
                                    "gear": "Manual",
                                    "motor": "1.5",
                                    "body_type": "Sed\u00e1n",
                                    "kilometres": "80000",
                                    "milage_extent": "Low",
                                    "Autom\u00e1tica": "0",
                                    "Manual": "1",
                                    "_deepnote_index_column": "20"
                                },
                                {
                                    "money": "15000.0",
                                    "brand": "Mini",
                                    "model": "Cooper",
                                    "year": "2013",
                                    "fuel_type": "Nafta",
                                    "door": "5.0",
                                    "gear": "Manual",
                                    "motor": "1.6",
                                    "body_type": "Hatchback",
                                    "kilometres": "105000",
                                    "milage_extent": "Low",
                                    "Autom\u00e1tica": "0",
                                    "Manual": "1",
                                    "_deepnote_index_column": "21"
                                },
                                {
                                    "money": "265148.0",
                                    "brand": "Jeep",
                                    "model": "Renegade",
                                    "year": "2018",
                                    "fuel_type": "Nafta",
                                    "door": "5.0",
                                    "gear": "Manual",
                                    "motor": "1.8",
                                    "body_type": "SUV",
                                    "kilometres": "78000",
                                    "milage_extent": "Low",
                                    "Autom\u00e1tica": "0",
                                    "Manual": "1",
                                    "_deepnote_index_column": "22"
                                },
                                {
                                    "money": "431600.0",
                                    "brand": "Toyota",
                                    "model": "Hilux",
                                    "year": "2017",
                                    "fuel_type": "Di\u00e9sel",
                                    "door": "4.0",
                                    "gear": "Manual",
                                    "motor": "2.8",
                                    "body_type": "Pick-Up",
                                    "kilometres": "170000",
                                    "milage_extent": "Medium",
                                    "Autom\u00e1tica": "0",
                                    "Manual": "1",
                                    "_deepnote_index_column": "23"
                                },
                                {
                                    "money": "145600.0",
                                    "brand": "Fiat",
                                    "model": "Bravo",
                                    "year": "2013",
                                    "fuel_type": "Nafta",
                                    "door": "5.0",
                                    "gear": "Manual",
                                    "motor": "1.5",
                                    "body_type": "Hatchback",
                                    "kilometres": "124000",
                                    "milage_extent": "Medium",
                                    "Autom\u00e1tica": "0",
                                    "Manual": "1",
                                    "_deepnote_index_column": "24"
                                },
                                {
                                    "money": "234000.0",
                                    "brand": "Ford",
                                    "model": "Ecosport",
                                    "year": "2019",
                                    "fuel_type": "Nafta",
                                    "door": "5.0",
                                    "gear": "Manual",
                                    "motor": "1.5",
                                    "body_type": "SUV",
                                    "kilometres": "61000",
                                    "milage_extent": "Low",
                                    "Autom\u00e1tica": "0",
                                    "Manual": "1",
                                    "_deepnote_index_column": "25"
                                },
                                {
                                    "money": "124800.0",
                                    "brand": "Chevrolet",
                                    "model": "Classic",
                                    "year": "2014",
                                    "fuel_type": "Nafta",
                                    "door": "5.0",
                                    "gear": "Manual",
                                    "motor": "1.6",
                                    "body_type": "Hatchback",
                                    "kilometres": "38000",
                                    "milage_extent": "Low",
                                    "Autom\u00e1tica": "0",
                                    "Manual": "1",
                                    "_deepnote_index_column": "26"
                                },
                                {
                                    "money": "270400.0",
                                    "brand": "Renault",
                                    "model": "Master",
                                    "year": "2013",
                                    "fuel_type": "Di\u00e9sel",
                                    "door": "3.0",
                                    "gear": "Manual",
                                    "motor": "2.3",
                                    "body_type": "Hatchback",
                                    "kilometres": "180000",
                                    "milage_extent": "Medium",
                                    "Autom\u00e1tica": "0",
                                    "Manual": "1",
                                    "_deepnote_index_column": "27"
                                },
                                {
                                    "money": "390000.0",
                                    "brand": "Ford",
                                    "model": "Ranger",
                                    "year": "2021",
                                    "fuel_type": "Di\u00e9sel",
                                    "door": "4.0",
                                    "gear": "Manual",
                                    "motor": "2.2",
                                    "body_type": "Pick-Up",
                                    "kilometres": "55000",
                                    "milage_extent": "Low",
                                    "Autom\u00e1tica": "0",
                                    "Manual": "1",
                                    "_deepnote_index_column": "28"
                                },
                                {
                                    "money": "127400.0",
                                    "brand": "Peugeot",
                                    "model": "408",
                                    "year": "2013",
                                    "fuel_type": "Nafta",
                                    "door": "4.0",
                                    "gear": "Manual",
                                    "motor": "2",
                                    "body_type": "Sed\u00e1n",
                                    "kilometres": "95000",
                                    "milage_extent": "Low",
                                    "Autom\u00e1tica": "0",
                                    "Manual": "1",
                                    "_deepnote_index_column": "29"
                                }
                            ]
                        },
                        "text/plain": "        money       brand          model  year fuel_type  door        gear  \\\n0    538200.0      Toyota  Corolla Cross  2022     Nafta   5.0  Autom\u00e1tica   \n1    564200.0        Jeep        Compass  2022     Nafta   5.0  Autom\u00e1tica   \n2     35500.0        Jeep        Compass  2022     Nafta   5.0  Autom\u00e1tica   \n3     19000.0     Citro\u00ebn      C4 Cactus  2022     Nafta   5.0  Autom\u00e1tica   \n4    301600.0      Toyota        Corolla  2019     Nafta   4.0      Manual   \n..        ...         ...            ...   ...       ...   ...         ...   \n505  273000.0   Chevrolet        Tracker  2018     Nafta   5.0  Autom\u00e1tica   \n506   46000.0  Volkswagen         Amarok  2019    Di\u00e9sel   4.0  Autom\u00e1tica   \n507  205920.0     Peugeot           2008  2017     Nafta   5.0      Manual   \n508   44900.0  Volkswagen         Amarok  2019    Di\u00e9sel   4.0  Autom\u00e1tica   \n509  150280.0      Toyota          Etios  2015     Nafta   5.0      Manual   \n\n    motor  body_type  kilometres milage_extent  Autom\u00e1tica  Manual  \n0     2.4        SUV         500           Low           1       0  \n1     2.4        SUV         500           Low           1       0  \n2     2.4        SUV         500           Low           1       0  \n3     1.8        SUV         550           Low           1       0  \n4     1.8      Sed\u00e1n        9000           Low           0       1  \n..    ...        ...         ...           ...         ...     ...  \n505   1.8        SUV       52000           Low           1       0  \n506   3.0    Pick-Up       49000           Low           1       0  \n507   1.6        SUV       75358           Low           0       1  \n508   3.0    Pick-Up       57500           Low           1       0  \n509   1.5  Hatchback       84000           Low           0       1  \n\n[508 rows x 13 columns]",
                        "text/html": "<div>\n<style scoped>\n    .dataframe tbody tr th:only-of-type {\n        vertical-align: middle;\n    }\n\n    .dataframe tbody tr th {\n        vertical-align: top;\n    }\n\n    .dataframe thead th {\n        text-align: right;\n    }\n</style>\n<table border=\"1\" class=\"dataframe\">\n  <thead>\n    <tr style=\"text-align: right;\">\n      <th></th>\n      <th>money</th>\n      <th>brand</th>\n      <th>model</th>\n      <th>year</th>\n      <th>fuel_type</th>\n      <th>door</th>\n      <th>gear</th>\n      <th>motor</th>\n      <th>body_type</th>\n      <th>kilometres</th>\n      <th>milage_extent</th>\n      <th>Autom\u00e1tica</th>\n      <th>Manual</th>\n    </tr>\n  </thead>\n  <tbody>\n    <tr>\n      <th>0</th>\n      <td>538200.0</td>\n      <td>Toyota</td>\n      <td>Corolla Cross</td>\n      <td>2022</td>\n      <td>Nafta</td>\n      <td>5.0</td>\n      <td>Autom\u00e1tica</td>\n      <td>2.4</td>\n      <td>SUV</td>\n      <td>500</td>\n      <td>Low</td>\n      <td>1</td>\n      <td>0</td>\n    </tr>\n    <tr>\n      <th>1</th>\n      <td>564200.0</td>\n      <td>Jeep</td>\n      <td>Compass</td>\n      <td>2022</td>\n      <td>Nafta</td>\n      <td>5.0</td>\n      <td>Autom\u00e1tica</td>\n      <td>2.4</td>\n      <td>SUV</td>\n      <td>500</td>\n      <td>Low</td>\n      <td>1</td>\n      <td>0</td>\n    </tr>\n    <tr>\n      <th>2</th>\n      <td>35500.0</td>\n      <td>Jeep</td>\n      <td>Compass</td>\n      <td>2022</td>\n      <td>Nafta</td>\n      <td>5.0</td>\n      <td>Autom\u00e1tica</td>\n      <td>2.4</td>\n      <td>SUV</td>\n      <td>500</td>\n      <td>Low</td>\n      <td>1</td>\n      <td>0</td>\n    </tr>\n    <tr>\n      <th>3</th>\n      <td>19000.0</td>\n      <td>Citro\u00ebn</td>\n      <td>C4 Cactus</td>\n      <td>2022</td>\n      <td>Nafta</td>\n      <td>5.0</td>\n      <td>Autom\u00e1tica</td>\n      <td>1.8</td>\n      <td>SUV</td>\n      <td>550</td>\n      <td>Low</td>\n      <td>1</td>\n      <td>0</td>\n    </tr>\n    <tr>\n      <th>4</th>\n      <td>301600.0</td>\n      <td>Toyota</td>\n      <td>Corolla</td>\n      <td>2019</td>\n      <td>Nafta</td>\n      <td>4.0</td>\n      <td>Manual</td>\n      <td>1.8</td>\n      <td>Sed\u00e1n</td>\n      <td>9000</td>\n      <td>Low</td>\n      <td>0</td>\n      <td>1</td>\n    </tr>\n    <tr>\n      <th>...</th>\n      <td>...</td>\n      <td>...</td>\n      <td>...</td>\n      <td>...</td>\n      <td>...</td>\n      <td>...</td>\n      <td>...</td>\n      <td>...</td>\n      <td>...</td>\n      <td>...</td>\n      <td>...</td>\n      <td>...</td>\n      <td>...</td>\n    </tr>\n    <tr>\n      <th>505</th>\n      <td>273000.0</td>\n      <td>Chevrolet</td>\n      <td>Tracker</td>\n      <td>2018</td>\n      <td>Nafta</td>\n      <td>5.0</td>\n      <td>Autom\u00e1tica</td>\n      <td>1.8</td>\n      <td>SUV</td>\n      <td>52000</td>\n      <td>Low</td>\n      <td>1</td>\n      <td>0</td>\n    </tr>\n    <tr>\n      <th>506</th>\n      <td>46000.0</td>\n      <td>Volkswagen</td>\n      <td>Amarok</td>\n      <td>2019</td>\n      <td>Di\u00e9sel</td>\n      <td>4.0</td>\n      <td>Autom\u00e1tica</td>\n      <td>3.0</td>\n      <td>Pick-Up</td>\n      <td>49000</td>\n      <td>Low</td>\n      <td>1</td>\n      <td>0</td>\n    </tr>\n    <tr>\n      <th>507</th>\n      <td>205920.0</td>\n      <td>Peugeot</td>\n      <td>2008</td>\n      <td>2017</td>\n      <td>Nafta</td>\n      <td>5.0</td>\n      <td>Manual</td>\n      <td>1.6</td>\n      <td>SUV</td>\n      <td>75358</td>\n      <td>Low</td>\n      <td>0</td>\n      <td>1</td>\n    </tr>\n    <tr>\n      <th>508</th>\n      <td>44900.0</td>\n      <td>Volkswagen</td>\n      <td>Amarok</td>\n      <td>2019</td>\n      <td>Di\u00e9sel</td>\n      <td>4.0</td>\n      <td>Autom\u00e1tica</td>\n      <td>3.0</td>\n      <td>Pick-Up</td>\n      <td>57500</td>\n      <td>Low</td>\n      <td>1</td>\n      <td>0</td>\n    </tr>\n    <tr>\n      <th>509</th>\n      <td>150280.0</td>\n      <td>Toyota</td>\n      <td>Etios</td>\n      <td>2015</td>\n      <td>Nafta</td>\n      <td>5.0</td>\n      <td>Manual</td>\n      <td>1.5</td>\n      <td>Hatchback</td>\n      <td>84000</td>\n      <td>Low</td>\n      <td>0</td>\n      <td>1</td>\n    </tr>\n  </tbody>\n</table>\n<p>508 rows \u00d7 13 columns</p>\n</div>"
                    },
                    "metadata": {}
                }
            ]
        },
        {
            "metadata": {
                "tags": [],
                "cell_id": "942eccedce9e449e85aeda2b46cf21e1",
                "deepnote_app_coordinates": {
                    "h": 5,
                    "w": 12,
                    "x": 0,
                    "y": 409
                },
                "deepnote_cell_type": "markdown"
            },
            "cell_type": "markdown",
            "source": "## Task 6: Establishing correlation between the continuous variables"
        },
        {
            "metadata": {
                "tags": [],
                "cell_id": "233ead1f50854cbe8d9ad0f0d18a5490",
                "source_hash": "ed76f14d",
                "execution_start": 1671892940112,
                "execution_millis": 503,
                "deepnote_app_coordinates": {
                    "h": 5,
                    "w": 12,
                    "x": 0,
                    "y": 415
                },
                "deepnote_to_be_reexecuted": false,
                "deepnote_cell_type": "code"
            },
            "cell_type": "code",
            "source": "## Using heatmaps to establish correlation\nplot = sns.heatmap(new_df[['kilometres', 'money']].corr(), annot=True, vmax=1, vmin=-1, center=0) ",
            "execution_count": 68,
            "outputs": [
                {
                    "data": {
                        "text/plain": "<Figure size 640x480 with 2 Axes>",
                        "image/png": "[encoded data removed]"
                    },
                    "metadata": {
                        "image/png": {
                            "width": 535,
                            "height": 418
                        }
                    },
                    "output_type": "display_data"
                }
            ]
        },
        {
            "metadata": {
                "tags": [],
                "cell_id": "18bbc4b06b2b4bc4b6c601e2d2b6f6ff",
                "source_hash": "5fc7c713",
                "execution_start": 1671893600203,
                "execution_millis": 4,
                "deepnote_app_coordinates": {
                    "h": 5,
                    "w": 12,
                    "x": 0,
                    "y": 421
                },
                "deepnote_to_be_reexecuted": false,
                "deepnote_cell_type": "code"
            },
            "cell_type": "code",
            "source": "## Using scipy.stats to find the pearson relation coefficient\npearson_coef, p_value = stats.pearsonr(new_df.kilometres, new_df.money)\nprint(f'The Pearson correlation coefficient is {pearson_coef}')\nprint(f'The p_value is {p_value}') ",
            "execution_count": 71,
            "outputs": [
                {
                    "name": "stdout",
                    "text": "The Pearson correlation coefficient is -0.2713120733223262\nThe p_value is 5.067969594646583e-10\n",
                    "output_type": "stream"
                }
            ]
        },
        {
            "metadata": {
                "tags": [],
                "cell_id": "2ff948f133f1437ea74c4c7bffeb274d",
                "deepnote_app_coordinates": {
                    "h": 5,
                    "w": 12,
                    "x": 0,
                    "y": 433
                },
                "deepnote_cell_type": "markdown"
            },
            "cell_type": "markdown",
            "source": "The relationship between mileage and price is statistically significant although the correlation is weak to insignificant. Therefore, the mileage is a weak predictor of price. "
        },
        {
            "metadata": {
                "tags": [],
                "cell_id": "68d61fed417f41e2bcec4700c9d820b1",
                "source_hash": "731647b",
                "execution_start": 1671893899739,
                "execution_millis": 402,
                "deepnote_app_coordinates": {
                    "h": 5,
                    "w": 12,
                    "x": 0,
                    "y": 427
                },
                "deepnote_to_be_reexecuted": false,
                "deepnote_cell_type": "code"
            },
            "cell_type": "code",
            "source": "## Using regplot to reinforce this hypothesis\nplot = sns.regplot(x='kilometres', y='money', data=new_df)",
            "execution_count": 73,
            "outputs": [
                {
                    "data": {
                        "text/plain": "<Figure size 640x480 with 1 Axes>",
                        "image/png": "[encoded data removed]"
                    },
                    "metadata": {
                        "image/png": {
                            "width": 621,
                            "height": 432
                        }
                    },
                    "output_type": "display_data"
                }
            ]
        },
        {
            "metadata": {
                "tags": [],
                "created_in_deepnote_cell": true,
                "deepnote_cell_type": "markdown"
            },
            "cell_type": "markdown",
            "source": "<a style='text-decoration:none;line-height:16px;display:flex;color:#5B5B62;padding:10px;justify-content:end;' href='https://deepnote.com?utm_source=created-in-deepnote-cell&projectId=8248b84f-cb77-428e-86c3-1b9a37c58650' target=\"_blank\">\n<img alt='Created in deepnote.com' style='display:inline;max-height:16px;margin:0px;margin-right:7.5px;' src='data:image/svg+xml;base64,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' > </img>\nCreated in <span style='font-weight:600;margin-left:4px;'>Deepnote</span></a>"
        }
    ],
    "metadata": {
        "deepnote": {},
        "deepnote_app_layout": "article",
        "deepnote_notebook_id": "4fc9c15c584445ac8f3443d1a45006b0",
        "deepnote_execution_queue": [],
        "kernelspec": {
            "name": "python3",
            "display_name": "Python 3.10",
            "language": "python"
        },
        "language_info": {
            "name": "python",
            "version": "3.10.6",
            "mimetype": "text/x-python",
            "codemirror_mode": {
                "name": "ipython",
                "version": 3
            },
            "pygments_lexer": "ipython3",
            "nbconvert_exporter": "python",
            "file_extension": ".py"
        }
    },
    "nbformat": 4,
    "nbformat_minor": 1
}